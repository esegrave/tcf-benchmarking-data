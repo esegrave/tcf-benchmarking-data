{
 "cells": [
  {
   "cell_type": "code",
   "execution_count": 1,
   "metadata": {},
   "outputs": [],
   "source": [
    "import pandas as pd\n",
    "import numpy as np\n",
    "import util\n",
    "\n",
    "enrollment_path = './data/tn/enrollment/'\n",
    "\n",
    "years = [\n",
    "    2013\n",
    "    , 2014\n",
    "    , 2015\n",
    "    , 2016\n",
    "    , 2017\n",
    "    , 2018\n",
    "    , 2019\n",
    "]\n",
    "\n",
    "enrollment_files = [\n",
    "    'tn_enrollment_2013_cleaned.csv'\n",
    "    , 'tn_enrollment_2014_cleaned.csv'\n",
    "    , 'tn_enrollment_2015_cleaned.csv'\n",
    "    , 'tn_enrollment_2016_cleaned.csv'\n",
    "    , 'tn_enrollment_2017_cleaned.csv'\n",
    "    , 'tn_enrollment_2018_cleaned.csv'\n",
    "    , 'tn_enrollment_2019_cleaned.csv'\n",
    "]\n",
    "\n",
    "df = pd.read_csv(enrollment_path + enrollment_files[0])\n",
    "df['year'] = df.apply(lambda x: years[0], axis=1)\n",
    "\n",
    "for i in range(1, len(enrollment_files)):\n",
    "    df2 = pd.read_csv(enrollment_path + enrollment_files[i])\n",
    "    df2['year'] = df2.apply(lambda x: years[i], axis=1)\n",
    "    df = df.append(df2, ignore_index = True, sort = True)"
   ]
  },
  {
   "cell_type": "code",
   "execution_count": 2,
   "metadata": {},
   "outputs": [],
   "source": [
    "# rename All Race/Ethnic Groups to All Groups\n",
    "df['temp'] = [x if x != 'All Race/Ethnic Groups' else 'All Groups' for x in df['group_state']]\n",
    "del df['group_state']\n",
    "df = df.rename(columns={\"temp\": \"group_state\"})\n",
    "\n",
    "# drop rows with combined genders\n",
    "df = df[df['gender'] != 'M & F']\n",
    "df = df[df['gender'] != 'All Genders']"
   ]
  },
  {
   "cell_type": "code",
   "execution_count": 3,
   "metadata": {},
   "outputs": [],
   "source": [
    "df.columns\n",
    "# roll up values to get rid of gender detail\n",
    "df = df.groupby(['year', 'district_id', 'district', 'school_id', 'school', 'grade', 'group_state'], as_index=False)['num'].sum()"
   ]
  },
  {
   "cell_type": "code",
   "execution_count": 4,
   "metadata": {},
   "outputs": [],
   "source": [
    "# import 2012 values (All Grades only)\n",
    "df_2012 = pd.read_csv(enrollment_path + 'tn_enrollment_2012_nogrades_cleaned.csv')"
   ]
  },
  {
   "cell_type": "code",
   "execution_count": 5,
   "metadata": {},
   "outputs": [],
   "source": [
    "# transpose 2012 data\n",
    "df_2012 = pd.melt(df_2012, id_vars=['year', 'district_id', 'district', 'school_id', 'school']\n",
    "        , value_vars=['All Groups'\n",
    "            , 'White'\n",
    "            , 'African American'\n",
    "            , 'Hispanic'\n",
    "            , 'Asian'\n",
    "            , 'Native American'\n",
    "            , 'Free eligible'\n",
    "            , 'Reduced eligible'\n",
    "            , 'Free reduced eligible'\n",
    "            ],\n",
    "        var_name='group_state'\n",
    "        , value_name='num')\n",
    "\n",
    "# add grade column\n",
    "df_2012['grade'] = df_2012.apply(lambda x: 'All Grades', axis=1)"
   ]
  },
  {
   "cell_type": "code",
   "execution_count": 6,
   "metadata": {},
   "outputs": [],
   "source": [
    " df = df.append(df_2012, ignore_index = True, sort=True)"
   ]
  },
  {
   "cell_type": "code",
   "execution_count": 9,
   "metadata": {},
   "outputs": [
    {
     "name": "stdout",
     "output_type": "stream",
     "text": [
      "(471661, 8)\n",
      "(406535, 8)\n"
     ]
    }
   ],
   "source": [
    "def toInt(row, column):\n",
    "    try:\n",
    "        return int(row[column])\n",
    "    except:\n",
    "        return np.nan\n",
    "df['num'] = df.apply(lambda x: toInt(x, 'num'), axis = 1)\n",
    "print(df.shape)\n",
    "df = df.dropna(subset=['num'])\n",
    "df = df[df['num'] != 0]\n",
    "print(df.shape)"
   ]
  },
  {
   "cell_type": "code",
   "execution_count": 10,
   "metadata": {},
   "outputs": [
    {
     "name": "stdout",
     "output_type": "stream",
     "text": [
      "district        object\n",
      "district_id      int64\n",
      "grade           object\n",
      "group_state     object\n",
      "num            float64\n",
      "school          object\n",
      "school_id        int64\n",
      "year             int64\n",
      "dtype: object\n",
      "district       object\n",
      "district_id    object\n",
      "grade          object\n",
      "group_state    object\n",
      "num             int64\n",
      "school         object\n",
      "school_id      object\n",
      "year           object\n",
      "dtype: object\n"
     ]
    }
   ],
   "source": [
    "print(df.dtypes)\n",
    "df['district_id'] = df['district_id'].astype(str)\n",
    "df['year'] = df['year'].astype(str)\n",
    "df['school_id'] = df['school_id'].astype(str)\n",
    "df['num'] = df['num'].astype('int64')\n",
    "print(df.dtypes)"
   ]
  },
  {
   "cell_type": "code",
   "execution_count": 12,
   "metadata": {},
   "outputs": [],
   "source": [
    "# export results\n",
    "df.to_csv('./data/finalized/tn_enrollment.csv', index=False)"
   ]
  },
  {
   "cell_type": "code",
   "execution_count": null,
   "metadata": {},
   "outputs": [],
   "source": []
  }
 ],
 "metadata": {
  "kernelspec": {
   "display_name": "Python 3",
   "language": "python",
   "name": "python3"
  },
  "language_info": {
   "codemirror_mode": {
    "name": "ipython",
    "version": 3
   },
   "file_extension": ".py",
   "mimetype": "text/x-python",
   "name": "python",
   "nbconvert_exporter": "python",
   "pygments_lexer": "ipython3",
   "version": "3.7.3"
  }
 },
 "nbformat": 4,
 "nbformat_minor": 4
}
