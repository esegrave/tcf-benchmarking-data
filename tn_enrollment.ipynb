{
 "cells": [
  {
   "cell_type": "code",
   "execution_count": 1,
   "metadata": {},
   "outputs": [
    {
     "name": "stdout",
     "output_type": "stream",
     "text": [
      "   district_id         district  school_id                       school  \\\n",
      "0           10  Anderson County          2  Anderson County High School   \n",
      "1           10  Anderson County          2  Anderson County High School   \n",
      "2           10  Anderson County          2  Anderson County High School   \n",
      "3           10  Anderson County          2  Anderson County High School   \n",
      "4           10  Anderson County          2  Anderson County High School   \n",
      "\n",
      "        grade                group_state gender   num  year  \n",
      "0  All Grades     All Race/Ethnic Groups  M & F  1030  2013  \n",
      "1  All Grades                      Asian      F     1  2013  \n",
      "2  All Grades  Black or African American      M     5  2013  \n",
      "3  All Grades            Hispanic/Latino      F     1  2013  \n",
      "4  All Grades            Hispanic/Latino      M     1  2013  \n"
     ]
    }
   ],
   "source": [
    "import pandas as pd\n",
    "import numpy as np\n",
    "import util\n",
    "\n",
    "enrollment_path = './data/tn/enrollment/'\n",
    "\n",
    "years = [\n",
    "    2013\n",
    "    , 2014\n",
    "    , 2015\n",
    "    , 2016\n",
    "    , 2017\n",
    "    , 2018\n",
    "    , 2019\n",
    "]\n",
    "\n",
    "enrollment_files = [\n",
    "    'tn_enrollment_2013_cleaned.csv'\n",
    "    , 'tn_enrollment_2014_cleaned.csv'\n",
    "    , 'tn_enrollment_2015_cleaned.csv'\n",
    "    , 'tn_enrollment_2016_cleaned.csv'\n",
    "    , 'tn_enrollment_2017_cleaned.csv'\n",
    "    , 'tn_enrollment_2018_cleaned.csv'\n",
    "    , 'tn_enrollment_2019_cleaned.csv'\n",
    "]\n",
    "\n",
    "df = pd.read_csv(enrollment_path + enrollment_files[0])\n",
    "df['year'] = df.apply(lambda x: years[0], axis=1)\n",
    "\n",
    "for i in range(1, len(enrollment_files)):\n",
    "    df2 = pd.read_csv(enrollment_path + enrollment_files[i])\n",
    "    df2['year'] = df2.apply(lambda x: years[i], axis=1)\n",
    "    df = df.append(df2, ignore_index = True)"
   ]
  },
  {
   "cell_type": "code",
   "execution_count": 5,
   "metadata": {},
   "outputs": [
    {
     "name": "stdout",
     "output_type": "stream",
     "text": [
      "0                            All Race/Ethnic Groups\n",
      "1                                             Asian\n",
      "2                         Black or African American\n",
      "3                                   Hispanic/Latino\n",
      "5                                 Two or more races\n",
      "6                                             White\n",
      "265                American Indian or Alaska Native\n",
      "804       Native Hawaiian or Other Pacific Islander\n",
      "432178            American Indian or Alaskan Native\n",
      "432185                 Hispanic or Latino ethnicity\n",
      "472305                                  No response\n",
      "747240                                     Hispanic\n",
      "747246          Native Hawaiian or Pacific Islander\n",
      "977538                          Multiple Ethinicity\n",
      "Name: group_state, dtype: object\n",
      "0               M & F\n",
      "1                   F\n",
      "2                   M\n",
      "288189    All Genders\n",
      "Name: gender, dtype: object\n",
      "1                                             Asian\n",
      "2                         Black or African American\n",
      "3                                   Hispanic/Latino\n",
      "5                                 Two or more races\n",
      "6                                             White\n",
      "9                                        All Groups\n",
      "265                American Indian or Alaska Native\n",
      "804       Native Hawaiian or Other Pacific Islander\n",
      "432179            American Indian or Alaskan Native\n",
      "432186                 Hispanic or Latino ethnicity\n",
      "472306                                  No response\n",
      "747241                                     Hispanic\n",
      "747247          Native Hawaiian or Pacific Islander\n",
      "977539                          Multiple Ethinicity\n",
      "Name: group_state, dtype: object\n",
      "1    F\n",
      "2    M\n",
      "Name: gender, dtype: object\n"
     ]
    }
   ],
   "source": [
    "# rename All Race/Ethnic Groups to All Groups\n",
    "df['temp'] = [x if x != 'All Race/Ethnic Groups' else 'All Groups' for x in df['group_state']]\n",
    "del df['group_state']\n",
    "df = df.rename(columns={\"temp\": \"group_state\"})\n",
    "\n",
    "# drop rows with combined genders\n",
    "df = df[df['gender'] != 'M & F']\n",
    "df = df[df['gender'] != 'All Genders']"
   ]
  },
  {
   "cell_type": "code",
   "execution_count": 7,
   "metadata": {},
   "outputs": [],
   "source": [
    "df.columns\n",
    "# roll up values to get rid of gender detail\n",
    "df = df.groupby(['year', 'district_id', 'district', 'school_id', 'school', 'grade', 'group_state'], as_index=False)['num'].sum()"
   ]
  },
  {
   "cell_type": "code",
   "execution_count": 9,
   "metadata": {},
   "outputs": [],
   "source": [
    "# import 2012 values (All Grades only)\n",
    "df_2012 = pd.read_csv(enrollment_path + 'tn_enrollment_2012_nogrades_cleaned.csv')"
   ]
  },
  {
   "cell_type": "code",
   "execution_count": 10,
   "metadata": {},
   "outputs": [],
   "source": [
    "# transpose 2012 data\n",
    "df_2012 = pd.melt(df_2012, id_vars=['year', 'district_id', 'district', 'school_id', 'school']\n",
    "        , value_vars=['All Groups'\n",
    "            , 'White'\n",
    "            , 'African American'\n",
    "            , 'Hispanic'\n",
    "            , 'Asian'\n",
    "            , 'Native American'\n",
    "            , 'Free eligible'\n",
    "            , 'Reduced eligible'\n",
    "            , 'Free reduced eligible'\n",
    "            ],\n",
    "        var_name='group_state'\n",
    "        , value_name='num')\n",
    "\n",
    "# add grade column\n",
    "df_2012['grade'] = df_2012.apply(lambda x: 'All Grades', axis=1)"
   ]
  },
  {
   "cell_type": "code",
   "execution_count": 12,
   "metadata": {},
   "outputs": [
    {
     "name": "stderr",
     "output_type": "stream",
     "text": [
      "/Library/Frameworks/Python.framework/Versions/3.7/lib/python3.7/site-packages/pandas/core/frame.py:6692: FutureWarning: Sorting because non-concatenation axis is not aligned. A future version\n",
      "of pandas will change to not sort by default.\n",
      "\n",
      "To accept the future behavior, pass 'sort=False'.\n",
      "\n",
      "To retain the current behavior and silence the warning, pass 'sort=True'.\n",
      "\n",
      "  sort=sort)\n"
     ]
    }
   ],
   "source": [
    " df = df.append(df_2012, ignore_index = True, sort=True)"
   ]
  },
  {
   "cell_type": "code",
   "execution_count": 14,
   "metadata": {},
   "outputs": [],
   "source": [
    "df.to_csv('./data/finalized/tn_enrollment.csv', index=False)"
   ]
  }
 ],
 "metadata": {
  "kernelspec": {
   "display_name": "Python 3",
   "language": "python",
   "name": "python3"
  },
  "language_info": {
   "codemirror_mode": {
    "name": "ipython",
    "version": 3
   },
   "file_extension": ".py",
   "mimetype": "text/x-python",
   "name": "python",
   "nbconvert_exporter": "python",
   "pygments_lexer": "ipython3",
   "version": "3.7.3"
  }
 },
 "nbformat": 4,
 "nbformat_minor": 4
}
