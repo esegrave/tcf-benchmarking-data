{
 "cells": [
  {
   "cell_type": "code",
   "execution_count": 22,
   "metadata": {},
   "outputs": [],
   "source": [
    "import pandas as pd\n",
    "import numpy as np\n",
    "import util\n",
    "\n",
    "enrollment_path = './data/tx/enrollment/raw/'\n",
    "\n",
    "enrollment_files = [\n",
    "#     'Enrollment Report_Statewide_Campuses_Grade_2012-2013.csv'\n",
    "#     , 'Enrollment Report_Statewide_Campuses_Grade_2013-2014.csv'\n",
    "    'Enrollment Report_Statewide_Campuses_Grade_2014-2015.csv'\n",
    "    , 'Enrollment Report_Statewide_Campuses_Grade_2015-2016.csv'\n",
    "    , 'Enrollment Report_Statewide_Campuses_Grade_2016-2017.csv'\n",
    "    , 'Enrollment Report_Statewide_Campuses_Grade_2017-2018.csv'\n",
    "    , 'Enrollment Report_Statewide_Campuses_Grade_2018-2019.csv'\n",
    "]\n",
    "\n",
    "ethnicity_files = [\n",
    "#     'Enrollment Report_Statewide_Campuses_Grade_Ethnicity_2012-2013.csv'\n",
    "#     , 'Enrollment Report_Statewide_Campuses_Grade_Ethnicity_2013-2014.csv'\n",
    "    'Enrollment Report_Statewide_Campuses_Grade_Ethnicity_2014-2015.csv'\n",
    "    , 'Enrollment Report_Statewide_Campuses_Grade_Ethnicity_2015-2016.csv'\n",
    "    , 'Enrollment Report_Statewide_Campuses_Grade_Ethnicity_2016-2017.csv'\n",
    "    , 'Enrollment Report_Statewide_Campuses_Grade_Ethnicity_2017-2018.csv'\n",
    "    , 'Enrollment Report_Statewide_Campuses_Grade_Ethnicity_2018-2019.csv'\n",
    "]\n",
    "\n",
    "li_files = [\n",
    "    'StudPgmStateCampus15state.csv'\n",
    "    , 'StudPgmStateCampus16state.csv'\n",
    "    , 'StudPgmStateCampus17state.csv'\n",
    "    , 'StudPgmStateCampus18state.csv'\n",
    "    , 'StudPgmStateCampus19state.csv'\n",
    "]\n",
    "\n",
    "years = [x[48:52] for x in enrollment_files]\n",
    "years_li = ['2015', '2016', '2017', '2018', '2019']\n",
    "\n",
    "df = pd.read_csv(enrollment_path + enrollment_files[0], skiprows = 4)\n",
    "df['year'] = df.apply(lambda x: years[0], axis=1)\n",
    "\n",
    "for i in range(1, len(enrollment_files)):\n",
    "    df2 = pd.read_csv(enrollment_path + enrollment_files[i], skiprows = 4)\n",
    "    df2['year'] = df2.apply(lambda x: years[i], axis=1)\n",
    "    df = df.append(df2, ignore_index = True, sort = True)\n",
    "    \n",
    "df_eth = pd.read_csv(enrollment_path + ethnicity_files[0], skiprows = 4)\n",
    "df_eth['year'] = df_eth.apply(lambda x: years[0], axis=1)\n",
    "\n",
    "for i in range(1, len(ethnicity_files)):\n",
    "    df2 = pd.read_csv(enrollment_path + ethnicity_files[i], skiprows = 4)\n",
    "    df2['year'] = df2.apply(lambda x: years[i], axis=1)\n",
    "    df_eth = df_eth.append(df2, ignore_index = True, sort = True)\n",
    "    \n",
    "df_li = pd.DataFrame()\n",
    "\n",
    "for i in range(0, len(li_files)):\n",
    "    df2 = pd.read_csv(enrollment_path + li_files[i], skiprows = 6)\n",
    "    df2['year'] = df2.apply(lambda x: years_li[i], axis=1)\n",
    "    df_li = df_li.append(df2, ignore_index = True, sort = True)"
   ]
  },
  {
   "cell_type": "code",
   "execution_count": 23,
   "metadata": {},
   "outputs": [],
   "source": [
    "# rename fields in normal and ethnicity and li files\n",
    "df = df.rename(columns = {\n",
    "    'District Number': 'district_id'\n",
    "    , 'District Name': 'district'\n",
    "    , 'Campus Number': 'school_id'\n",
    "    , 'Campus Name': 'school'\n",
    "    , 'Grade Level Name': 'grade'\n",
    "    , 'Enrollment by Grade Level': 'num'\n",
    "})\n",
    "\n",
    "df_eth = df_eth.rename(columns = {\n",
    "    'District Number': 'district_id'\n",
    "    , 'District Name': 'district'\n",
    "    , 'Campus Number': 'school_id'\n",
    "    , 'Campus Name': 'school'\n",
    "    , 'Ethnicity Name': 'group_state'\n",
    "    , 'Grade Level Name': 'grade'\n",
    "    , 'Ethnicity Count': 'num'\n",
    "})\n",
    "\n",
    "df_all = df_li[['year', 'DISTRICT NUMBER', 'DISTRICT NAME', 'CAMPUS NUMBER', 'CAMPUS NAME', 'TOTAL ENROLLMENT']]\n",
    "df_all = df_all.rename(columns = {\n",
    "    'DISTRICT NUMBER': 'district_id'\n",
    "    , 'DISTRICT NAME': 'district'\n",
    "    , 'CAMPUS NUMBER': 'school_id'\n",
    "    , 'CAMPUS NAME': 'school'\n",
    "    , 'TOTAL ENROLLMENT': 'num'\n",
    "})\n",
    "\n",
    "df_li = df_li.rename(columns = {\n",
    "    'DISTRICT NUMBER': 'district_id'\n",
    "    , 'DISTRICT NAME': 'district'\n",
    "    , 'CAMPUS NUMBER': 'school_id'\n",
    "    , 'CAMPUS NAME': 'school'\n",
    "    , 'TOTAL ECONOMICALLY DISADVANTAGED STUDENTS': 'num'\n",
    "})"
   ]
  },
  {
   "cell_type": "code",
   "execution_count": 24,
   "metadata": {},
   "outputs": [],
   "source": [
    "# add All Groups field to main data and 'All Grades' field to df_li\n",
    "df['group_state'] = df.apply(lambda x: 'All Groups', axis = 1)\n",
    "df_li['group_state'] = 'Low-Income'\n",
    "df_li['grade'] = 'All Grades'\n",
    "df_all['grade'] = 'All Grades'\n",
    "df_all['group_state'] = 'All Groups'"
   ]
  },
  {
   "cell_type": "code",
   "execution_count": 25,
   "metadata": {},
   "outputs": [],
   "source": [
    "# create 'All Grades' rollup for ethnicity\n",
    "df_eth_all = df_eth\n",
    "df_eth_all = df_eth_all.groupby(['year', 'district_id', 'district', 'school_id', 'school', 'group_state'], as_index=False)['num'].sum()\n",
    "df_eth_all['grade'] = 'All Grades'"
   ]
  },
  {
   "cell_type": "code",
   "execution_count": 26,
   "metadata": {},
   "outputs": [],
   "source": [
    "# append data\n",
    "df = df.append(df_eth, ignore_index = True, sort = True)\n",
    "df = df.append(df_eth_all, ignore_index = True, sort = True)\n",
    "df = df.append(df_li, ignore_index = True, sort = True)\n",
    "df = df.append(df_all, ignore_index = True, sort = True)"
   ]
  },
  {
   "cell_type": "code",
   "execution_count": 27,
   "metadata": {},
   "outputs": [],
   "source": [
    "# drop unneeded columns\n",
    "df = df[['year', 'district_id', 'district', 'school_id', 'school', 'grade', 'group_state', 'num']]"
   ]
  },
  {
   "cell_type": "code",
   "execution_count": 28,
   "metadata": {},
   "outputs": [
    {
     "name": "stdout",
     "output_type": "stream",
     "text": [
      "(1512474, 8)\n",
      "(1512438, 8)\n"
     ]
    }
   ],
   "source": [
    "# drop rows with a null school_id\n",
    "print(df.shape)\n",
    "df = df[~df['school_id'].isna()]\n",
    "print(df.shape)"
   ]
  },
  {
   "cell_type": "code",
   "execution_count": 29,
   "metadata": {},
   "outputs": [],
   "source": [
    "# clean up grades\n",
    "df['grade'] = df['grade'].str.replace('  ', ' ')"
   ]
  },
  {
   "cell_type": "code",
   "execution_count": 30,
   "metadata": {},
   "outputs": [],
   "source": [
    "def toInt(row, column):\n",
    "    try:\n",
    "        return int(row[column])\n",
    "    except:\n",
    "        return np.nan\n",
    "df['num'] = df.apply(lambda x: toInt(x, 'num'), axis = 1)"
   ]
  },
  {
   "cell_type": "code",
   "execution_count": 31,
   "metadata": {},
   "outputs": [
    {
     "name": "stdout",
     "output_type": "stream",
     "text": [
      "(1512438, 8)\n",
      "(1013468, 8)\n"
     ]
    }
   ],
   "source": [
    "# clean 0s and nulls\n",
    "print(df.shape)\n",
    "df = df.dropna(subset=['num'])\n",
    "df = df[df['num'] > 0]\n",
    "print(df.shape)"
   ]
  },
  {
   "cell_type": "code",
   "execution_count": 32,
   "metadata": {},
   "outputs": [
    {
     "name": "stdout",
     "output_type": "stream",
     "text": [
      "year            object\n",
      "district_id    float64\n",
      "district        object\n",
      "school_id      float64\n",
      "school          object\n",
      "grade           object\n",
      "group_state     object\n",
      "num            float64\n",
      "dtype: object\n",
      "year           object\n",
      "district_id    object\n",
      "district       object\n",
      "school_id      object\n",
      "school         object\n",
      "grade          object\n",
      "group_state    object\n",
      "num             int64\n",
      "dtype: object\n"
     ]
    }
   ],
   "source": [
    "print(df.dtypes)\n",
    "df['district_id'] = df['district_id'].astype(int)\n",
    "df['district_id'] = df['district_id'].astype(str)\n",
    "df['school_id'] = df['school_id'].astype(int)\n",
    "df['school_id'] = df['school_id'].astype(str)\n",
    "df['num'] = df['num'].astype('int64')\n",
    "print(df.dtypes)"
   ]
  },
  {
   "cell_type": "code",
   "execution_count": 35,
   "metadata": {},
   "outputs": [],
   "source": [
    "# export results\n",
    "df.to_csv('./data/finalized/tx_enrollment.csv', index=False)"
   ]
  },
  {
   "cell_type": "code",
   "execution_count": null,
   "metadata": {},
   "outputs": [],
   "source": []
  }
 ],
 "metadata": {
  "kernelspec": {
   "display_name": "Python 3",
   "language": "python",
   "name": "python3"
  },
  "language_info": {
   "codemirror_mode": {
    "name": "ipython",
    "version": 3
   },
   "file_extension": ".py",
   "mimetype": "text/x-python",
   "name": "python",
   "nbconvert_exporter": "python",
   "pygments_lexer": "ipython3",
   "version": "3.7.3"
  }
 },
 "nbformat": 4,
 "nbformat_minor": 4
}
