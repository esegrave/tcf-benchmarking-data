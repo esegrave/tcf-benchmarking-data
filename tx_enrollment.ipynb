{
 "cells": [
  {
   "cell_type": "code",
   "execution_count": 4,
   "metadata": {},
   "outputs": [],
   "source": [
    "import pandas as pd\n",
    "import numpy as np\n",
    "import util\n",
    "\n",
    "enrollment_path = './data/tx/enrollment/raw/'\n",
    "\n",
    "enrollment_files = [\n",
    "    'Enrollment Report_Statewide_Campuses_Grade_2012-2013.csv'\n",
    "    , 'Enrollment Report_Statewide_Campuses_Grade_2013-2014.csv'\n",
    "    , 'Enrollment Report_Statewide_Campuses_Grade_2014-2015.csv'\n",
    "    , 'Enrollment Report_Statewide_Campuses_Grade_2015-2016.csv'\n",
    "    , 'Enrollment Report_Statewide_Campuses_Grade_2016-2017.csv'\n",
    "    , 'Enrollment Report_Statewide_Campuses_Grade_2017-2018.csv'\n",
    "    , 'Enrollment Report_Statewide_Campuses_Grade_2018-2019.csv'\n",
    "]\n",
    "\n",
    "ethnicity_files = [\n",
    "    'Enrollment Report_Statewide_Campuses_Grade_Ethnicity_2012-2013.csv'\n",
    "    , 'Enrollment Report_Statewide_Campuses_Grade_Ethnicity_2013-2014.csv'\n",
    "    , 'Enrollment Report_Statewide_Campuses_Grade_Ethnicity_2014-2015.csv'\n",
    "    , 'Enrollment Report_Statewide_Campuses_Grade_Ethnicity_2015-2016.csv'\n",
    "    , 'Enrollment Report_Statewide_Campuses_Grade_Ethnicity_2016-2017.csv'\n",
    "    , 'Enrollment Report_Statewide_Campuses_Grade_Ethnicity_2017-2018.csv'\n",
    "    , 'Enrollment Report_Statewide_Campuses_Grade_Ethnicity_2018-2019.csv'\n",
    "]\n",
    "\n",
    "li_files = [\n",
    "    'StudPgmStateCampus15state.csv'\n",
    "    , 'StudPgmStateCampus16state.csv'\n",
    "    , 'StudPgmStateCampus17state.csv'\n",
    "    , 'StudPgmStateCampus18state.csv'\n",
    "    , 'StudPgmStateCampus19state.csv'\n",
    "]\n",
    "\n",
    "years = [x[48:52] for x in enrollment_files]\n",
    "years_li = ['2015', '2016', '2017', '2018', '2019']\n",
    "\n",
    "df = pd.read_csv(enrollment_path + enrollment_files[0], skiprows = 4)\n",
    "df['year'] = df.apply(lambda x: years[0], axis=1)\n",
    "\n",
    "for i in range(1, len(enrollment_files)):\n",
    "    df2 = pd.read_csv(enrollment_path + enrollment_files[i], skiprows = 4)\n",
    "    df2['year'] = df2.apply(lambda x: years[i], axis=1)\n",
    "    df = df.append(df2, ignore_index = True, sort = True)\n",
    "    \n",
    "df_eth = pd.read_csv(enrollment_path + ethnicity_files[0], skiprows = 4)\n",
    "df_eth['year'] = df_eth.apply(lambda x: years[0], axis=1)\n",
    "\n",
    "for i in range(1, len(ethnicity_files)):\n",
    "    df2 = pd.read_csv(enrollment_path + ethnicity_files[i], skiprows = 4)\n",
    "    df2['year'] = df2.apply(lambda x: years[i], axis=1)\n",
    "    df_eth = df_eth.append(df2, ignore_index = True, sort = True)\n",
    "    \n",
    "df_li = pd.DataFrame()\n",
    "\n",
    "for i in range(0, len(li_files)):\n",
    "    df2 = pd.read_csv(enrollment_path + li_files[i], skiprows = 6)\n",
    "    df2['year'] = df2.apply(lambda x: years_li[i], axis=1)\n",
    "    df_li = df_li.append(df2, ignore_index = True, sort = True)"
   ]
  },
  {
   "cell_type": "code",
   "execution_count": 5,
   "metadata": {},
   "outputs": [
    {
     "name": "stdout",
     "output_type": "stream",
     "text": [
      "Index(['AGG_LEVEL', 'CAMPUS NAME', 'CAMPUS NUMBER', 'COUNTY NAME',\n",
      "       'COUNTY NUMBER', 'DISTRICT NAME', 'DISTRICT NUMBER', 'GRADE GROUP',\n",
      "       'REGION', 'SCOPE', 'SUM_HOMELESS', 'TOTAL AT RISK STUDENTS',\n",
      "       'TOTAL BILINGUAL STUDENTS', 'TOTAL CTE STUDENTS',\n",
      "       'TOTAL DYSLEXIC STUDENTS', 'TOTAL ECONOMICALLY DISADVANTAGED STUDENTS',\n",
      "       'TOTAL ENROLLMENT', 'TOTAL ESL STUDENTS', 'TOTAL FOSTER CARE STUDENTS',\n",
      "       'TOTAL G & T STUDENTS', 'TOTAL LEP STUDENTS',\n",
      "       'TOTAL MILITARY CONNECTED STUDENTS',\n",
      "       'TOTAL STUDENTS RECEIVING SPECIAL EDUCATION SERVICES',\n",
      "       'TOTAL TITLE I STUDENTS', 'YEAR', 'year'],\n",
      "      dtype='object')\n"
     ]
    }
   ],
   "source": [
    "print(df_li.columns)"
   ]
  },
  {
   "cell_type": "code",
   "execution_count": 6,
   "metadata": {},
   "outputs": [],
   "source": [
    "# rename fields in normal and ethnicity and li files\n",
    "df = df.rename(columns = {\n",
    "    'District Number': 'district_id'\n",
    "    , 'District Name': 'district'\n",
    "    , 'Campus Number': 'school_id'\n",
    "    , 'Campus Name': 'school'\n",
    "    , 'Grade Level Name': 'grade'\n",
    "    , 'Enrollment by Grade Level': 'num'\n",
    "})\n",
    "\n",
    "df_eth = df_eth.rename(columns = {\n",
    "    'District Number': 'district_id'\n",
    "    , 'District Name': 'district'\n",
    "    , 'Campus Number': 'school_id'\n",
    "    , 'Campus Name': 'school'\n",
    "    , 'Ethnicity Name': 'group_state'\n",
    "    , 'Grade Level Name': 'grade'\n",
    "    , 'Ethnicity Count': 'num'\n",
    "})\n",
    "\n",
    "df_li = df_li.rename(columns = {\n",
    "    'DISTRICT NUMBER': 'district_id'\n",
    "    , 'DISTRICT NAME': 'district'\n",
    "    , 'CAMPUS NUMBER': 'school_id'\n",
    "    , 'CAMPUS NAME': 'school'\n",
    "    , 'TOTAL ECONOMICALLY DISADVANTAGED STUDENTS': 'num'\n",
    "})"
   ]
  },
  {
   "cell_type": "code",
   "execution_count": 7,
   "metadata": {},
   "outputs": [],
   "source": [
    "# add All Groups field to main data and 'All Grades' field to df_li\n",
    "df['group_state'] = df.apply(lambda x: 'All Groups', axis = 1)\n",
    "df_li['group_state'] = 'Low-Income'\n",
    "df_li['grade'] = 'All Grades'"
   ]
  },
  {
   "cell_type": "code",
   "execution_count": 8,
   "metadata": {},
   "outputs": [],
   "source": [
    "# append data\n",
    "df = df.append(df_eth, ignore_index = True, sort = True)\n",
    "df = df.append(df_li, ignore_index = True, sort = True)"
   ]
  },
  {
   "cell_type": "code",
   "execution_count": 9,
   "metadata": {},
   "outputs": [],
   "source": [
    "# change negative numbers to '*'\n",
    "df['num'] = [x if x > 0 else '*' for x in df['num']]"
   ]
  },
  {
   "cell_type": "code",
   "execution_count": 10,
   "metadata": {},
   "outputs": [],
   "source": [
    "# drop unneeded columns\n",
    "df = df[['year', 'district_id', 'district', 'school_id', 'school', 'grade', 'group_state', 'num']]"
   ]
  },
  {
   "cell_type": "code",
   "execution_count": 11,
   "metadata": {},
   "outputs": [],
   "source": [
    "# drop rows with a null school_id\n",
    "df = df[~df['school_id'].isna()]"
   ]
  },
  {
   "cell_type": "code",
   "execution_count": 12,
   "metadata": {},
   "outputs": [],
   "source": [
    "# clean up grades\n",
    "df['grade'] = df['grade'].str.replace('  ', ' ')"
   ]
  },
  {
   "cell_type": "code",
   "execution_count": 13,
   "metadata": {},
   "outputs": [],
   "source": [
    "# create All Grades rollups\n",
    "grouped_by = ['year', 'district_id', 'district', 'school_id', 'school', 'group_state']\n",
    "df_grouped = df[df['num'] != '*'].groupby(by = grouped_by, as_index = False)['num'].sum()\n",
    "df_grouped['grade'] = df_grouped.apply(lambda x: 'All Grades', axis = 1)\n",
    "df = df.append(df_grouped, ignore_index = True, sort = True)"
   ]
  },
  {
   "cell_type": "code",
   "execution_count": 14,
   "metadata": {},
   "outputs": [],
   "source": [
    "def toInt(row, column):\n",
    "    try:\n",
    "        return int(row[column])\n",
    "    except:\n",
    "        return np.nan\n",
    "df['num'] = df.apply(lambda x: toInt(x, 'num'), axis = 1)"
   ]
  },
  {
   "cell_type": "code",
   "execution_count": 15,
   "metadata": {},
   "outputs": [
    {
     "name": "stdout",
     "output_type": "stream",
     "text": [
      "(1995948, 8)\n",
      "(1477200, 8)\n"
     ]
    }
   ],
   "source": [
    "# clean 0s and nulls\n",
    "print(df.shape)\n",
    "df = df.dropna(subset=['num'])\n",
    "df = df[df['num'] != 0]\n",
    "print(df.shape)"
   ]
  },
  {
   "cell_type": "code",
   "execution_count": 16,
   "metadata": {},
   "outputs": [
    {
     "name": "stdout",
     "output_type": "stream",
     "text": [
      "district        object\n",
      "district_id    float64\n",
      "grade           object\n",
      "group_state     object\n",
      "num            float64\n",
      "school          object\n",
      "school_id      float64\n",
      "year            object\n",
      "dtype: object\n",
      "district       object\n",
      "district_id    object\n",
      "grade          object\n",
      "group_state    object\n",
      "num             int64\n",
      "school         object\n",
      "school_id      object\n",
      "year           object\n",
      "dtype: object\n"
     ]
    }
   ],
   "source": [
    "print(df.dtypes)\n",
    "df['district_id'] = df['district_id'].astype(int)\n",
    "df['district_id'] = df['district_id'].astype(str)\n",
    "df['school_id'] = df['school_id'].astype(int)\n",
    "df['school_id'] = df['school_id'].astype(str)\n",
    "df['num'] = df['num'].astype('int64')\n",
    "print(df.dtypes)"
   ]
  },
  {
   "cell_type": "code",
   "execution_count": 17,
   "metadata": {},
   "outputs": [
    {
     "name": "stdout",
     "output_type": "stream",
     "text": [
      "         year             grade                                group_state\n",
      "0        2013          Grade 12                                 All Groups\n",
      "1        2013           Grade 6                                 All Groups\n",
      "2        2013           Grade 9                                 All Groups\n",
      "3        2013          Grade 10                                 All Groups\n",
      "4        2013          Grade 11                                 All Groups\n",
      "6        2013           Grade 7                                 All Groups\n",
      "7        2013           Grade 8                                 All Groups\n",
      "9        2013  Pre-kindergarten                                 All Groups\n",
      "10       2013      Kindergarten                                 All Groups\n",
      "11       2013           Grade 1                                 All Groups\n",
      "12       2013           Grade 2                                 All Groups\n",
      "13       2013           Grade 3                                 All Groups\n",
      "14       2013           Grade 4                                 All Groups\n",
      "15       2013           Grade 5                                 All Groups\n",
      "80       2013   Early Education                                 All Groups\n",
      "47310    2014          Grade 12                                 All Groups\n",
      "47311    2014           Grade 6                                 All Groups\n",
      "47312    2014           Grade 9                                 All Groups\n",
      "47313    2014          Grade 10                                 All Groups\n",
      "47314    2014          Grade 11                                 All Groups\n",
      "47316    2014           Grade 7                                 All Groups\n",
      "47317    2014           Grade 8                                 All Groups\n",
      "47319    2014  Pre-kindergarten                                 All Groups\n",
      "47320    2014      Kindergarten                                 All Groups\n",
      "47321    2014           Grade 1                                 All Groups\n",
      "47322    2014           Grade 2                                 All Groups\n",
      "47323    2014           Grade 3                                 All Groups\n",
      "47324    2014           Grade 4                                 All Groups\n",
      "47325    2014           Grade 5                                 All Groups\n",
      "47327    2014   Early Education                                 All Groups\n",
      "...       ...               ...                                        ...\n",
      "1804182  2016        All Grades                                      White\n",
      "1804184  2016        All Grades                                   Hispanic\n",
      "1804193  2016        All Grades                  Black or African American\n",
      "1804250  2016        All Grades                                      Asian\n",
      "1804359  2016        All Grades           American Indian or Alaska Native\n",
      "1805203  2016        All Grades  Native Hawaiian/Other or Pacific Islander\n",
      "1847396  2017        All Grades                                 All Groups\n",
      "1847398  2017        All Grades                          Two or More Races\n",
      "1847399  2017        All Grades                                      White\n",
      "1847401  2017        All Grades                                   Hispanic\n",
      "1847410  2017        All Grades                  Black or African American\n",
      "1847456  2017        All Grades                                      Asian\n",
      "1847581  2017        All Grades           American Indian or Alaska Native\n",
      "1848444  2017        All Grades  Native Hawaiian/Other or Pacific Islander\n",
      "1891215  2018        All Grades                                 All Groups\n",
      "1891217  2018        All Grades                          Two or More Races\n",
      "1891218  2018        All Grades                                      White\n",
      "1891220  2018        All Grades                                   Hispanic\n",
      "1891229  2018        All Grades                  Black or African American\n",
      "1891285  2018        All Grades                                      Asian\n",
      "1891401  2018        All Grades           American Indian or Alaska Native\n",
      "1892267  2018        All Grades  Native Hawaiian/Other or Pacific Islander\n",
      "1935444  2019        All Grades                                 All Groups\n",
      "1935445  2019        All Grades                  Black or African American\n",
      "1935446  2019        All Grades                            Hispanic/Latino\n",
      "1935448  2019        All Grades                          Two or more races\n",
      "1935449  2019        All Grades                                      White\n",
      "1935451  2019        All Grades                                      Asian\n",
      "1935464  2019        All Grades              American Indian or Alaska Nat\n",
      "1935547  2019        All Grades              Native Hawaiian/Other Pacific\n",
      "\n",
      "[891 rows x 3 columns]\n"
     ]
    }
   ],
   "source": [
    "print(df[['year', 'grade', 'group_state']].drop_duplicates())"
   ]
  },
  {
   "cell_type": "code",
   "execution_count": 20,
   "metadata": {},
   "outputs": [],
   "source": [
    "# export results\n",
    "df.to_csv('./data/finalized/tx_enrollment.csv', index=False)"
   ]
  },
  {
   "cell_type": "code",
   "execution_count": null,
   "metadata": {},
   "outputs": [],
   "source": []
  }
 ],
 "metadata": {
  "kernelspec": {
   "display_name": "Python 3",
   "language": "python",
   "name": "python3"
  },
  "language_info": {
   "codemirror_mode": {
    "name": "ipython",
    "version": 3
   },
   "file_extension": ".py",
   "mimetype": "text/x-python",
   "name": "python",
   "nbconvert_exporter": "python",
   "pygments_lexer": "ipython3",
   "version": "3.7.3"
  }
 },
 "nbformat": 4,
 "nbformat_minor": 4
}
