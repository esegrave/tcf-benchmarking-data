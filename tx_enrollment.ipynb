{
 "cells": [
  {
   "cell_type": "code",
   "execution_count": 22,
   "metadata": {},
   "outputs": [],
   "source": [
    "import pandas as pd\n",
    "import numpy as np\n",
    "import util\n",
    "\n",
    "enrollment_path = './data/tx/enrollment/raw/'\n",
    "\n",
    "enrollment_files = [\n",
    "    'Enrollment Report_Statewide_Campuses_Grade_2012-2013.csv'\n",
    "    , 'Enrollment Report_Statewide_Campuses_Grade_2013-2014.csv'\n",
    "    , 'Enrollment Report_Statewide_Campuses_Grade_2014-2015.csv'\n",
    "    , 'Enrollment Report_Statewide_Campuses_Grade_2015-2016.csv'\n",
    "    , 'Enrollment Report_Statewide_Campuses_Grade_2016-2017.csv'\n",
    "    , 'Enrollment Report_Statewide_Campuses_Grade_2017-2018.csv'\n",
    "    , 'Enrollment Report_Statewide_Campuses_Grade_2018-2019.csv'\n",
    "]\n",
    "\n",
    "ethnicity_files = [\n",
    "    'Enrollment Report_Statewide_Campuses_Grade_Ethnicity_2012-2013.csv'\n",
    "    , 'Enrollment Report_Statewide_Campuses_Grade_Ethnicity_2013-2014.csv'\n",
    "    , 'Enrollment Report_Statewide_Campuses_Grade_Ethnicity_2014-2015.csv'\n",
    "    , 'Enrollment Report_Statewide_Campuses_Grade_Ethnicity_2015-2016.csv'\n",
    "    , 'Enrollment Report_Statewide_Campuses_Grade_Ethnicity_2016-2017.csv'\n",
    "    , 'Enrollment Report_Statewide_Campuses_Grade_Ethnicity_2017-2018.csv'\n",
    "    , 'Enrollment Report_Statewide_Campuses_Grade_Ethnicity_2018-2019.csv'\n",
    "]\n",
    "\n",
    "years = [x[48:52] for x in enrollment_files]\n",
    "\n",
    "df = pd.read_csv(enrollment_path + enrollment_files[0], skiprows = 4)\n",
    "df['year'] = df.apply(lambda x: years[0], axis=1)\n",
    "\n",
    "for i in range(1, len(enrollment_files)):\n",
    "    df2 = pd.read_csv(enrollment_path + enrollment_files[i], skiprows = 4)\n",
    "    df2['year'] = df2.apply(lambda x: years[i], axis=1)\n",
    "    df = df.append(df2, ignore_index = True, sort = True)\n",
    "    \n",
    "df_eth = pd.read_csv(enrollment_path + ethnicity_files[0], skiprows = 4)\n",
    "df_eth['year'] = df_eth.apply(lambda x: years[0], axis=1)\n",
    "\n",
    "for i in range(1, len(ethnicity_files)):\n",
    "    df2 = pd.read_csv(enrollment_path + ethnicity_files[i], skiprows = 4)\n",
    "    df2['year'] = df2.apply(lambda x: years[i], axis=1)\n",
    "    df_eth = df_eth.append(df2, ignore_index = True, sort = True)"
   ]
  },
  {
   "cell_type": "code",
   "execution_count": 23,
   "metadata": {},
   "outputs": [],
   "source": [
    "# rename fields in normal and ethnicity files\n",
    "df = df.rename(columns = {\n",
    "    'District Number': 'district_id'\n",
    "    , 'District Name': 'district'\n",
    "    , 'Campus Number': 'school_id'\n",
    "    , 'Campus Name': 'school'\n",
    "    , 'Grade Level Name': 'grade'\n",
    "    , 'Enrollment by Grade Level': 'num'\n",
    "})\n",
    "\n",
    "df_eth = df_eth.rename(columns = {\n",
    "    'District Number': 'district_id'\n",
    "    , 'District Name': 'district'\n",
    "    , 'Campus Number': 'school_id'\n",
    "    , 'Campus Name': 'school'\n",
    "    , 'Ethnicity Name': 'group_state'\n",
    "    , 'Grade Level Name': 'grade'\n",
    "    , 'Ethnicity Count': 'num'\n",
    "})"
   ]
  },
  {
   "cell_type": "code",
   "execution_count": 24,
   "metadata": {},
   "outputs": [],
   "source": [
    "# add All Groups field to main data\n",
    "df['group_state'] = df.apply(lambda x: 'All Groups', axis = 1)"
   ]
  },
  {
   "cell_type": "code",
   "execution_count": 25,
   "metadata": {},
   "outputs": [],
   "source": [
    "# append data\n",
    "df = df.append(df_eth, ignore_index = True, sort = True)"
   ]
  },
  {
   "cell_type": "code",
   "execution_count": 26,
   "metadata": {},
   "outputs": [],
   "source": [
    "# change negative numbers to '*'\n",
    "df['num'] = [x if x > 0 else '*' for x in df['num']]"
   ]
  },
  {
   "cell_type": "code",
   "execution_count": 27,
   "metadata": {},
   "outputs": [],
   "source": [
    "# drop unneeded columns\n",
    "df = df[['year', 'district_id', 'district', 'school_id', 'school', 'grade', 'group_state', 'num']]"
   ]
  },
  {
   "cell_type": "code",
   "execution_count": 28,
   "metadata": {},
   "outputs": [],
   "source": [
    "# drop rows with a null school_id\n",
    "df = df[~df['school_id'].isna()]"
   ]
  },
  {
   "cell_type": "code",
   "execution_count": 29,
   "metadata": {},
   "outputs": [],
   "source": [
    "# clean up grades\n",
    "df['grade'] = df['grade'].str.replace('  ', ' ')"
   ]
  },
  {
   "cell_type": "code",
   "execution_count": 30,
   "metadata": {},
   "outputs": [],
   "source": [
    "# create All Grades rollups\n",
    "grouped_by = ['year', 'district_id', 'district', 'school_id', 'school', 'group_state']\n",
    "df_grouped = df[df['num'] != '*'].groupby(by = grouped_by, as_index = False)['num'].sum()\n",
    "df_grouped['grade'] = df_grouped.apply(lambda x: 'All Grades', axis = 1)\n",
    "df = df.append(df_grouped, ignore_index = True, sort = True)"
   ]
  },
  {
   "cell_type": "code",
   "execution_count": 31,
   "metadata": {},
   "outputs": [],
   "source": [
    "# export results\n",
    "df.to_csv('./data/finalized/tx_enrollment.csv', index=False)"
   ]
  }
 ],
 "metadata": {
  "kernelspec": {
   "display_name": "Python 3",
   "language": "python",
   "name": "python3"
  },
  "language_info": {
   "codemirror_mode": {
    "name": "ipython",
    "version": 3
   },
   "file_extension": ".py",
   "mimetype": "text/x-python",
   "name": "python",
   "nbconvert_exporter": "python",
   "pygments_lexer": "ipython3",
   "version": "3.7.3"
  }
 },
 "nbformat": 4,
 "nbformat_minor": 4
}
