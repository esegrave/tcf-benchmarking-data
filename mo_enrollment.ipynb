{
 "cells": [
  {
   "cell_type": "code",
   "execution_count": 23,
   "metadata": {},
   "outputs": [],
   "source": [
    "# import files from Steve\n",
    "import pandas as pd\n",
    "import numpy as np\n",
    "import util\n",
    "\n",
    "enrollment_path = './data/mo/enrollment/'\n",
    "finalized_path = './data/finalized/'\n",
    "\n",
    "df = pd.read_csv(enrollment_path + 'mo_enrollment.csv',dtype={'year':str,'district_id':str,'district':str,'school_id':str,'school':str,'grade':str,'num':str,'group':str})\n",
    "df = df.rename(columns={'group':'group_state'})"
   ]
  },
  {
   "cell_type": "code",
   "execution_count": 24,
   "metadata": {},
   "outputs": [],
   "source": [
    "# clean suppressed values from num\n",
    "def toFloat(row, column):\n",
    "    try:\n",
    "        return float(row[column])\n",
    "    except:\n",
    "        return np.nan\n",
    "df['num'] = df.apply(lambda x: toFloat(x,'num'), axis=1)"
   ]
  },
  {
   "cell_type": "code",
   "execution_count": 25,
   "metadata": {},
   "outputs": [
    {
     "name": "stdout",
     "output_type": "stream",
     "text": [
      "(1601796, 8)\n",
      "(706117, 8)\n"
     ]
    }
   ],
   "source": [
    "print(df.shape)\n",
    "df = df[df.num != 0]\n",
    "df = df.dropna(subset=['num'])\n",
    "print(df.shape)"
   ]
  },
  {
   "cell_type": "code",
   "execution_count": 26,
   "metadata": {},
   "outputs": [
    {
     "name": "stdout",
     "output_type": "stream",
     "text": [
      "(706117, 8)\n",
      "(130604, 8)\n"
     ]
    }
   ],
   "source": [
    "print(df.shape)\n",
    "df = df[df.year.isin(['2016', '2017', '2018', '2019'])]\n",
    "print(df.shape)"
   ]
  },
  {
   "cell_type": "code",
   "execution_count": 27,
   "metadata": {},
   "outputs": [
    {
     "name": "stdout",
     "output_type": "stream",
     "text": [
      "year           object\n",
      "district_id    object\n",
      "district       object\n",
      "school_id      object\n",
      "school         object\n",
      "grade          object\n",
      "num             int64\n",
      "group_state    object\n",
      "dtype: object\n"
     ]
    }
   ],
   "source": [
    "df['num'] = df['num'].astype(np.int64)\n",
    "print(df.dtypes)"
   ]
  },
  {
   "cell_type": "code",
   "execution_count": 28,
   "metadata": {},
   "outputs": [],
   "source": [
    "# export file\n",
    "df.to_csv(finalized_path + 'mo_enrollment.csv', index=False)"
   ]
  },
  {
   "cell_type": "code",
   "execution_count": null,
   "metadata": {},
   "outputs": [],
   "source": []
  }
 ],
 "metadata": {
  "kernelspec": {
   "display_name": "Python 3",
   "language": "python",
   "name": "python3"
  },
  "language_info": {
   "codemirror_mode": {
    "name": "ipython",
    "version": 3
   },
   "file_extension": ".py",
   "mimetype": "text/x-python",
   "name": "python",
   "nbconvert_exporter": "python",
   "pygments_lexer": "ipython3",
   "version": "3.7.3"
  }
 },
 "nbformat": 4,
 "nbformat_minor": 4
}
