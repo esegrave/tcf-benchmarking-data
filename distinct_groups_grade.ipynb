{
 "cells": [
  {
   "cell_type": "code",
   "execution_count": 41,
   "metadata": {},
   "outputs": [
    {
     "name": "stdout",
     "output_type": "stream",
     "text": [
      "Importing ca\n",
      "Importing dc\n",
      "Importing la\n",
      "Importing ma\n",
      "Importing mo\n",
      "Importing nj\n",
      "Importing pa\n",
      "Importing tx\n",
      "district       object\n",
      "district_id    object\n",
      "grade          object\n",
      "group_state    object\n",
      "num             int64\n",
      "school         object\n",
      "school_id      object\n",
      "state          object\n",
      "year           object\n",
      "dtype: object\n",
      "                             district district_id grade       group_state  \\\n",
      "0  Alameda County Office of Education         170     1  English Learners   \n",
      "1  Alameda County Office of Education         170    10  English Learners   \n",
      "2  Alameda County Office of Education         170    11  English Learners   \n",
      "3  Alameda County Office of Education         170    12  English Learners   \n",
      "4  Alameda County Office of Education         170     2  English Learners   \n",
      "\n",
      "   num               school school_id state  year  \n",
      "0   53  FAME Public Charter    109835    ca  2015  \n",
      "1   22  FAME Public Charter    109835    ca  2015  \n",
      "2   16  FAME Public Charter    109835    ca  2015  \n",
      "3    7  FAME Public Charter    109835    ca  2015  \n",
      "4   34  FAME Public Charter    109835    ca  2015  \n"
     ]
    }
   ],
   "source": [
    "import pandas as pd\n",
    "import numpy as np\n",
    "\n",
    "# initialize state list\n",
    "states = [\n",
    "    'ca',\n",
    "#     'co',\n",
    "    'dc',\n",
    "#     'ks',\n",
    "    'la',\n",
    "    'ma',\n",
    "#     'mn',\n",
    "    'mo',\n",
    "    'nj',\n",
    "    'pa',\n",
    "#     'tn',\n",
    "    'tx'\n",
    "]\n",
    "\n",
    "finalized_path = './data/finalized/'\n",
    "\n",
    "# import enrollment files\n",
    "df_e = pd.DataFrame()\n",
    "\n",
    "for state in states:\n",
    "    try:\n",
    "        temp = pd.read_csv(finalized_path + state + '_enrollment.csv',dtype={'year': str,'district_id': str,'district': str,'school_id': str,'school': str,'grade': str,'group_state': str,'num': np.int64})\n",
    "        print('Importing ' + state)\n",
    "    except: \n",
    "        print('No enrollment file for ' + state)\n",
    "        continue\n",
    "    temp['state'] = state\n",
    "    df_e = df_e.append(temp, ignore_index = True, sort = True)\n",
    "\n",
    "print(df_e.dtypes)\n",
    "print(df_e.head())"
   ]
  },
  {
   "cell_type": "code",
   "execution_count": 42,
   "metadata": {},
   "outputs": [
    {
     "name": "stdout",
     "output_type": "stream",
     "text": [
      "district              object\n",
      "district_id           object\n",
      "grade                 object\n",
      "group_state           object\n",
      "num_at_level         float64\n",
      "num_tested           float64\n",
      "pct_at_level         float64\n",
      "performance_level     object\n",
      "proficient_tf           bool\n",
      "school                object\n",
      "school_id             object\n",
      "state                 object\n",
      "subject               object\n",
      "year                  object\n",
      "dtype: object\n",
      "              district district_id grade   group_state  num_at_level  \\\n",
      "0  Fame Public Charter       10017    11  All Students         16.24   \n",
      "1  Fame Public Charter       10017    11  All Students          2.75   \n",
      "2  Fame Public Charter       10017     3  All Students         19.36   \n",
      "3  Fame Public Charter       10017     3  All Students         17.28   \n",
      "4  Fame Public Charter       10017     4  All Students         33.30   \n",
      "\n",
      "   num_tested  pct_at_level performance_level  proficient_tf  \\\n",
      "0        56.0          0.29                ME           True   \n",
      "1        55.0          0.05                ME           True   \n",
      "2        88.0          0.22                ME           True   \n",
      "3        64.0          0.27                ME           True   \n",
      "4        90.0          0.37                ME           True   \n",
      "\n",
      "                school school_id state subject  year  \n",
      "0  Fame Public Charter    109835    ca     ELA  2015  \n",
      "1  Fame Public Charter    109835    ca    Math  2015  \n",
      "2  Fame Public Charter    109835    ca     ELA  2015  \n",
      "3  Fame Public Charter    109835    ca    Math  2015  \n",
      "4  Fame Public Charter    109835    ca     ELA  2015  \n"
     ]
    }
   ],
   "source": [
    "# import proficiency files\n",
    "df_p = pd.DataFrame()\n",
    "\n",
    "for state in states:\n",
    "    try:\n",
    "        temp = pd.read_csv(finalized_path + state + '_proficiency.csv',dtype={'year': str,'district_id': str,'district': str,'school_id': str,'school': str,'grade': str,'group_state': str,'subject': str,'proficient_tf': bool,'num_at_level': np.float64,'num_tested': np.float64,'pct_at_level': np.float64})\n",
    "    except:\n",
    "        print('No proficiency file for ' + state)\n",
    "        continue\n",
    "    temp['state'] = state\n",
    "    df_p = df_p.append(temp, ignore_index = True, sort = True)\n",
    "\n",
    "print(df_p.dtypes)\n",
    "print(df_p.head())"
   ]
  },
  {
   "cell_type": "code",
   "execution_count": 43,
   "metadata": {},
   "outputs": [
    {
     "name": "stdout",
     "output_type": "stream",
     "text": [
      "0       mo\n",
      "414     ma\n",
      "712     tx\n",
      "1212    dc\n",
      "1861    ca\n",
      "2246    la\n",
      "2795    pa\n",
      "5178    nj\n",
      "Name: state, dtype: object\n",
      "0       pa\n",
      "48      la\n",
      "222     ma\n",
      "278     tx\n",
      "404     dc\n",
      "631     ca\n",
      "1271    mo\n",
      "1725    nj\n",
      "Name: state, dtype: object\n"
     ]
    }
   ],
   "source": [
    "grouped_by = ['year', 'state', 'group_state', 'grade']\n",
    "proficiency_dedupe = df_p.groupby(grouped_by, as_index = False)['num_at_level'].sum()\n",
    "enrollment_dedupe = df_e.groupby(grouped_by, as_index = False)['num'].sum()\n",
    "print(proficiency_dedupe['state'].drop_duplicates())\n",
    "print(enrollment_dedupe['state'].drop_duplicates())"
   ]
  },
  {
   "cell_type": "code",
   "execution_count": 44,
   "metadata": {},
   "outputs": [],
   "source": [
    "grouped_by = ['state', 'district_id', 'district', 'school_id', 'school']\n",
    "df_p[grouped_by].drop_duplicates().to_csv('data/distinct_state_district_school.csv')"
   ]
  },
  {
   "cell_type": "code",
   "execution_count": 45,
   "metadata": {},
   "outputs": [],
   "source": [
    "grouped_by = ['year', 'state', 'subject', 'grade']\n",
    "subject_dedupe = df_p.groupby(grouped_by, as_index = False)['num_at_level'].sum()"
   ]
  },
  {
   "cell_type": "code",
   "execution_count": 46,
   "metadata": {},
   "outputs": [],
   "source": [
    "enrollment_dedupe.to_csv('data/distinct_groups_grades_enrollment.csv')\n",
    "proficiency_dedupe.to_csv('data/distinct_groups_grades_proficiency.csv')"
   ]
  },
  {
   "cell_type": "code",
   "execution_count": 47,
   "metadata": {},
   "outputs": [],
   "source": [
    "subject_dedupe.to_csv('data/distinct_subject_grades_proficiency.csv')"
   ]
  },
  {
   "cell_type": "code",
   "execution_count": null,
   "metadata": {},
   "outputs": [],
   "source": []
  }
 ],
 "metadata": {
  "kernelspec": {
   "display_name": "Python 3",
   "language": "python",
   "name": "python3"
  },
  "language_info": {
   "codemirror_mode": {
    "name": "ipython",
    "version": 3
   },
   "file_extension": ".py",
   "mimetype": "text/x-python",
   "name": "python",
   "nbconvert_exporter": "python",
   "pygments_lexer": "ipython3",
   "version": "3.7.3"
  }
 },
 "nbformat": 4,
 "nbformat_minor": 4
}
