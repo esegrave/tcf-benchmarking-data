{
 "cells": [
  {
   "cell_type": "code",
   "execution_count": 2,
   "metadata": {},
   "outputs": [],
   "source": [
    "import pandas as pd\n",
    "import numpy as np"
   ]
  },
  {
   "cell_type": "code",
   "execution_count": 3,
   "metadata": {},
   "outputs": [],
   "source": [
    "def cleanStrings(row, column):\n",
    "    return str(int(float(row[column])))"
   ]
  },
  {
   "cell_type": "code",
   "execution_count": 4,
   "metadata": {},
   "outputs": [
    {
     "name": "stderr",
     "output_type": "stream",
     "text": [
      "/Library/Frameworks/Python.framework/Versions/3.7/lib/python3.7/site-packages/IPython/core/interactiveshell.py:3049: DtypeWarning: Columns (3,5,13,15,16,17,22,23,24,25,26,27,28,30,31,32,33,34,35,38,39,47,48,50,51,52,54,55,56,57,58,59,60,61,62,64,65,66,67,68,69,72,73,74,75,77,93,94,95,96,97,98) have mixed types. Specify dtype option on import or set low_memory=False.\n",
      "  interactivity=interactivity, compiler=compiler, result=result)\n",
      "/Library/Frameworks/Python.framework/Versions/3.7/lib/python3.7/site-packages/IPython/core/interactiveshell.py:3049: DtypeWarning: Columns (6,16,17,22,25,40,42,43,44,49,50,51,52,53,54,55,57,58,59,60,61,62,65,66,74,75,77,78,79,81,82,83,84,85,86,87,88,89,91,92,93,94,95,96,99,100,101,102,104) have mixed types. Specify dtype option on import or set low_memory=False.\n",
      "  interactivity=interactivity, compiler=compiler, result=result)\n"
     ]
    }
   ],
   "source": [
    "df_e = pd.read_csv('data/finalized/enrollment.csv')\n",
    "df_p = pd.read_csv('data/finalized/proficiency.csv')"
   ]
  },
  {
   "cell_type": "code",
   "execution_count": 3,
   "metadata": {},
   "outputs": [
    {
     "name": "stdout",
     "output_type": "stream",
     "text": [
      "0          1.0\n",
      "2          3.0\n",
      "3          2.0\n",
      "95         5.0\n",
      "117        4.0\n",
      "1327741    NaN\n",
      "Name: city_quin, dtype: float64\n"
     ]
    }
   ],
   "source": [
    "print(df_p['city_quin'].drop_duplicates())"
   ]
  },
  {
   "cell_type": "code",
   "execution_count": 7,
   "metadata": {},
   "outputs": [],
   "source": [
    "# import grant data\n",
    "df_grant = pd.read_csv('data/finalized/grants_clean_unifiedForAnalysis.csv',dtype={'grantmerge': str,'state':str,'educationchampion':str,'grantid':str,'grantscope':str,'district_id':str,'stateleaname':str,'previousstateleaid':str,'schoolgranteeid':str,'school_id':str,'stateschoolname':str,'previousstateschoolid':str,'granteeisthesameasgrantben':str,'granteenameifdifferentfrom':str,'leagrantstrategy':str,'strategyenrollmentmax':str,'strategyqualityimprovement':str,'strategyexpansion':str,'strategynewstart':str,'endofgrantleaenrollmentgoal':str,'granttype':str,'supportorganizationsinvolved':str,'levelofedchampinvolvement':str,'duration':str,'startdate':str,'enddate':str,'totalamountcommitted':np.float64,'totalamountdisbursed':np.float64,'otherfundscontributed':str,'notes':str,'schooltype':str,'schoolgrantstrategy':str,'endofgrantenrollmentgoal':np.float64,'wasanyportionofthetotalgra':str,'portionedamountcommitted':np.float64,'portionedamountdisbursed':np.float64,'no_id_status':str})\n",
    "\n",
    "# apply cleanStrings function to district_id and school_id\n",
    "df_grant['district_id'] = df_grant.apply(lambda x: cleanStrings(x, 'district_id') ,axis=1)\n",
    "df_grant['school_id'] = df_grant.apply(lambda x: cleanStrings(x, 'school_id') ,axis=1)\n",
    "grants_district = df_grant[df_grant.grantscope.eq('LEA-wide')]\n",
    "grants_school = df_grant[df_grant.grantscope.eq('School-based')]"
   ]
  },
  {
   "cell_type": "code",
   "execution_count": 9,
   "metadata": {},
   "outputs": [
    {
     "name": "stdout",
     "output_type": "stream",
     "text": [
      "educationchampion\n",
      "Boston Schools Fund                  1744810.00\n",
      "City Education Partners             10213266.00\n",
      "Educate 78                            278025.00\n",
      "Great MN Schools                     9511064.15\n",
      "New Jersey Children's Foundation      780000.00\n",
      "RedefineEd                           2975000.00\n",
      "SchoolSmart KC                      10973193.00\n",
      "Name: totalamountcommitted, dtype: float64\n"
     ]
    }
   ],
   "source": [
    "print(grants_district.groupby(['educationchampion'])['totalamountcommitted'].sum())"
   ]
  },
  {
   "cell_type": "code",
   "execution_count": 18,
   "metadata": {},
   "outputs": [
    {
     "name": "stdout",
     "output_type": "stream",
     "text": [
      "  state edchamp_name  year district_id school_id  in_city grade         group  \\\n",
      "0    ca   Educate 78  2015       10017    112607      0.0   All  All Students   \n",
      "1    ca   Educate 78  2015       10017    112607      0.0   All         Black   \n",
      "2    ca   Educate 78  2015       10017    112607      0.0   All      Hispanic   \n",
      "3    ca   Educate 78  2015       10017    112607      0.0   All    Low-Income   \n",
      "4    ca   Educate 78  2015       10017    112607      0.0   All         White   \n",
      "\n",
      "   num  \n",
      "0  395  \n",
      "1  163  \n",
      "2  185  \n",
      "3  186  \n",
      "4   22  \n",
      "     state edchamp_name  year district_id school_id  in_city grade  \\\n",
      "8688    ca   Educate 78  2019       61259    100065      1.0   All   \n",
      "8694    ca   Educate 78  2019       61259    100701      1.0   All   \n",
      "8717    ca   Educate 78  2019       61259    100792      1.0   All   \n",
      "8736    ca   Educate 78  2019       61259    102988      1.0   All   \n",
      "8741    ca   Educate 78  2019       61259    106542      1.0   All   \n",
      "\n",
      "             group  num  \n",
      "8688  All Students  359  \n",
      "8694  All Students  160  \n",
      "8717  All Students  305  \n",
      "8736  All Students  327  \n",
      "8741  All Students   25  \n",
      "edchamp_name                      year\n",
      "Boston Schools Fund               2019    10688\n",
      "City Education Partners           2019    48600\n",
      "Educate 78                        2019    50051\n",
      "Great MN Schools                  2019    41394\n",
      "New Jersey Children's Foundation  2019     7364\n",
      "New Schools for Baton Rouge       2019     1811\n",
      "SchoolSmart KC                    2019     8545\n",
      "The Opportunity Trust             2019     8545\n",
      "Name: num, dtype: int64\n"
     ]
    }
   ],
   "source": [
    "temp = df_e.dropna(subset=['grantid', 'grantid_grant_school'], how='all')\n",
    "grouped_by = ['state', 'edchamp_name', 'year', 'district_id', 'school_id', 'in_city', 'grade', 'group']\n",
    "temp = temp.groupby(grouped_by, as_index=False)['num'].min()\n",
    "print(temp.head(5))\n",
    "temp = temp[temp.year.eq(2019) & temp.grade.eq('All') & temp.group.eq('All Students') & temp.in_city.eq(1)]\n",
    "print(temp.head(5))\n",
    "print(temp.groupby(['edchamp_name', 'year'])['num'].sum())"
   ]
  },
  {
   "cell_type": "code",
   "execution_count": 6,
   "metadata": {},
   "outputs": [
    {
     "name": "stdout",
     "output_type": "stream",
     "text": [
      "         year grade         group\n",
      "2663219  2013   All  All Students\n",
      "2667287  2013   All    Low-Income\n",
      "2671152  2013   All         White\n",
      "2673992  2013   All         Black\n",
      "2676438  2013   All      Hispanic\n",
      "2708100  2014   All  All Students\n",
      "2712537  2014   All    Low-Income\n",
      "2716492  2014   All         White\n",
      "2719274  2014   All         Black\n",
      "2721630  2014   All      Hispanic\n",
      "2754426  2015   All  All Students\n",
      "2758948  2015   All    Low-Income\n",
      "2763042  2015   All         White\n",
      "2765858  2015   All         Black\n",
      "2768392  2015   All      Hispanic\n",
      "2801702  2016   All  All Students\n",
      "2806034  2016   All    Low-Income\n",
      "2810019  2016   All         White\n",
      "2812908  2016   All         Black\n",
      "2815377  2016   All      Hispanic\n",
      "2848247  2017   All  All Students\n",
      "2852638  2017   All    Low-Income\n",
      "2856620  2017   All         White\n",
      "2859465  2017   All         Black\n",
      "2861935  2017   All      Hispanic\n",
      "2895168  2018   All  All Students\n",
      "2899420  2018   All    Low-Income\n",
      "2903337  2018   All         White\n",
      "2906156  2018   All         Black\n",
      "2908655  2018   All      Hispanic\n",
      "2941248  2019   All  All Students\n",
      "2945293  2019   All    Low-Income\n",
      "2949107  2019   All         White\n",
      "2951888  2019   All         Black\n",
      "2954283  2019   All      Hispanic\n"
     ]
    }
   ],
   "source": [
    "temp = df_p[df_p.state.eq('mn')]\n",
    "print(temp[['year', 'grade', 'group']].drop_duplicates())"
   ]
  },
  {
   "cell_type": "code",
   "execution_count": null,
   "metadata": {},
   "outputs": [],
   "source": []
  }
 ],
 "metadata": {
  "kernelspec": {
   "display_name": "Python 3",
   "language": "python",
   "name": "python3"
  },
  "language_info": {
   "codemirror_mode": {
    "name": "ipython",
    "version": 3
   },
   "file_extension": ".py",
   "mimetype": "text/x-python",
   "name": "python",
   "nbconvert_exporter": "python",
   "pygments_lexer": "ipython3",
   "version": "3.7.3"
  }
 },
 "nbformat": 4,
 "nbformat_minor": 4
}
