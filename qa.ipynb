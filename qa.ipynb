{
 "cells": [
  {
   "cell_type": "code",
   "execution_count": 8,
   "metadata": {},
   "outputs": [],
   "source": [
    "import pandas as pd\n",
    "import numpy as np"
   ]
  },
  {
   "cell_type": "code",
   "execution_count": 9,
   "metadata": {},
   "outputs": [],
   "source": [
    "def cleanStrings(row, column):\n",
    "    return str(int(float(row[column])))"
   ]
  },
  {
   "cell_type": "code",
   "execution_count": 10,
   "metadata": {},
   "outputs": [],
   "source": [
    "# df_e = pd.read_csv('data/finalized/enrollment.csv')\n",
    "df_p = pd.read_csv('data/finalized/proficiency_finalized.csv')"
   ]
  },
  {
   "cell_type": "code",
   "execution_count": 11,
   "metadata": {},
   "outputs": [
    {
     "name": "stdout",
     "output_type": "stream",
     "text": [
      "Index(['Unnamed: 0', 'above_city_avg', 'above_st_avg', 'charter', 'city_avg',\n",
      "       'city_avg_imp', 'city_gap_close', 'city_imp', 'city_quin',\n",
      "       'city_quin_imp', 'city_std', 'city_std_imp', 'city_z', 'city_z_imp',\n",
      "       'city_z_prev', 'district', 'district_id', 'grade',\n",
      "       'grant_flag_district', 'grant_flag_school', 'group', 'in_city',\n",
      "       'pct_at_level', 'school', 'school_id', 'st_avg', 'st_avg_imp',\n",
      "       'st_gap_close', 'st_imp', 'st_quin', 'st_quin_imp', 'st_std',\n",
      "       'st_std_imp', 'st_z', 'st_z_imp', 'st_z_prev', 'state', 'subject',\n",
      "       'top_20_city', 'top_20_st', 'year', 'start_sy', 'start_sy_d',\n",
      "       'start_sy_s', 'edchamp_id', 'edchamp_name', 'city', 'latitude',\n",
      "       'longitude', 'first_grant_start', 'launch_year_spring',\n",
      "       'grants_district_growth', 'grants_district_newstart',\n",
      "       'grants_district_qa', 'grants_school_growth', 'grants_school_newstart',\n",
      "       'grants_school_qa', 'max', 'min', 'grade5flag', 'grade8flag',\n",
      "       'grade_config'],\n",
      "      dtype='object')\n"
     ]
    }
   ],
   "source": [
    "print(df_p.columns)"
   ]
  },
  {
   "cell_type": "code",
   "execution_count": 12,
   "metadata": {},
   "outputs": [
    {
     "name": "stdout",
     "output_type": "stream",
     "text": [
      "Empty DataFrame\n",
      "Columns: [state, year, district_id, school_id, subject, grade, group, district]\n",
      "Index: []\n",
      "(0, 8)\n"
     ]
    }
   ],
   "source": [
    "temp = df_p.groupby(['state', 'year', 'district_id', 'school_id', 'subject', 'grade', 'group'], as_index=False)['district'].count()\n",
    "print(temp[temp['district'] > 1].head())\n",
    "print(temp[temp['district'] > 1].shape)"
   ]
  },
  {
   "cell_type": "code",
   "execution_count": 13,
   "metadata": {},
   "outputs": [],
   "source": [
    "temp = temp.rename(columns={'district': 'count'})\n",
    "temp2 = df_p.merge(temp, on=['state', 'year', 'district_id', 'school_id', 'subject', 'grade', 'group'])\n",
    "temp2[temp2['count'] > 1].to_csv('temp.csv')"
   ]
  },
  {
   "cell_type": "code",
   "execution_count": 3,
   "metadata": {},
   "outputs": [
    {
     "name": "stdout",
     "output_type": "stream",
     "text": [
      "0          1.0\n",
      "2          3.0\n",
      "3          2.0\n",
      "95         5.0\n",
      "117        4.0\n",
      "1327741    NaN\n",
      "Name: city_quin, dtype: float64\n"
     ]
    }
   ],
   "source": [
    "print(df_p['city_quin'].drop_duplicates())"
   ]
  },
  {
   "cell_type": "code",
   "execution_count": 7,
   "metadata": {},
   "outputs": [],
   "source": [
    "# import grant data\n",
    "df_grant = pd.read_csv('data/finalized/grants_clean_unifiedForAnalysis.csv',dtype={'grantmerge': str,'state':str,'educationchampion':str,'grantid':str,'grantscope':str,'district_id':str,'stateleaname':str,'previousstateleaid':str,'schoolgranteeid':str,'school_id':str,'stateschoolname':str,'previousstateschoolid':str,'granteeisthesameasgrantben':str,'granteenameifdifferentfrom':str,'leagrantstrategy':str,'strategyenrollmentmax':str,'strategyqualityimprovement':str,'strategyexpansion':str,'strategynewstart':str,'endofgrantleaenrollmentgoal':str,'granttype':str,'supportorganizationsinvolved':str,'levelofedchampinvolvement':str,'duration':str,'startdate':str,'enddate':str,'totalamountcommitted':np.float64,'totalamountdisbursed':np.float64,'otherfundscontributed':str,'notes':str,'schooltype':str,'schoolgrantstrategy':str,'endofgrantenrollmentgoal':np.float64,'wasanyportionofthetotalgra':str,'portionedamountcommitted':np.float64,'portionedamountdisbursed':np.float64,'no_id_status':str})\n",
    "\n",
    "# apply cleanStrings function to district_id and school_id\n",
    "df_grant['district_id'] = df_grant.apply(lambda x: cleanStrings(x, 'district_id') ,axis=1)\n",
    "df_grant['school_id'] = df_grant.apply(lambda x: cleanStrings(x, 'school_id') ,axis=1)\n",
    "grants_district = df_grant[df_grant.grantscope.eq('LEA-wide')]\n",
    "grants_school = df_grant[df_grant.grantscope.eq('School-based')]"
   ]
  },
  {
   "cell_type": "code",
   "execution_count": 9,
   "metadata": {},
   "outputs": [
    {
     "name": "stdout",
     "output_type": "stream",
     "text": [
      "educationchampion\n",
      "Boston Schools Fund                  1744810.00\n",
      "City Education Partners             10213266.00\n",
      "Educate 78                            278025.00\n",
      "Great MN Schools                     9511064.15\n",
      "New Jersey Children's Foundation      780000.00\n",
      "RedefineEd                           2975000.00\n",
      "SchoolSmart KC                      10973193.00\n",
      "Name: totalamountcommitted, dtype: float64\n"
     ]
    }
   ],
   "source": [
    "print(grants_district.groupby(['educationchampion'])['totalamountcommitted'].sum())"
   ]
  },
  {
   "cell_type": "code",
   "execution_count": 18,
   "metadata": {},
   "outputs": [
    {
     "name": "stdout",
     "output_type": "stream",
     "text": [
      "  state edchamp_name  year district_id school_id  in_city grade         group  \\\n",
      "0    ca   Educate 78  2015       10017    112607      0.0   All  All Students   \n",
      "1    ca   Educate 78  2015       10017    112607      0.0   All         Black   \n",
      "2    ca   Educate 78  2015       10017    112607      0.0   All      Hispanic   \n",
      "3    ca   Educate 78  2015       10017    112607      0.0   All    Low-Income   \n",
      "4    ca   Educate 78  2015       10017    112607      0.0   All         White   \n",
      "\n",
      "   num  \n",
      "0  395  \n",
      "1  163  \n",
      "2  185  \n",
      "3  186  \n",
      "4   22  \n",
      "     state edchamp_name  year district_id school_id  in_city grade  \\\n",
      "8688    ca   Educate 78  2019       61259    100065      1.0   All   \n",
      "8694    ca   Educate 78  2019       61259    100701      1.0   All   \n",
      "8717    ca   Educate 78  2019       61259    100792      1.0   All   \n",
      "8736    ca   Educate 78  2019       61259    102988      1.0   All   \n",
      "8741    ca   Educate 78  2019       61259    106542      1.0   All   \n",
      "\n",
      "             group  num  \n",
      "8688  All Students  359  \n",
      "8694  All Students  160  \n",
      "8717  All Students  305  \n",
      "8736  All Students  327  \n",
      "8741  All Students   25  \n",
      "edchamp_name                      year\n",
      "Boston Schools Fund               2019    10688\n",
      "City Education Partners           2019    48600\n",
      "Educate 78                        2019    50051\n",
      "Great MN Schools                  2019    41394\n",
      "New Jersey Children's Foundation  2019     7364\n",
      "New Schools for Baton Rouge       2019     1811\n",
      "SchoolSmart KC                    2019     8545\n",
      "The Opportunity Trust             2019     8545\n",
      "Name: num, dtype: int64\n"
     ]
    }
   ],
   "source": [
    "temp = df_e.dropna(subset=['grantid', 'grantid_grant_school'], how='all')\n",
    "grouped_by = ['state', 'edchamp_name', 'year', 'district_id', 'school_id', 'in_city', 'grade', 'group']\n",
    "temp = temp.groupby(grouped_by, as_index=False)['num'].min()\n",
    "print(temp.head(5))\n",
    "temp = temp[temp.year.eq(2019) & temp.grade.eq('All') & temp.group.eq('All Students') & temp.in_city.eq(1)]\n",
    "print(temp.head(5))\n",
    "print(temp.groupby(['edchamp_name', 'year'])['num'].sum())"
   ]
  },
  {
   "cell_type": "code",
   "execution_count": 6,
   "metadata": {},
   "outputs": [
    {
     "name": "stdout",
     "output_type": "stream",
     "text": [
      "         year grade         group\n",
      "2663219  2013   All  All Students\n",
      "2667287  2013   All    Low-Income\n",
      "2671152  2013   All         White\n",
      "2673992  2013   All         Black\n",
      "2676438  2013   All      Hispanic\n",
      "2708100  2014   All  All Students\n",
      "2712537  2014   All    Low-Income\n",
      "2716492  2014   All         White\n",
      "2719274  2014   All         Black\n",
      "2721630  2014   All      Hispanic\n",
      "2754426  2015   All  All Students\n",
      "2758948  2015   All    Low-Income\n",
      "2763042  2015   All         White\n",
      "2765858  2015   All         Black\n",
      "2768392  2015   All      Hispanic\n",
      "2801702  2016   All  All Students\n",
      "2806034  2016   All    Low-Income\n",
      "2810019  2016   All         White\n",
      "2812908  2016   All         Black\n",
      "2815377  2016   All      Hispanic\n",
      "2848247  2017   All  All Students\n",
      "2852638  2017   All    Low-Income\n",
      "2856620  2017   All         White\n",
      "2859465  2017   All         Black\n",
      "2861935  2017   All      Hispanic\n",
      "2895168  2018   All  All Students\n",
      "2899420  2018   All    Low-Income\n",
      "2903337  2018   All         White\n",
      "2906156  2018   All         Black\n",
      "2908655  2018   All      Hispanic\n",
      "2941248  2019   All  All Students\n",
      "2945293  2019   All    Low-Income\n",
      "2949107  2019   All         White\n",
      "2951888  2019   All         Black\n",
      "2954283  2019   All      Hispanic\n"
     ]
    }
   ],
   "source": [
    "temp = df_p[df_p.state.eq('mn')]\n",
    "print(temp[['year', 'grade', 'group']].drop_duplicates())"
   ]
  },
  {
   "cell_type": "code",
   "execution_count": null,
   "metadata": {},
   "outputs": [],
   "source": []
  }
 ],
 "metadata": {
  "kernelspec": {
   "display_name": "Python 3",
   "language": "python",
   "name": "python3"
  },
  "language_info": {
   "codemirror_mode": {
    "name": "ipython",
    "version": 3
   },
   "file_extension": ".py",
   "mimetype": "text/x-python",
   "name": "python",
   "nbconvert_exporter": "python",
   "pygments_lexer": "ipython3",
   "version": "3.7.3"
  }
 },
 "nbformat": 4,
 "nbformat_minor": 4
}
