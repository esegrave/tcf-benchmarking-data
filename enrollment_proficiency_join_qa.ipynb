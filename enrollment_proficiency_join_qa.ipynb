{
 "cells": [
  {
   "cell_type": "code",
   "execution_count": 1,
   "metadata": {},
   "outputs": [],
   "source": [
    "import pandas as pd\n",
    "import numpy as np"
   ]
  },
  {
   "cell_type": "code",
   "execution_count": 2,
   "metadata": {},
   "outputs": [
    {
     "name": "stderr",
     "output_type": "stream",
     "text": [
      "/Library/Frameworks/Python.framework/Versions/3.7/lib/python3.7/site-packages/IPython/core/interactiveshell.py:3049: DtypeWarning: Columns (13,15,16,22,23,24,25,26,30,31,32,33,34,35,38,39,47,48,50,51,54,56,57,59,60,64,65,66,67,68,69,72,73,74,75,77,93,94,95,96,97,98) have mixed types. Specify dtype option on import or set low_memory=False.\n",
      "  interactivity=interactivity, compiler=compiler, result=result)\n",
      "/Library/Frameworks/Python.framework/Versions/3.7/lib/python3.7/site-packages/IPython/core/interactiveshell.py:3049: DtypeWarning: Columns (66,87) have mixed types. Specify dtype option on import or set low_memory=False.\n",
      "  interactivity=interactivity, compiler=compiler, result=result)\n"
     ]
    }
   ],
   "source": [
    "# import enrollment and proficiency data\n",
    "df_e = pd.read_csv('data/finalized/enrollment.csv')\n",
    "df_p = pd.read_csv('data/finalized/proficiency.csv')"
   ]
  },
  {
   "cell_type": "code",
   "execution_count": 3,
   "metadata": {},
   "outputs": [],
   "source": [
    "df_e['grade'] = df_e['grade'].astype(str)\n",
    "df_p['grade'] = df_p['grade'].astype(str)"
   ]
  },
  {
   "cell_type": "code",
   "execution_count": 4,
   "metadata": {},
   "outputs": [],
   "source": [
    "# merge enrollment and proficiency data\n",
    "df = df_p.merge(df_e, on=['year', 'state', 'district_id', 'school_id', 'grade', 'group'], how='outer', suffixes=('_p', '_e'))"
   ]
  },
  {
   "cell_type": "code",
   "execution_count": 5,
   "metadata": {},
   "outputs": [],
   "source": [
    "df[df.state.eq('ca')].to_csv('temp.csv')"
   ]
  },
  {
   "cell_type": "code",
   "execution_count": 6,
   "metadata": {},
   "outputs": [
    {
     "name": "stdout",
     "output_type": "stream",
     "text": [
      "0    ma\n",
      "Name: state, dtype: object\n"
     ]
    }
   ],
   "source": [
    "print(df.state.drop_duplicates())"
   ]
  },
  {
   "cell_type": "code",
   "execution_count": 7,
   "metadata": {},
   "outputs": [
    {
     "name": "stdout",
     "output_type": "stream",
     "text": [
      "171431\n",
      "171431\n"
     ]
    }
   ],
   "source": [
    "# calculate rows in join\n",
    "print(df.shape[0])\n",
    "df_left = df[df.pct_at_level.isnull()].groupby(['state']).size().to_frame(name = 'left').reset_index()\n",
    "df_inner = df[~df.num.isnull() & ~df.pct_at_level.isnull()].groupby(['state']).size().to_frame(name = 'inner').reset_index()\n",
    "df_right = df[df.num.isnull()].groupby(['state']).size().to_frame(name = 'right').reset_index()\n",
    "print(df[df.num.isnull()].shape[0] + df[~df.num.isnull() & ~df.pct_at_level.isnull()].shape[0] + df[df.pct_at_level.isnull()].shape[0])"
   ]
  },
  {
   "cell_type": "code",
   "execution_count": 8,
   "metadata": {},
   "outputs": [
    {
     "name": "stdout",
     "output_type": "stream",
     "text": [
      "  state   left  inner  right\n",
      "0    ma  82613  63074  25744\n"
     ]
    }
   ],
   "source": [
    "df_counts = df_left.merge(df_inner, on='state', how='outer').merge(df_right, on='state', how='outer')\n",
    "print(df_counts)"
   ]
  },
  {
   "cell_type": "code",
   "execution_count": 9,
   "metadata": {},
   "outputs": [],
   "source": [
    "df_counts['left_%'] = df_counts['left'] / (df_counts['inner'] + df_counts['right'] + df_counts['left'])\n",
    "df_counts['inner_%'] = df_counts['inner'] / (df_counts['inner'] + df_counts['right'] + df_counts['left'])\n",
    "df_counts['right_%'] = df_counts['right'] / (df_counts['inner'] + df_counts['right'] + df_counts['left'])"
   ]
  },
  {
   "cell_type": "code",
   "execution_count": 10,
   "metadata": {},
   "outputs": [
    {
     "name": "stdout",
     "output_type": "stream",
     "text": [
      "  state   left  inner  right    left_%   inner_%   right_%\n",
      "0    ma  82613  63074  25744  0.481902  0.367926  0.150171\n"
     ]
    }
   ],
   "source": [
    "print(df_counts)"
   ]
  },
  {
   "cell_type": "code",
   "execution_count": null,
   "metadata": {},
   "outputs": [],
   "source": []
  }
 ],
 "metadata": {
  "kernelspec": {
   "display_name": "Python 3",
   "language": "python",
   "name": "python3"
  },
  "language_info": {
   "codemirror_mode": {
    "name": "ipython",
    "version": 3
   },
   "file_extension": ".py",
   "mimetype": "text/x-python",
   "name": "python",
   "nbconvert_exporter": "python",
   "pygments_lexer": "ipython3",
   "version": "3.7.3"
  }
 },
 "nbformat": 4,
 "nbformat_minor": 4
}
