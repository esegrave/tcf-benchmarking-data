{
 "cells": [
  {
   "cell_type": "code",
   "execution_count": 8,
   "metadata": {},
   "outputs": [],
   "source": [
    "import pandas as pd\n",
    "import numpy as np\n",
    "import util\n",
    "\n",
    "enrollment_path = './data/nj/enrollment/'\n",
    "\n",
    "years = [\n",
    "    2017\n",
    "    , 2018\n",
    "    , 2019\n",
    "]\n",
    "\n",
    "enrollment_files = [\n",
    "    'nj_enrollment_2017_cleaned.csv'\n",
    "    , 'nj_enrollment_2018_cleaned.csv'\n",
    "    , 'nj_enrollment_2019_cleaned.csv'\n",
    "]\n",
    "\n",
    "# import main enrollment files\n",
    "df = pd.read_csv(enrollment_path + enrollment_files[0])\n",
    "df['year'] = df.apply(lambda x: years[0], axis=1)\n",
    "\n",
    "for i in range(1, len(enrollment_files)):\n",
    "    df2 = pd.read_csv(enrollment_path + enrollment_files[i])\n",
    "    df2['year'] = df2.apply(lambda x: years[i], axis=1)\n",
    "    df = df.append(df2, ignore_index = True, sort=True)"
   ]
  },
  {
   "cell_type": "code",
   "execution_count": 9,
   "metadata": {},
   "outputs": [
    {
     "name": "stdout",
     "output_type": "stream",
     "text": [
      "0                 5\n",
      "1                 6\n",
      "2                 7\n",
      "3                 8\n",
      "4                UG\n",
      "5        All Grades\n",
      "6                PK\n",
      "7                KG\n",
      "8                 1\n",
      "9                 2\n",
      "10                3\n",
      "11                4\n",
      "26                9\n",
      "27               10\n",
      "28               11\n",
      "29               12\n",
      "26473            PF\n",
      "26474            KF\n",
      "26669            PH\n",
      "26771            KH\n",
      "Name: grade, dtype: object\n"
     ]
    }
   ],
   "source": [
    "# rename TOTAL to All Grades\n",
    "df['grade'] = df['grade'].str.upper()\n",
    "df['grade'] = [x if x != 'TOTAL' else 'All Grades' for x in df['grade']]"
   ]
  },
  {
   "cell_type": "code",
   "execution_count": 11,
   "metadata": {},
   "outputs": [
    {
     "name": "stdout",
     "output_type": "stream",
     "text": [
      "   AM_F  AM_M  AS_F  AS_M  All Groups  BL_F  BL_M  COUNTY_ID COUNTY_NAME  \\\n",
      "0   0.0   0.0   0.0   1.0        86.0  11.0   3.0          1    ATLANTIC   \n",
      "1   0.0   0.0   0.0   1.0        84.0   5.0  10.0          1    ATLANTIC   \n",
      "2   0.0   0.0   0.0   0.0       105.0   7.0   8.0          1    ATLANTIC   \n",
      "3   0.0   0.0   0.0   1.0        75.0   6.0   3.0          1    ATLANTIC   \n",
      "4   0.0   0.0   0.0   0.0         5.0   1.0   3.0          1    ATLANTIC   \n",
      "\n",
      "   FREE_LUNCH  ...          school  school_id  year   AM   AS    BL    HI  \\\n",
      "0         NaN  ...  Emma C Attales         50  2017  0.0  1.0  14.0  11.0   \n",
      "1         NaN  ...  Emma C Attales         50  2017  0.0  1.0  15.0   4.0   \n",
      "2         NaN  ...  Emma C Attales         50  2017  0.0  0.0  15.0  11.0   \n",
      "3         NaN  ...  Emma C Attales         50  2017  0.0  1.0   9.0   7.0   \n",
      "4         NaN  ...  Emma C Attales         50  2017  0.0  0.0   4.0   0.0   \n",
      "\n",
      "     MU   PI    WH  \n",
      "0   9.0  0.0  51.0  \n",
      "1   4.0  0.0  60.0  \n",
      "2   9.0  0.0  70.0  \n",
      "3  10.0  0.0  48.0  \n",
      "4   0.0  0.0   1.0  \n",
      "\n",
      "[5 rows x 35 columns]\n"
     ]
    }
   ],
   "source": [
    "# collapse genders into a single subgroup column\n",
    "gender_subgroups = [\n",
    "    'AM'\n",
    "    , 'AS'\n",
    "    , 'BL'\n",
    "    , 'HI'\n",
    "    , 'MU'\n",
    "    , 'PI'\n",
    "    , 'WH'\n",
    "]\n",
    "\n",
    "# combine genders for every subgroup\n",
    "for subgroup in gender_subgroups:\n",
    "    df[subgroup] = df.apply(lambda x: x[subgroup + '_M'] + x[subgroup + '_F'], axis=1)"
   ]
  },
  {
   "cell_type": "code",
   "execution_count": 12,
   "metadata": {},
   "outputs": [],
   "source": [
    "# reshape data\n",
    "subgroups = [\n",
    "    'AM'\n",
    "    , 'AS'\n",
    "    , 'BL'\n",
    "    , 'HI'\n",
    "    , 'MU'\n",
    "    , 'PI'\n",
    "    , 'WH'\n",
    "    , 'FREE_LUNCH'\n",
    "    , 'LEP'\n",
    "    , 'MIGRANT'\n",
    "    , 'All Groups'\n",
    "]\n",
    "df = pd.melt(df, id_vars=['year', 'district_id', 'district', 'school_id', 'school', 'grade']\n",
    "        , value_vars=subgroups\n",
    "        , var_name='group_state'\n",
    "        , value_name='num')"
   ]
  },
  {
   "cell_type": "code",
   "execution_count": 14,
   "metadata": {},
   "outputs": [],
   "source": [
    "# drop district results\n",
    "df = df[df['school_id'] != 999]"
   ]
  },
  {
   "cell_type": "code",
   "execution_count": 15,
   "metadata": {},
   "outputs": [],
   "source": [
    "# export\n",
    "df.to_csv('./data/finalized/nj_enrollment.csv', index=False)"
   ]
  },
  {
   "cell_type": "code",
   "execution_count": null,
   "metadata": {},
   "outputs": [],
   "source": []
  }
 ],
 "metadata": {
  "kernelspec": {
   "display_name": "Python 3",
   "language": "python",
   "name": "python3"
  },
  "language_info": {
   "codemirror_mode": {
    "name": "ipython",
    "version": 3
   },
   "file_extension": ".py",
   "mimetype": "text/x-python",
   "name": "python",
   "nbconvert_exporter": "python",
   "pygments_lexer": "ipython3",
   "version": "3.7.3"
  }
 },
 "nbformat": 4,
 "nbformat_minor": 4
}
