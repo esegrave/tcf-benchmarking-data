{
 "cells": [
  {
   "cell_type": "code",
   "execution_count": 1,
   "metadata": {},
   "outputs": [],
   "source": [
    "import pandas as pd\n",
    "import numpy as np\n",
    "import util\n",
    "\n",
    "enrollment_path = './data/nj/enrollment/'\n",
    "\n",
    "years = [\n",
    "    2017\n",
    "    , 2018\n",
    "    , 2019\n",
    "]\n",
    "\n",
    "enrollment_files = [\n",
    "    'nj_enrollment_2017_cleaned.csv'\n",
    "    , 'nj_enrollment_2018_cleaned.csv'\n",
    "    , 'nj_enrollment_2019_cleaned.csv'\n",
    "]\n",
    "\n",
    "# import main enrollment files\n",
    "df = pd.read_csv(enrollment_path + enrollment_files[0])\n",
    "df['year'] = df.apply(lambda x: years[0], axis=1)\n",
    "\n",
    "for i in range(1, len(enrollment_files)):\n",
    "    df2 = pd.read_csv(enrollment_path + enrollment_files[i])\n",
    "    df2['year'] = df2.apply(lambda x: years[i], axis=1)\n",
    "    df = df.append(df2, ignore_index = True, sort=True)"
   ]
  },
  {
   "cell_type": "code",
   "execution_count": 2,
   "metadata": {},
   "outputs": [],
   "source": [
    "# rename TOTAL to All Grades\n",
    "df['grade'] = df['grade'].str.upper()\n",
    "df['grade'] = [x if x != 'TOTAL' else 'All Grades' for x in df['grade']]"
   ]
  },
  {
   "cell_type": "code",
   "execution_count": 3,
   "metadata": {},
   "outputs": [],
   "source": [
    "# collapse genders into a single subgroup column\n",
    "gender_subgroups = [\n",
    "    'AM'\n",
    "    , 'AS'\n",
    "    , 'BL'\n",
    "    , 'HI'\n",
    "    , 'MU'\n",
    "    , 'PI'\n",
    "    , 'WH'\n",
    "]\n",
    "\n",
    "# combine genders for every subgroup\n",
    "for subgroup in gender_subgroups:\n",
    "    df[subgroup] = df.apply(lambda x: x[subgroup + '_M'] + x[subgroup + '_F'], axis=1)"
   ]
  },
  {
   "cell_type": "code",
   "execution_count": 4,
   "metadata": {},
   "outputs": [],
   "source": [
    "# reshape data\n",
    "subgroups = [\n",
    "    'AM'\n",
    "    , 'AS'\n",
    "    , 'BL'\n",
    "    , 'HI'\n",
    "    , 'MU'\n",
    "    , 'PI'\n",
    "    , 'WH'\n",
    "    , 'FREE_LUNCH'\n",
    "    , 'LEP'\n",
    "    , 'MIGRANT'\n",
    "    , 'All Groups'\n",
    "]\n",
    "df = pd.melt(df, id_vars=['year', 'district_id', 'district', 'school_id', 'school', 'grade']\n",
    "        , value_vars=subgroups\n",
    "        , var_name='group_state'\n",
    "        , value_name='num')"
   ]
  },
  {
   "cell_type": "code",
   "execution_count": 5,
   "metadata": {},
   "outputs": [],
   "source": [
    "# drop district results\n",
    "df = df[df['school_id'] != 999]"
   ]
  },
  {
   "cell_type": "code",
   "execution_count": 8,
   "metadata": {},
   "outputs": [
    {
     "name": "stdout",
     "output_type": "stream",
     "text": [
      "(590425, 8)\n",
      "(294300, 8)\n"
     ]
    }
   ],
   "source": [
    "# clean 0s and nulls\n",
    "print(df.shape)\n",
    "df = df.dropna(subset=['num'])\n",
    "df = df[df['num'] != 0]\n",
    "print(df.shape)"
   ]
  },
  {
   "cell_type": "code",
   "execution_count": 10,
   "metadata": {},
   "outputs": [
    {
     "name": "stdout",
     "output_type": "stream",
     "text": [
      "year             int64\n",
      "district_id      int64\n",
      "district        object\n",
      "school_id        int64\n",
      "school          object\n",
      "grade           object\n",
      "group_state     object\n",
      "num            float64\n",
      "dtype: object\n",
      "year           object\n",
      "district_id    object\n",
      "district       object\n",
      "school_id      object\n",
      "school         object\n",
      "grade          object\n",
      "group_state    object\n",
      "num             int64\n",
      "dtype: object\n"
     ]
    }
   ],
   "source": [
    "# unify data types\n",
    "print(df.dtypes)\n",
    "df['year'] = df['year'].astype(str)\n",
    "df['district_id'] = df['district_id'].astype(str)\n",
    "df['school_id'] = df['school_id'].astype(str)\n",
    "df['num'] = df['num'].astype('int64')\n",
    "print(df.dtypes)"
   ]
  },
  {
   "cell_type": "code",
   "execution_count": 11,
   "metadata": {},
   "outputs": [],
   "source": [
    "# export\n",
    "df.to_csv('./data/finalized/nj_enrollment.csv', index=False)"
   ]
  },
  {
   "cell_type": "code",
   "execution_count": null,
   "metadata": {},
   "outputs": [],
   "source": []
  }
 ],
 "metadata": {
  "kernelspec": {
   "display_name": "Python 3",
   "language": "python",
   "name": "python3"
  },
  "language_info": {
   "codemirror_mode": {
    "name": "ipython",
    "version": 3
   },
   "file_extension": ".py",
   "mimetype": "text/x-python",
   "name": "python",
   "nbconvert_exporter": "python",
   "pygments_lexer": "ipython3",
   "version": "3.7.3"
  }
 },
 "nbformat": 4,
 "nbformat_minor": 4
}
