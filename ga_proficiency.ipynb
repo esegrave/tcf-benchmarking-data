{
 "cells": [
  {
   "cell_type": "code",
   "execution_count": 1,
   "metadata": {},
   "outputs": [
    {
     "name": "stderr",
     "output_type": "stream",
     "text": [
      "/Library/Frameworks/Python.framework/Versions/3.7/lib/python3.7/site-packages/IPython/core/interactiveshell.py:3049: DtypeWarning: Columns (0,2) have mixed types. Specify dtype option on import or set low_memory=False.\n",
      "  interactivity=interactivity, compiler=compiler, result=result)\n"
     ]
    }
   ],
   "source": [
    "# import files from Steve\n",
    "import pandas as pd\n",
    "import numpy as np\n",
    "\n",
    "proficiency_path = './data/ga/proficiency/'\n",
    "\n",
    "df = pd.read_csv(proficiency_path + 'ga_proficiency.csv')"
   ]
  },
  {
   "cell_type": "code",
   "execution_count": 4,
   "metadata": {},
   "outputs": [],
   "source": [
    "df = df.rename(columns={'group':'group_state'})"
   ]
  },
  {
   "cell_type": "code",
   "execution_count": 6,
   "metadata": {},
   "outputs": [
    {
     "name": "stdout",
     "output_type": "stream",
     "text": [
      "district_id           object\n",
      "district              object\n",
      "school_id             object\n",
      "school                object\n",
      "year                   int64\n",
      "grade                  int64\n",
      "group_state           object\n",
      "subject               object\n",
      "num_tested             int64\n",
      "performance_level     object\n",
      "num_at_level         float64\n",
      "pct_at_level         float64\n",
      "proficient_tf          int64\n",
      "dtype: object\n",
      "district_id           object\n",
      "district              object\n",
      "school_id             object\n",
      "school                object\n",
      "year                  object\n",
      "grade                 object\n",
      "group_state           object\n",
      "subject               object\n",
      "num_tested           float64\n",
      "performance_level     object\n",
      "num_at_level         float64\n",
      "pct_at_level         float64\n",
      "proficient_tf           bool\n",
      "dtype: object\n"
     ]
    }
   ],
   "source": [
    "# convert string fields\n",
    "print(df.dtypes)\n",
    "df['year'] = df['year'].astype(str)\n",
    "df['proficient_tf'] = df['proficient_tf'].astype(bool)\n",
    "df['grade'] = df['grade'].astype(str)\n",
    "df['num_tested'] = df['num_tested'].astype('float64')\n",
    "print(df.dtypes)"
   ]
  },
  {
   "cell_type": "code",
   "execution_count": 7,
   "metadata": {},
   "outputs": [
    {
     "name": "stdout",
     "output_type": "stream",
     "text": [
      "(6982088, 13)\n",
      "(6814860, 13)\n",
      "(6814860, 13)\n"
     ]
    }
   ],
   "source": [
    "# drop null values rows\n",
    "print(df.shape)\n",
    "df = df.dropna(subset=['num_at_level', 'num_tested'])\n",
    "print(df.shape)\n",
    "df = df[df['num_tested'] != 0]\n",
    "print(df.shape)"
   ]
  },
  {
   "cell_type": "code",
   "execution_count": 10,
   "metadata": {},
   "outputs": [],
   "source": [
    "# filter to only proficient rows\n",
    "df = df[df.proficient_tf]"
   ]
  },
  {
   "cell_type": "code",
   "execution_count": 13,
   "metadata": {},
   "outputs": [
    {
     "name": "stdout",
     "output_type": "stream",
     "text": [
      "(3407430, 13)\n",
      "(1703715, 10)\n",
      "(1703715, 10)\n",
      "(1703715, 11)\n"
     ]
    }
   ],
   "source": [
    "# roll up to single row\n",
    "grouped_by = ['year', 'district_id', 'district', 'school_id', 'school', 'grade', 'group_state', 'subject', 'proficient_tf']\n",
    "print(df.shape)\n",
    "df1 = df.groupby(grouped_by, as_index=False)['num_at_level'].sum()\n",
    "print(df1.shape)\n",
    "df2 = df.groupby(grouped_by, as_index=False)['num_tested'].sum()\n",
    "print(df2.shape)\n",
    "df = df1.merge(df2, on=grouped_by)\n",
    "print(df.shape)\n",
    "del df1\n",
    "del df2"
   ]
  },
  {
   "cell_type": "code",
   "execution_count": 18,
   "metadata": {},
   "outputs": [
    {
     "name": "stdout",
     "output_type": "stream",
     "text": [
      "(1703715, 12)\n",
      "(754123, 9)\n",
      "(754123, 9)\n",
      "(754123, 10)\n",
      "(2457838, 12)\n"
     ]
    }
   ],
   "source": [
    "# create All Grades roll-up\n",
    "grouped_by = ['year', 'district_id', 'district', 'school_id', 'school', 'group_state', 'subject', 'proficient_tf']\n",
    "print(df.shape)\n",
    "df1 = df.groupby(grouped_by, as_index=False)['num_at_level'].sum()\n",
    "print(df1.shape)\n",
    "df2 = df.groupby(grouped_by, as_index=False)['num_tested'].sum()\n",
    "print(df2.shape)\n",
    "df_grades = df1.merge(df2, on=grouped_by)\n",
    "print(df_grades.shape)\n",
    "del df1\n",
    "del df2\n",
    "\n",
    "df_grades['grade'] = 'All'\n",
    "\n",
    "df = df.append(df_grades, ignore_index=True, sort=True)\n",
    "print(df.shape)"
   ]
  },
  {
   "cell_type": "code",
   "execution_count": 19,
   "metadata": {},
   "outputs": [],
   "source": [
    "df['pct_at_level'] = df['num_at_level'] / df['num_tested']"
   ]
  },
  {
   "cell_type": "code",
   "execution_count": 20,
   "metadata": {},
   "outputs": [
    {
     "name": "stdout",
     "output_type": "stream",
     "text": [
      "         district district_id grade   group_state  num_at_level  num_tested  \\\n",
      "0  Appling County         601    10  All Students           2.0        20.0   \n",
      "1  Appling County         601    10  All Students          78.0       372.0   \n",
      "2  Appling County         601    10  All Students          84.0       434.0   \n",
      "3  Appling County         601    10  All Students           3.0        74.0   \n",
      "4  Appling County         601    10  All Students           1.0        30.0   \n",
      "\n",
      "   pct_at_level  proficient_tf                      school school_id  \\\n",
      "0      0.100000           True  Appling County High School      0103   \n",
      "1      0.209677           True  Appling County High School      0103   \n",
      "2      0.193548           True  Appling County High School      0103   \n",
      "3      0.040541           True  Appling County High School      0103   \n",
      "4      0.033333           True  Appling County High School      0103   \n",
      "\n",
      "                                subject  year  \n",
      "0  9th Grade Literature and Composition  2015  \n",
      "1                     Analytic Geometry  2015  \n",
      "2                               Biology  2015  \n",
      "3                    Coordinate Algebra  2015  \n",
      "4                      Physical Science  2015  \n"
     ]
    }
   ],
   "source": [
    "print(df.head(5))"
   ]
  },
  {
   "cell_type": "code",
   "execution_count": 22,
   "metadata": {},
   "outputs": [],
   "source": [
    "# export file\n",
    "df.to_csv('./data/finalized/ga_proficiency.csv', index=False)"
   ]
  },
  {
   "cell_type": "code",
   "execution_count": null,
   "metadata": {},
   "outputs": [],
   "source": []
  }
 ],
 "metadata": {
  "kernelspec": {
   "display_name": "Python 3",
   "language": "python",
   "name": "python3"
  },
  "language_info": {
   "codemirror_mode": {
    "name": "ipython",
    "version": 3
   },
   "file_extension": ".py",
   "mimetype": "text/x-python",
   "name": "python",
   "nbconvert_exporter": "python",
   "pygments_lexer": "ipython3",
   "version": "3.7.3"
  }
 },
 "nbformat": 4,
 "nbformat_minor": 4
}
