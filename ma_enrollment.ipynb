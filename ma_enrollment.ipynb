{
 "cells": [
  {
   "cell_type": "code",
   "execution_count": 30,
   "metadata": {},
   "outputs": [
    {
     "name": "stdout",
     "output_type": "stream",
     "text": [
      "(12974, 19)\n"
     ]
    }
   ],
   "source": [
    "# import files\n",
    "import pandas as pd\n",
    "import numpy as np\n",
    "\n",
    "enrollment_path = './data/ma/enrollment/raw/'\n",
    "\n",
    "years = ['2013', '2014', '2015', '2016', '2017', '2018', '2019']\n",
    "\n",
    "df_bygrade = pd.DataFrame()\n",
    "\n",
    "for year in years:\n",
    "    temp = pd.read_excel(enrollment_path + 'enrollmentbygrade' + year + '.xlsx', dtype={'School Name':str,'School Code':str,'PK':str,'K':str,'1':str,'2':str,'3':str,'4':str,'5':str,'6':str,'7':str,'8':str,'9':str,'10':str,'11':str,'12':str,'SP':str,'Total':str},skiprows=[0])\n",
    "    temp['year'] = year\n",
    "    df_bygrade = df_bygrade.append(temp, ignore_index=True, sort=True)\n",
    "\n",
    "print(df_bygrade.shape)"
   ]
  },
  {
   "cell_type": "code",
   "execution_count": 31,
   "metadata": {},
   "outputs": [
    {
     "name": "stdout",
     "output_type": "stream",
     "text": [
      "(12978, 12)\n"
     ]
    }
   ],
   "source": [
    "df_byracegender = pd.DataFrame()\n",
    "\n",
    "for year in years:\n",
    "    temp = pd.read_excel(enrollment_path + 'enrollmentbyracegender' + year + '.xlsx', dtype={'School Name':str,'School Code':str,'African American':str,'Asian':str,'Hispanic':str,'White':str,'Native American':str,'Native Hawaiian, Pacific Islander':str,'Multi-Race, Non-Hispanic':str,'Males':str,'Females':str},skiprows=[0])\n",
    "    temp['year'] = year\n",
    "    df_byracegender = df_byracegender.append(temp, ignore_index=True, sort=True)\n",
    "\n",
    "print(df_byracegender.shape)"
   ]
  },
  {
   "cell_type": "code",
   "execution_count": 32,
   "metadata": {},
   "outputs": [
    {
     "name": "stdout",
     "output_type": "stream",
     "text": [
      "(12978, 12)\n",
      "(12974, 13)\n"
     ]
    }
   ],
   "source": [
    "# join totals to racegender\n",
    "print(df_byracegender.shape)\n",
    "df_byracegender = df_byracegender.merge(df_bygrade[['year', 'School Code', 'Total']], on=['year', 'School Code'], how='inner')\n",
    "print(df_byracegender.shape)"
   ]
  },
  {
   "cell_type": "code",
   "execution_count": 33,
   "metadata": {},
   "outputs": [
    {
     "name": "stdout",
     "output_type": "stream",
     "text": [
      "(12978, 19)\n"
     ]
    }
   ],
   "source": [
    "df_byspecial = pd.DataFrame()\n",
    "\n",
    "for year in years:\n",
    "    temp = pd.read_excel(enrollment_path + 'selectedpopulations' + year + '.xlsx', dtype={'School Name':str,'School Code':str,'First Language Not English #':str,'First Language Not English %':str,'English Language Learner #':str,'English Language Learner %':str,'Students With Disabilities #':str,'Students With Disabilities %':str,'Low Income #':str,'Low Income %':str,'Free Lunch #':str,'Free Lunch %':str,'Reduced Lunch #':str,'Reduced Lunch %':str,'High Needs #':str,'High Needs #':str,'Economically Disadvantaged #':str,'Economically Disadvantaged %':str,},skiprows=[0])\n",
    "    temp['year'] = year\n",
    "    df_byspecial = df_byspecial.append(temp, ignore_index=True, sort=True)\n",
    "\n",
    "df_byspecial = df_byspecial.rename(columns={\n",
    "    'First Language Not English #': 'First Language Not English',\n",
    "    'English Language Learner #': 'English Language Learner',\n",
    "    'Students With Disabilities #': 'Students With Disabilities',\n",
    "    'Low Income #': 'Low Income',\n",
    "    'Free Lunch #': 'Free Lunch',\n",
    "    'Reduced Lunch #': 'Reduced Lunch',\n",
    "    'High Needs #': 'High Needs',\n",
    "    'Economically Disadvantaged #': 'Economically Disadvantaged'\n",
    "})\n",
    "print(df_byspecial.shape)"
   ]
  },
  {
   "cell_type": "code",
   "execution_count": 34,
   "metadata": {},
   "outputs": [
    {
     "name": "stdout",
     "output_type": "stream",
     "text": [
      "Index(['year', 'School Code', 'School Name', 'grade', 'num', 'group_state'], dtype='object')\n"
     ]
    }
   ],
   "source": [
    "# pivot bygrade\n",
    "id_vars = ['year', 'School Code', 'School Name']\n",
    "value_vars = ['1', '10', '11', '12', '2', '3', '4', '5', '6', '7', '8', '9', 'K', 'PK', 'SP', 'Total']\n",
    "df_bygrade = pd.melt(df_bygrade, id_vars = id_vars, value_vars = value_vars, var_name = 'grade', value_name = 'num')\n",
    "df_bygrade['group_state'] = 'All Students'\n",
    "print(df_bygrade.columns)"
   ]
  },
  {
   "cell_type": "code",
   "execution_count": 35,
   "metadata": {},
   "outputs": [
    {
     "name": "stdout",
     "output_type": "stream",
     "text": [
      "(207584, 6)\n",
      "(80207, 6)\n",
      "(79018, 6)\n"
     ]
    }
   ],
   "source": [
    "# convert num to float, then drop nulls and zeros\n",
    "def toFloat(row, column):\n",
    "    try:\n",
    "        return float(row[column])\n",
    "    except:\n",
    "        return np.nan\n",
    "df_bygrade['num'] = df_bygrade.apply(lambda x: toFloat(x, 'num'), axis = 1)\n",
    "print(df_bygrade.shape)\n",
    "df_bygrade = df_bygrade[~df_bygrade.num.eq(0)]\n",
    "print(df_bygrade.shape)\n",
    "df_bygrade = df_bygrade.dropna(subset=['num'])\n",
    "print(df_bygrade.shape)"
   ]
  },
  {
   "cell_type": "code",
   "execution_count": 36,
   "metadata": {},
   "outputs": [
    {
     "name": "stdout",
     "output_type": "stream",
     "text": [
      "Index(['year', 'School Code', 'School Name', 'Total', 'group_state', 'percent',\n",
      "       'grade'],\n",
      "      dtype='object')\n"
     ]
    }
   ],
   "source": [
    "# pivot byracegender\n",
    "id_vars = ['year', 'School Code', 'School Name', 'Total']\n",
    "value_vars = ['African American', 'Asian', 'Females', 'Hispanic', 'Males', 'Multi-Race, Non-Hispanic', 'Native American', 'Native Hawaiian, Pacific Islander', 'White']\n",
    "df_byracegender = pd.melt(df_byracegender, id_vars = id_vars, value_vars = value_vars, var_name = 'group_state', value_name = 'percent')\n",
    "df_byracegender['grade'] = 'All'\n",
    "print(df_byracegender.columns)"
   ]
  },
  {
   "cell_type": "code",
   "execution_count": 38,
   "metadata": {},
   "outputs": [
    {
     "name": "stdout",
     "output_type": "stream",
     "text": [
      "   year School Code                                        School Name  Total  \\\n",
      "0  2013    04450105  Abby Kelley Foster Charter Public (District) -...    NaN   \n",
      "1  2013    00010505                           Abington - Abington High  502.0   \n",
      "2  2013    00010003          Abington - Beaver Brook Elementary School  685.0   \n",
      "3  2013    00010002                Abington - Center Elementary School  190.0   \n",
      "4  2013    00010405                    Abington - Frolio Middle School  344.0   \n",
      "\n",
      "        group_state  percent grade     num  \n",
      "0  African American     35.6   All     NaN  \n",
      "1  African American      2.6   All  13.052  \n",
      "2  African American      1.5   All  10.275  \n",
      "3  African American      1.1   All   2.090  \n",
      "4  African American      1.5   All   5.160  \n",
      "(116766, 6)\n",
      "(99194, 6)\n",
      "(89564, 6)\n"
     ]
    }
   ],
   "source": [
    "# convert num to float, calculate num, then drop nulls and zeros\n",
    "def toFloat(row, column):\n",
    "    try:\n",
    "        return float(row[column])\n",
    "    except:\n",
    "        return np.nan\n",
    "df_byracegender['percent'] = df_byracegender.apply(lambda x: toFloat(x, 'percent'), axis = 1)\n",
    "df_byracegender['Total'] = df_byracegender.apply(lambda x: toFloat(x, 'Total'), axis = 1)\n",
    "df_byracegender['num'] = df_byracegender['percent'] * df_byracegender['Total'] / 100\n",
    "del df_byracegender['percent']\n",
    "del df_byracegender['Total']\n",
    "print(df_byracegender.shape)\n",
    "df_byracegender = df_byracegender[~df_byracegender.num.eq(0)]\n",
    "print(df_byracegender.shape)\n",
    "df_byracegender = df_byracegender.dropna(subset=['num'])\n",
    "print(df_byracegender.shape)"
   ]
  },
  {
   "cell_type": "code",
   "execution_count": 41,
   "metadata": {},
   "outputs": [
    {
     "name": "stdout",
     "output_type": "stream",
     "text": [
      "Index(['year', 'School Code', 'School Name', 'group_state', 'num', 'grade'], dtype='object')\n"
     ]
    }
   ],
   "source": [
    "# pivot byspecial\n",
    "id_vars = ['year', 'School Code', 'School Name']\n",
    "value_vars = ['Economically Disadvantaged', 'English Language Learner', 'First Language Not English', 'Free Lunch', 'High Needs', 'Low Income','Reduced Lunch', 'Students With Disabilities']\n",
    "df_byspecial = pd.melt(df_byspecial, id_vars = id_vars, value_vars = value_vars, var_name = 'group_state', value_name = 'num')\n",
    "df_byspecial['grade'] = 'All'\n",
    "print(df_byspecial.columns)"
   ]
  },
  {
   "cell_type": "code",
   "execution_count": 42,
   "metadata": {},
   "outputs": [
    {
     "name": "stdout",
     "output_type": "stream",
     "text": [
      "(103824, 6)\n",
      "(101323, 6)\n",
      "(69786, 6)\n"
     ]
    }
   ],
   "source": [
    "# convert num to float, then drop nulls and zeros\n",
    "def toFloat(row, column):\n",
    "    try:\n",
    "        return float(row[column])\n",
    "    except:\n",
    "        return np.nan\n",
    "df_byspecial['num'] = df_byspecial.apply(lambda x: toFloat(x, 'num'), axis = 1)\n",
    "print(df_byspecial.shape)\n",
    "df_byspecial = df_byspecial[~df_byspecial.num.eq(0)]\n",
    "print(df_byspecial.shape)\n",
    "df_byspecial = df_byspecial.dropna(subset=['num'])\n",
    "print(df_byspecial.shape)"
   ]
  },
  {
   "cell_type": "code",
   "execution_count": 44,
   "metadata": {},
   "outputs": [
    {
     "name": "stdout",
     "output_type": "stream",
     "text": [
      "Index(['School Code', 'School Name', 'grade', 'group_state', 'num', 'year'], dtype='object')\n",
      "(238368, 6)\n"
     ]
    }
   ],
   "source": [
    "# append all data\n",
    "df = df_bygrade.append(df_byracegender, ignore_index=True, sort=True)\n",
    "df = df.append(df_byspecial, ignore_index=True, sort=True)\n",
    "print(df.columns)\n",
    "print(df.shape)"
   ]
  },
  {
   "cell_type": "code",
   "execution_count": 45,
   "metadata": {},
   "outputs": [],
   "source": [
    "# split school_id and school into district id and code\n",
    "def splitSchool(row, type):\n",
    "    if type == 'school':\n",
    "        return row['School Name'][row['School Name'].find(' - ') + 3:]\n",
    "    if type == 'district':\n",
    "        return row['School Name'][:row['School Name'].find(' - ')]\n",
    "\n",
    "df['district_id'] = df.apply(lambda x: x['School Code'][:4], axis = 1)\n",
    "df['district'] = df.apply(lambda x: splitSchool(x, 'district'), axis = 1)\n",
    "df['school_id'] = df.apply(lambda x: x['School Code'][4:], axis = 1)\n",
    "df['school'] = df.apply(lambda x: splitSchool(x, 'school'), axis = 1)\n",
    "del df['School Code']\n",
    "del df['School Name']"
   ]
  },
  {
   "cell_type": "code",
   "execution_count": 50,
   "metadata": {},
   "outputs": [
    {
     "name": "stdout",
     "output_type": "stream",
     "text": [
      "grade           object\n",
      "group_state     object\n",
      "num            float64\n",
      "year            object\n",
      "district_id     object\n",
      "district        object\n",
      "school_id       object\n",
      "school          object\n",
      "dtype: object\n",
      "grade          object\n",
      "group_state    object\n",
      "num             int64\n",
      "year           object\n",
      "district_id    object\n",
      "district       object\n",
      "school_id      object\n",
      "school         object\n",
      "dtype: object\n"
     ]
    }
   ],
   "source": [
    "print(df.dtypes)\n",
    "df['num'] = df['num'].astype('int64')\n",
    "print(df.dtypes)"
   ]
  },
  {
   "cell_type": "code",
   "execution_count": 51,
   "metadata": {},
   "outputs": [],
   "source": [
    "# export final dataset\n",
    "df.to_csv('./data/finalized/ma_enrollment.csv', index=False)"
   ]
  },
  {
   "cell_type": "code",
   "execution_count": null,
   "metadata": {},
   "outputs": [],
   "source": []
  }
 ],
 "metadata": {
  "kernelspec": {
   "display_name": "Python 3",
   "language": "python",
   "name": "python3"
  },
  "language_info": {
   "codemirror_mode": {
    "name": "ipython",
    "version": 3
   },
   "file_extension": ".py",
   "mimetype": "text/x-python",
   "name": "python",
   "nbconvert_exporter": "python",
   "pygments_lexer": "ipython3",
   "version": "3.7.3"
  }
 },
 "nbformat": 4,
 "nbformat_minor": 4
}
