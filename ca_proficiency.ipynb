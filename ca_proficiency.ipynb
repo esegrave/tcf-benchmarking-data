{
 "cells": [
  {
   "cell_type": "code",
   "execution_count": 13,
   "metadata": {},
   "outputs": [],
   "source": [
    "# import files from Steve\n",
    "import pandas as pd\n",
    "import numpy as np\n",
    "\n",
    "proficiency_path = './data/ca/proficiency/'\n",
    "\n",
    "df = pd.read_csv(proficiency_path + 'ca_proficiency.csv')"
   ]
  },
  {
   "cell_type": "code",
   "execution_count": 14,
   "metadata": {},
   "outputs": [],
   "source": [
    "# rename columns\n",
    "df = df.rename(columns= {\n",
    "    'districtname': 'district',\n",
    "    'schoolname': 'school'\n",
    "})"
   ]
  },
  {
   "cell_type": "code",
   "execution_count": 15,
   "metadata": {},
   "outputs": [
    {
     "name": "stdout",
     "output_type": "stream",
     "text": [
      "year                   int64\n",
      "district_id            int64\n",
      "district              object\n",
      "school_id              int64\n",
      "school                object\n",
      "grade                 object\n",
      "group_state           object\n",
      "subject               object\n",
      "performance_level     object\n",
      "proficient_tf          int64\n",
      "num_at_level         float64\n",
      "num_tested           float64\n",
      "pct_at_level         float64\n",
      "dtype: object\n",
      "year                  object\n",
      "district_id           object\n",
      "district              object\n",
      "school_id             object\n",
      "school                object\n",
      "grade                 object\n",
      "group_state           object\n",
      "subject               object\n",
      "performance_level     object\n",
      "proficient_tf           bool\n",
      "num_at_level         float64\n",
      "num_tested           float64\n",
      "pct_at_level         float64\n",
      "dtype: object\n"
     ]
    }
   ],
   "source": [
    "# convert string fields\n",
    "print(df.dtypes)\n",
    "df['year'] = df['year'].astype(str)\n",
    "df['district_id'] = df['district_id'].astype(str)\n",
    "df['school_id'] = df['school_id'].astype(str)\n",
    "df['proficient_tf'] = df['proficient_tf'].astype(bool)\n",
    "print(df.dtypes)"
   ]
  },
  {
   "cell_type": "code",
   "execution_count": 16,
   "metadata": {},
   "outputs": [
    {
     "name": "stdout",
     "output_type": "stream",
     "text": [
      "(856135, 13)\n",
      "(724285, 13)\n",
      "(709291, 13)\n",
      "year\n",
      "2015    9229\n",
      "2016    9303\n",
      "2017    9330\n",
      "2018    9344\n",
      "2019    9433\n",
      "Name: school_id, dtype: int64\n"
     ]
    }
   ],
   "source": [
    "# drop null values rows\n",
    "print(df.shape)\n",
    "df = df.dropna(subset=['pct_at_level', 'num_tested'])\n",
    "print(df.shape)\n",
    "df = df[df['pct_at_level'] != 0]\n",
    "print(df.shape)"
   ]
  },
  {
   "cell_type": "code",
   "execution_count": 17,
   "metadata": {},
   "outputs": [
    {
     "name": "stdout",
     "output_type": "stream",
     "text": [
      "   year district_id           district school_id             school grade  \\\n",
      "4  2015       10017  FamePublicCharter    109835  FamePublicCharter    11   \n",
      "5  2015       10017  FamePublicCharter    109835  FamePublicCharter    11   \n",
      "6  2015       10017  FamePublicCharter    109835  FamePublicCharter     3   \n",
      "7  2015       10017  FamePublicCharter    109835  FamePublicCharter     3   \n",
      "8  2015       10017  FamePublicCharter    109835  FamePublicCharter     4   \n",
      "\n",
      "    group_state subject performance_level  proficient_tf  num_at_level  \\\n",
      "4  All Students     ELA                ME           True        1624.0   \n",
      "5  All Students    Math                ME           True         275.0   \n",
      "6  All Students     ELA                ME           True        1936.0   \n",
      "7  All Students    Math                ME           True        1728.0   \n",
      "8  All Students     ELA                ME           True        3330.0   \n",
      "\n",
      "   num_tested  pct_at_level  \n",
      "4        56.0          0.29  \n",
      "5        55.0          0.05  \n",
      "6        88.0          0.22  \n",
      "7        64.0          0.27  \n",
      "8        90.0          0.37  \n"
     ]
    }
   ],
   "source": [
    "df['pct_at_level'] = df['pct_at_level'] / 100\n",
    "print(df.head(5))"
   ]
  },
  {
   "cell_type": "code",
   "execution_count": 18,
   "metadata": {},
   "outputs": [
    {
     "name": "stdout",
     "output_type": "stream",
     "text": [
      "   year district_id           district school_id             school grade  \\\n",
      "4  2015       10017  FamePublicCharter    109835  FamePublicCharter    11   \n",
      "5  2015       10017  FamePublicCharter    109835  FamePublicCharter    11   \n",
      "6  2015       10017  FamePublicCharter    109835  FamePublicCharter     3   \n",
      "7  2015       10017  FamePublicCharter    109835  FamePublicCharter     3   \n",
      "8  2015       10017  FamePublicCharter    109835  FamePublicCharter     4   \n",
      "\n",
      "    group_state subject performance_level  proficient_tf  num_at_level  \\\n",
      "4  All Students     ELA                ME           True         16.24   \n",
      "5  All Students    Math                ME           True          2.75   \n",
      "6  All Students     ELA                ME           True         19.36   \n",
      "7  All Students    Math                ME           True         17.28   \n",
      "8  All Students     ELA                ME           True         33.30   \n",
      "\n",
      "   num_tested  pct_at_level  \n",
      "4        56.0          0.29  \n",
      "5        55.0          0.05  \n",
      "6        88.0          0.22  \n",
      "7        64.0          0.27  \n",
      "8        90.0          0.37  \n"
     ]
    }
   ],
   "source": [
    "df['num_at_level'] = df['num_tested'] * df['pct_at_level']\n",
    "print(df.head(5))"
   ]
  },
  {
   "cell_type": "code",
   "execution_count": 21,
   "metadata": {},
   "outputs": [],
   "source": [
    "# export file\n",
    "df.to_csv('./data/finalized/ca_proficiency.csv', index=False)"
   ]
  },
  {
   "cell_type": "code",
   "execution_count": null,
   "metadata": {},
   "outputs": [],
   "source": []
  }
 ],
 "metadata": {
  "kernelspec": {
   "display_name": "Python 3",
   "language": "python",
   "name": "python3"
  },
  "language_info": {
   "codemirror_mode": {
    "name": "ipython",
    "version": 3
   },
   "file_extension": ".py",
   "mimetype": "text/x-python",
   "name": "python",
   "nbconvert_exporter": "python",
   "pygments_lexer": "ipython3",
   "version": "3.7.3"
  }
 },
 "nbformat": 4,
 "nbformat_minor": 4
}
