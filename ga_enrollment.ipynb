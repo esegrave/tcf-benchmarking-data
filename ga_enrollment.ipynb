{
 "cells": [
  {
   "cell_type": "code",
   "execution_count": 7,
   "metadata": {},
   "outputs": [],
   "source": [
    "# import files from Steve\n",
    "import pandas as pd\n",
    "import numpy as np\n",
    "import util\n",
    "\n",
    "enrollment_path = './data/ga/enrollment/'\n",
    "\n",
    "df = pd.read_csv(enrollment_path + 'ga_enrollment.csv', na_values=['N/A'])"
   ]
  },
  {
   "cell_type": "code",
   "execution_count": 8,
   "metadata": {},
   "outputs": [
    {
     "name": "stdout",
     "output_type": "stream",
     "text": [
      "Index(['district_id', 'district', 'school_id', 'school', 'year', 'grade',\n",
      "       'group', 'num'],\n",
      "      dtype='object')\n",
      "   district_id        district  school_id                      school  year  \\\n",
      "0          601  Appling County        103  Appling County High School  2015   \n",
      "1          601  Appling County        103  Appling County High School  2015   \n",
      "2          601  Appling County        103  Appling County High School  2015   \n",
      "3          601  Appling County        103  Appling County High School  2015   \n",
      "4          601  Appling County        103  Appling County High School  2015   \n",
      "\n",
      "  grade         group    num  \n",
      "0  10th  All Students  230.0  \n",
      "1  11th  All Students  255.0  \n",
      "2  12th  All Students  242.0  \n",
      "3   1st  All Students    0.0  \n",
      "4   2nd  All Students    0.0  \n"
     ]
    }
   ],
   "source": [
    "print(df.columns)\n",
    "print(df.head())"
   ]
  },
  {
   "cell_type": "code",
   "execution_count": 9,
   "metadata": {},
   "outputs": [],
   "source": [
    "df = df.rename(columns={\n",
    "    'group': 'group_state'\n",
    "})"
   ]
  },
  {
   "cell_type": "code",
   "execution_count": 10,
   "metadata": {},
   "outputs": [
    {
     "name": "stdout",
     "output_type": "stream",
     "text": [
      "(204518, 8)\n",
      "(111510, 8)\n"
     ]
    }
   ],
   "source": [
    "# drop null rows\n",
    "print(df.shape)\n",
    "df = df.dropna(subset=['num'])\n",
    "df = df[df['num'] != 0]\n",
    "print(df.shape)"
   ]
  },
  {
   "cell_type": "code",
   "execution_count": 11,
   "metadata": {},
   "outputs": [
    {
     "name": "stdout",
     "output_type": "stream",
     "text": [
      "district_id      int64\n",
      "district        object\n",
      "school_id        int64\n",
      "school          object\n",
      "year             int64\n",
      "grade           object\n",
      "group_state     object\n",
      "num            float64\n",
      "dtype: object\n",
      "district_id    object\n",
      "district       object\n",
      "school_id      object\n",
      "school         object\n",
      "year           object\n",
      "grade          object\n",
      "group_state    object\n",
      "num             int64\n",
      "dtype: object\n"
     ]
    }
   ],
   "source": [
    "# fix field types/drop null values\n",
    "print(df.dtypes)\n",
    "df['district_id'] = df['district_id'].astype(str)\n",
    "df['school_id'] = df['school_id'].astype(str)\n",
    "df['year'] = df['year'].astype(str)\n",
    "df['num'] = df['num'].astype('int64')\n",
    "print(df.dtypes)"
   ]
  },
  {
   "cell_type": "code",
   "execution_count": 12,
   "metadata": {},
   "outputs": [],
   "source": [
    "# export file\n",
    "df.to_csv('./data/finalized/ga_enrollment.csv', index=False)"
   ]
  },
  {
   "cell_type": "code",
   "execution_count": null,
   "metadata": {},
   "outputs": [],
   "source": []
  }
 ],
 "metadata": {
  "kernelspec": {
   "display_name": "Python 3",
   "language": "python",
   "name": "python3"
  },
  "language_info": {
   "codemirror_mode": {
    "name": "ipython",
    "version": 3
   },
   "file_extension": ".py",
   "mimetype": "text/x-python",
   "name": "python",
   "nbconvert_exporter": "python",
   "pygments_lexer": "ipython3",
   "version": "3.7.3"
  }
 },
 "nbformat": 4,
 "nbformat_minor": 4
}
