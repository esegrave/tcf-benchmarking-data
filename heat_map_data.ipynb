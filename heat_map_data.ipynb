{
 "cells": [
  {
   "cell_type": "code",
   "execution_count": 1,
   "metadata": {},
   "outputs": [],
   "source": [
    "import pandas as pd\n",
    "import numpy as np"
   ]
  },
  {
   "cell_type": "code",
   "execution_count": 2,
   "metadata": {},
   "outputs": [
    {
     "name": "stderr",
     "output_type": "stream",
     "text": [
      "/Library/Frameworks/Python.framework/Versions/3.7/lib/python3.7/site-packages/IPython/core/interactiveshell.py:3049: DtypeWarning: Columns (6,16,17,22,25,40,42,43,44,49,50,51,52,53,54,55,57,58,59,60,61,62,65,66,74,75,77,78,79,81,82,83,84,85,86,87,88,89,91,92,93,94,95,96,99,100,101,102,104) have mixed types. Specify dtype option on import or set low_memory=False.\n",
      "  interactivity=interactivity, compiler=compiler, result=result)\n"
     ]
    }
   ],
   "source": [
    "df_p = pd.read_csv('data/finalized/proficiency.csv')"
   ]
  },
  {
   "cell_type": "code",
   "execution_count": 3,
   "metadata": {},
   "outputs": [
    {
     "name": "stdout",
     "output_type": "stream",
     "text": [
      "  state edchamp_name  year district_id school_id grade         group subject  \\\n",
      "0    ca   Educate 78  2015       10017    130401   All  All Students     ELA   \n",
      "1    ca   Educate 78  2015       10017    130419   All  All Students     ELA   \n",
      "2    ca   Educate 78  2015       10017    118489   All  All Students     ELA   \n",
      "3    ca   Educate 78  2015       10017    123968   All  All Students     ELA   \n",
      "4    ca   Educate 78  2015       10017    123968   All  All Students     ELA   \n",
      "\n",
      "   st_quin  city_quin  ...                   schoolgrantstrategy_grant_school  \\\n",
      "0      1.0        1.0  ...                                                NaN   \n",
      "1      1.0        1.0  ...                                                NaN   \n",
      "2      3.0        3.0  ...                                                NaN   \n",
      "3      2.0        2.0  ...  Expansion (new school, existing operator); Imp...   \n",
      "4      2.0        2.0  ...    Improvement (existing school, current operator)   \n",
      "\n",
      "   startdate  startdate_grant_school  levelofedchampinvolvement  \\\n",
      "0        NaN                     NaN                        NaN   \n",
      "1        NaN                     NaN                        NaN   \n",
      "2        NaN                     NaN                        NaN   \n",
      "3        NaN               2/15/2017                        NaN   \n",
      "4        NaN                4/1/2020                        NaN   \n",
      "\n",
      "  levelofedchampinvolvement_grant_school supportorganizationsinvolved  \\\n",
      "0                                    NaN                          NaN   \n",
      "1                                    NaN                          NaN   \n",
      "2                                    NaN                          NaN   \n",
      "3              3-Driver/owner of process                          NaN   \n",
      "4              3-Driver/owner of process                          NaN   \n",
      "\n",
      "  supportorganizationsinvolved_grant_school granttype granttype_grant_school  \\\n",
      "0                                       NaN       NaN                    NaN   \n",
      "1                                       NaN       NaN                    NaN   \n",
      "2                                       NaN       NaN                    NaN   \n",
      "3                                       NaN       NaN         Planning Grant   \n",
      "4                                       NEP       NaN                   Both   \n",
      "\n",
      "  grade_config  \n",
      "0         MSHS  \n",
      "1         MSHS  \n",
      "2         MSHS  \n",
      "3         ESMS  \n",
      "4         ESMS  \n",
      "\n",
      "[5 rows x 25 columns]\n"
     ]
    }
   ],
   "source": [
    "# filter to relevant columns\n",
    "df_p = df_p[['state', 'edchamp_name', 'year', 'district_id', 'school_id', 'grade', 'group', 'subject', 'st_quin', 'city_quin', 'st_quin_imp', 'city_quin_imp', 'grantid', 'grantid_grant_school', 'leagrantstrategy', 'schoolgrantstrategy_grant_school', 'startdate', 'startdate_grant_school','levelofedchampinvolvement', 'levelofedchampinvolvement_grant_school','supportorganizationsinvolved', 'supportorganizationsinvolved_grant_school','granttype', 'granttype_grant_school', 'grade_config']]\n",
    "print(df_p.head(5))"
   ]
  },
  {
   "cell_type": "code",
   "execution_count": 4,
   "metadata": {},
   "outputs": [
    {
     "name": "stdout",
     "output_type": "stream",
     "text": [
      "state                                         object\n",
      "edchamp_name                                  object\n",
      "year                                           int64\n",
      "district_id                                   object\n",
      "school_id                                     object\n",
      "grade                                         object\n",
      "group                                         object\n",
      "subject                                       object\n",
      "st_quin                                      float64\n",
      "city_quin                                    float64\n",
      "st_quin_imp                                  float64\n",
      "city_quin_imp                                float64\n",
      "grantid                                      float64\n",
      "grantid_grant_school                         float64\n",
      "leagrantstrategy                              object\n",
      "schoolgrantstrategy_grant_school              object\n",
      "startdate                                     object\n",
      "startdate_grant_school                        object\n",
      "levelofedchampinvolvement                     object\n",
      "levelofedchampinvolvement_grant_school        object\n",
      "supportorganizationsinvolved                  object\n",
      "supportorganizationsinvolved_grant_school     object\n",
      "granttype                                     object\n",
      "granttype_grant_school                        object\n",
      "grade_config                                  object\n",
      "dtype: object\n"
     ]
    }
   ],
   "source": [
    "print(df_p.dtypes)"
   ]
  },
  {
   "cell_type": "code",
   "execution_count": 6,
   "metadata": {},
   "outputs": [
    {
     "name": "stdout",
     "output_type": "stream",
     "text": [
      "(7329136, 25)\n",
      "(1428319, 25)\n"
     ]
    }
   ],
   "source": [
    "# filter to only grantees\n",
    "print(df_p.shape)\n",
    "df_p = df_p.dropna(subset=['grantid', 'grantid_grant_school'], how='all')\n",
    "print(df_p.shape)"
   ]
  },
  {
   "cell_type": "code",
   "execution_count": 15,
   "metadata": {},
   "outputs": [],
   "source": [
    "# change startdates to dates\n",
    "df_p['startdate'] = df_p['startdate'].str.strip()\n",
    "df_p['startdate_grant_school'] = df_p['startdate_grant_school'].str.strip()\n",
    "df_p['startdate_dt'] = pd.to_datetime(df_p['startdate'], errors='coerce', infer_datetime_format=True)\n",
    "df_p['startdate_grant_school_dt'] = pd.to_datetime(df_p['startdate_grant_school'], errors='coerce', infer_datetime_format=True)\n",
    "\n",
    "del df_p['startdate']\n",
    "del df_p['startdate_grant_school']"
   ]
  },
  {
   "cell_type": "code",
   "execution_count": 18,
   "metadata": {},
   "outputs": [],
   "source": [
    "# find months and spring years\n",
    "df_p['month_startdate'] = df_p.startdate_dt.dt.month\n",
    "df_p['month_startdate_grant_school'] = df_p.startdate_grant_school_dt.dt.month\n",
    "df_p['year_startdate'] = df_p.startdate_dt.dt.year\n",
    "df_p['year_startdate_grant_school'] = df_p.startdate_grant_school_dt.dt.year\n",
    "\n",
    "def calcSY(row):\n",
    "    if row['month_startdate'] >= 8:\n",
    "        return row['year_startdate'] + 1\n",
    "    else:\n",
    "        return row['year_startdate']\n",
    "\n",
    "df_p['startdate_sy'] = df_p.apply(lambda x: calcSY(x), axis = 1)\n",
    "\n",
    "def calcSYSchool(row):\n",
    "    if row['month_startdate_grant_school'] >= 8:\n",
    "        return row['year_startdate_grant_school'] + 1\n",
    "    else:\n",
    "        return row['year_startdate_grant_school']\n",
    "\n",
    "df_p['startdate_sy_grant_school'] = df_p.apply(lambda x: calcSYSchool(x), axis = 1)\n",
    "\n",
    "del df_p['month_startdate']\n",
    "del df_p['month_startdate_grant_school']\n",
    "del df_p['year_startdate']\n",
    "del df_p['year_startdate_grant_school']"
   ]
  },
  {
   "cell_type": "code",
   "execution_count": 20,
   "metadata": {},
   "outputs": [],
   "source": [
    "# calculate earliest grant\n",
    "def calcEarliestGrant(row):\n",
    "    if row['startdate_dt'] == np.datetime64('NaT'):\n",
    "        return row['startdate_sy_grant_school']\n",
    "    else:\n",
    "        if row['startdate_grant_school_dt'] == np.datetime64('NaT'):\n",
    "            return row['startdate_sy']\n",
    "        else:\n",
    "            if row['startdate_dt'] < row['startdate_grant_school_dt']:\n",
    "                return row['startdate_sy']\n",
    "            else:\n",
    "                return row['startdate_sy_grant_school']\n",
    "\n",
    "df_p['earliest_grant_sy'] = df_p.apply(lambda x: calcEarliestGrant(x), axis=1)"
   ]
  },
  {
   "cell_type": "code",
   "execution_count": null,
   "metadata": {},
   "outputs": [],
   "source": [
    "# calculate min grant sy for every school and join back to school year"
   ]
  },
  {
   "cell_type": "code",
   "execution_count": 22,
   "metadata": {},
   "outputs": [],
   "source": [
    "# calculate grant year\n",
    "df_p['grant_year'] = df_p['year'] - df_p['earliest_grant_sy'] + 1\n",
    "df_p.to_csv('temp.csv')"
   ]
  },
  {
   "cell_type": "code",
   "execution_count": null,
   "metadata": {},
   "outputs": [],
   "source": [
    "# create grant year 0, and all following grant years\n",
    "df_0 = df_p[df_p.grant_year.eq(0)]\n",
    "df_5 = df_p[df_p.grant_year.eq(5)]\n",
    "# del df_p\n",
    "\n",
    "df_5 = df_5[['state', 'edchamp_name', 'year', 'district_id', 'school_id', 'grade', 'group', 'subject', 'st_quin', 'city_quin', 'st_quin_imp', 'city_quin_imp', 'grantid', 'grantid_grant_school', 'leagrantstrategy', 'schoolgrantstrategy_grant_school', 'startdate', 'startdate_grant_school','levelofedchampinvolvement', 'levelofedchampinvolvement_grant_school','supportorganizationsinvolved', 'supportorganizationsinvolved_grant_school','granttype', 'granttype_grant_school', 'grade_config']]\n",
    "\n",
    "df = df_0.merge(df_5, on = ['state', 'edchamp_name', 'year', 'district_id', 'school_id', 'grade', 'group', 'subject'])"
   ]
  }
 ],
 "metadata": {
  "kernelspec": {
   "display_name": "Python 3",
   "language": "python",
   "name": "python3"
  },
  "language_info": {
   "codemirror_mode": {
    "name": "ipython",
    "version": 3
   },
   "file_extension": ".py",
   "mimetype": "text/x-python",
   "name": "python",
   "nbconvert_exporter": "python",
   "pygments_lexer": "ipython3",
   "version": "3.7.3"
  }
 },
 "nbformat": 4,
 "nbformat_minor": 4
}
