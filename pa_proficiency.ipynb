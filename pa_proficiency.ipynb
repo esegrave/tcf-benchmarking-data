{
 "cells": [
  {
   "cell_type": "code",
   "execution_count": 25,
   "metadata": {},
   "outputs": [],
   "source": [
    "import pandas as pd\n",
    "import numpy as np\n",
    "import util\n",
    "\n",
    "proficiency_path = './data/pa/proficiency/'\n",
    "\n",
    "# import pssa\n",
    "pssa_files = [\n",
    "    'pa_proficiency_2019_pssa_cleaned.csv'\n",
    "    , 'pa_proficiency_2018_pssa_cleaned.csv'\n",
    "    , 'pa_proficiency_2017_pssa_cleaned.csv'\n",
    "    , 'pa_proficiency_2016_pssa_cleaned.csv'\n",
    "    , 'pa_proficiency_2015_pssa_cleaned.csv'\n",
    "]\n",
    "\n",
    "pssa_years = [x[15:19] for x in pssa_files]\n",
    "\n",
    "df_pssa = pd.read_csv(proficiency_path + pssa_files[0])\n",
    "df_pssa['year'] = df_pssa.apply(lambda x: pssa_years[0], axis=1)\n",
    "\n",
    "for i in range(1, len(pssa_files)):\n",
    "    temp = pd.read_csv(proficiency_path + pssa_files[i])\n",
    "    temp['year'] = temp.apply(lambda x: pssa_years[i], axis=1)\n",
    "    df_pssa = df_pssa.append(temp, ignore_index = True, sort=True)\n",
    "\n",
    "# rename columns\n",
    "df_pssa = df_pssa.rename(columns={\n",
    "    'AUN': 'district_id'\n",
    "    , 'District': 'district'\n",
    "    , 'Grade': 'grade'\n",
    "    , 'Group': 'group_state'\n",
    "    , 'Number Scored': 'num_tested'\n",
    "    , 'School': 'school'\n",
    "    , 'School Number': 'school_id'\n",
    "    , 'Subject': 'subject'\n",
    "    , '% Advanced': 'Percent Advanced'\n",
    "    , '% Proficient': 'Percent Proficient'\n",
    "    , '% Basic': 'Percent Basic'\n",
    "    , '% Below Basic': 'Percent Below Basic'\n",
    "})\n",
    "\n",
    "# rename Total and School Total to All Grades\n",
    "df_pssa['grade'] = [x if (x != 'Total' and x != 'School Total') else 'All Grades' for x in df_pssa['grade']]"
   ]
  },
  {
   "cell_type": "code",
   "execution_count": 26,
   "metadata": {},
   "outputs": [],
   "source": [
    "# import keystone\n",
    "keystone_files = [\n",
    "    'pa_proficiency_2019_keystone_cleaned.csv'\n",
    "    , 'pa_proficiency_2018_keystone_cleaned.csv'\n",
    "    , 'pa_proficiency_2017_keystone_cleaned.csv'\n",
    "    , 'pa_proficiency_2016_keystone_cleaned.csv'\n",
    "    , 'pa_proficiency_2015_keystone_cleaned.csv'\n",
    "]\n",
    "\n",
    "keystone_years = [x[15:19] for x in keystone_files]\n",
    "\n",
    "df_keystone = pd.read_csv(proficiency_path + keystone_files[0])\n",
    "df_keystone['year'] = df_keystone.apply(lambda x: keystone_years[0], axis=1)\n",
    "\n",
    "for i in range(1, len(keystone_files)):\n",
    "    temp = pd.read_csv(proficiency_path + keystone_files[i])\n",
    "    temp['year'] = temp.apply(lambda x: keystone_years[i], axis=1)\n",
    "    df_keystone = df_keystone.append(temp, ignore_index = True, sort=True)\n",
    "\n",
    "# rename columns\n",
    "df_keystone = df_keystone.rename(columns={\n",
    "    'AUN': 'district_id'\n",
    "    , 'District': 'district'\n",
    "    , 'Grade': 'grade'\n",
    "    , 'Group': 'group_state'\n",
    "    , 'Number Scored': 'num_tested'\n",
    "    , 'School': 'school'\n",
    "    , 'School Number': 'school_id'\n",
    "    , 'Subject': 'subject'\n",
    "})\n",
    "\n",
    "# drop null rows\n",
    "df_keystone = df_keystone.dropna(subset=['Percent Advanced', 'Percent Proficient', 'Percent Basic', 'Percent Below Basic'], how='all')"
   ]
  },
  {
   "cell_type": "code",
   "execution_count": 27,
   "metadata": {},
   "outputs": [
    {
     "name": "stderr",
     "output_type": "stream",
     "text": [
      "/Library/Frameworks/Python.framework/Versions/3.7/lib/python3.7/site-packages/ipykernel_launcher.py:3: SettingWithCopyWarning: \n",
      "A value is trying to be set on a copy of a slice from a DataFrame.\n",
      "Try using .loc[row_indexer,col_indexer] = value instead\n",
      "\n",
      "See the caveats in the documentation: http://pandas.pydata.org/pandas-docs/stable/indexing.html#indexing-view-versus-copy\n",
      "  This is separate from the ipykernel package so we can avoid doing imports until\n"
     ]
    }
   ],
   "source": [
    "# create All Grades groups for years 2016 - 2019\n",
    "temp = df_keystone[df_keystone['year'] != '2015']\n",
    "temp['grade'] = temp.apply(lambda x: 'All Grades', axis = 1)\n",
    "df_keystone = df_keystone.append(temp, ignore_index = True, sort=True)\n",
    "\n",
    "# rename 2015 Total grade to All Grades\n",
    "df_keystone['grade'] = [x if x != 'Total' else 'All Grades' for x in df_keystone['grade']]"
   ]
  },
  {
   "cell_type": "code",
   "execution_count": 28,
   "metadata": {},
   "outputs": [
    {
     "name": "stdout",
     "output_type": "stream",
     "text": [
      "  County Growth  Growth** Percent Advanced Percent Basic Percent Below Basic  \\\n",
      "0  Adams    NaN       NaN              7.9          27.1                12.1   \n",
      "1  Adams    NaN       NaN             24.4          27.6                10.6   \n",
      "2  Adams    NaN       NaN             15.6          27.4                11.4   \n",
      "3  Adams    NaN       NaN              4.5          31.8                22.7   \n",
      "4  Adams    NaN       NaN             16.2          36.8                16.2   \n",
      "\n",
      "  Percent Proficient  Unnamed: 13  Unnamed: 14  Unnamed: 15  ...  Year  \\\n",
      "0               52.9          NaN          NaN          NaN  ...   NaN   \n",
      "1               37.4          NaN          NaN          NaN  ...   NaN   \n",
      "2               45.6          NaN          NaN          NaN  ...   NaN   \n",
      "3               40.9          NaN          NaN          NaN  ...   NaN   \n",
      "4               30.9          NaN          NaN          NaN  ...   NaN   \n",
      "\n",
      "               district  district_id       grade  \\\n",
      "0  BERMUDIAN SPRINGS SD  112011103.0           3   \n",
      "1  BERMUDIAN SPRINGS SD  112011103.0           4   \n",
      "2  BERMUDIAN SPRINGS SD  112011103.0  All Grades   \n",
      "3  BERMUDIAN SPRINGS SD  112011103.0           3   \n",
      "4  BERMUDIAN SPRINGS SD  112011103.0           4   \n",
      "\n",
      "                    group_state  num_tested                    school  \\\n",
      "0                  All Students       140.0  BERMUDIAN SPRINGS EL SCH   \n",
      "1                  All Students       123.0  BERMUDIAN SPRINGS EL SCH   \n",
      "2                  All Students       263.0  BERMUDIAN SPRINGS EL SCH   \n",
      "3  Historically Underperforming        66.0  BERMUDIAN SPRINGS EL SCH   \n",
      "4  Historically Underperforming        68.0  BERMUDIAN SPRINGS EL SCH   \n",
      "\n",
      "  school_id                subject  year  \n",
      "0    7302.0  English Language Arts  2019  \n",
      "1    7302.0  English Language Arts  2019  \n",
      "2    7302.0  English Language Arts  2019  \n",
      "3    7302.0  English Language Arts  2019  \n",
      "4    7302.0  English Language Arts  2019  \n",
      "\n",
      "[5 rows x 23 columns]\n"
     ]
    }
   ],
   "source": [
    "# combine test files into one file\n",
    "df = df_pssa.append(df_keystone, ignore_index = True, sort = True)"
   ]
  },
  {
   "cell_type": "code",
   "execution_count": 29,
   "metadata": {},
   "outputs": [
    {
     "name": "stdout",
     "output_type": "stream",
     "text": [
      "   year  district_id              district  school_id  \\\n",
      "0  2019  112011103.0  BERMUDIAN SPRINGS SD     7302.0   \n",
      "1  2019  112011103.0  BERMUDIAN SPRINGS SD     7302.0   \n",
      "2  2019  112011103.0  BERMUDIAN SPRINGS SD     7302.0   \n",
      "3  2019  112011103.0  BERMUDIAN SPRINGS SD     7302.0   \n",
      "4  2019  112011103.0  BERMUDIAN SPRINGS SD     7302.0   \n",
      "\n",
      "                     school       grade                   group_state  \\\n",
      "0  BERMUDIAN SPRINGS EL SCH           3                  All Students   \n",
      "1  BERMUDIAN SPRINGS EL SCH           4                  All Students   \n",
      "2  BERMUDIAN SPRINGS EL SCH  All Grades                  All Students   \n",
      "3  BERMUDIAN SPRINGS EL SCH           3  Historically Underperforming   \n",
      "4  BERMUDIAN SPRINGS EL SCH           4  Historically Underperforming   \n",
      "\n",
      "                 subject  num_tested performance_level pct_at_level  \n",
      "0  English Language Arts       140.0  Percent Advanced          7.9  \n",
      "1  English Language Arts       123.0  Percent Advanced         24.4  \n",
      "2  English Language Arts       263.0  Percent Advanced         15.6  \n",
      "3  English Language Arts        66.0  Percent Advanced          4.5  \n",
      "4  English Language Arts        68.0  Percent Advanced         16.2  \n"
     ]
    }
   ],
   "source": [
    "# reshape file\n",
    "id_vars = ['year', 'district_id', 'district', 'school_id', 'school', 'grade', 'group_state', 'subject', 'num_tested']\n",
    "value_vars = ['Percent Advanced', 'Percent Proficient', 'Percent Basic', 'Percent Below Basic']\n",
    "df = pd.melt(df, id_vars = id_vars\n",
    "             , value_vars = value_vars\n",
    "             , var_name = 'performance_level'\n",
    "             , value_name = 'pct_at_level')\n",
    "print(df.head())"
   ]
  },
  {
   "cell_type": "code",
   "execution_count": 41,
   "metadata": {},
   "outputs": [
    {
     "name": "stdout",
     "output_type": "stream",
     "text": [
      "   year  district_id              district  school_id  \\\n",
      "0  2019  112011103.0  BERMUDIAN SPRINGS SD     7302.0   \n",
      "1  2019  112011103.0  BERMUDIAN SPRINGS SD     7302.0   \n",
      "2  2019  112011103.0  BERMUDIAN SPRINGS SD     7302.0   \n",
      "3  2019  112011103.0  BERMUDIAN SPRINGS SD     7302.0   \n",
      "4  2019  112011103.0  BERMUDIAN SPRINGS SD     7302.0   \n",
      "\n",
      "                     school       grade                   group_state  \\\n",
      "0  BERMUDIAN SPRINGS EL SCH           3                  All Students   \n",
      "1  BERMUDIAN SPRINGS EL SCH           4                  All Students   \n",
      "2  BERMUDIAN SPRINGS EL SCH  All Grades                  All Students   \n",
      "3  BERMUDIAN SPRINGS EL SCH           3  Historically Underperforming   \n",
      "4  BERMUDIAN SPRINGS EL SCH           4  Historically Underperforming   \n",
      "\n",
      "                 subject  num_tested performance_level  pct_at_level  \\\n",
      "0  English Language Arts       140.0  Percent Advanced         0.079   \n",
      "1  English Language Arts       123.0  Percent Advanced         0.244   \n",
      "2  English Language Arts       263.0  Percent Advanced         0.156   \n",
      "3  English Language Arts        66.0  Percent Advanced         0.045   \n",
      "4  English Language Arts        68.0  Percent Advanced         0.162   \n",
      "\n",
      "   num_at_level  \n",
      "0            11  \n",
      "1            30  \n",
      "2            41  \n",
      "3             3  \n",
      "4            11  \n"
     ]
    },
    {
     "name": "stderr",
     "output_type": "stream",
     "text": [
      "/Library/Frameworks/Python.framework/Versions/3.7/lib/python3.7/site-packages/ipykernel_launcher.py:5: SettingWithCopyWarning: \n",
      "A value is trying to be set on a copy of a slice from a DataFrame.\n",
      "Try using .loc[row_indexer,col_indexer] = value instead\n",
      "\n",
      "See the caveats in the documentation: http://pandas.pydata.org/pandas-docs/stable/indexing.html#indexing-view-versus-copy\n",
      "  \"\"\"\n"
     ]
    }
   ],
   "source": [
    "# filter out suppressed values, create num_at_level\n",
    "df = df[df['pct_at_level'] != 'IS']\n",
    "df = df[~df['pct_at_level'].isna()]\n",
    "df['pct_at_level'] = pd.to_numeric(df['pct_at_level']) / 100.0\n",
    "df['num_at_level'] = df.apply(lambda x: int(round(x['pct_at_level'] * x['num_tested'])), axis = 1)"
   ]
  },
  {
   "cell_type": "code",
   "execution_count": 44,
   "metadata": {},
   "outputs": [
    {
     "name": "stdout",
     "output_type": "stream",
     "text": [
      "0         English Language Arts\n",
      "6                          Math\n",
      "12                      Science\n",
      "245384                Algebra I\n",
      "245386                  Biology\n",
      "245388               Literature\n",
      "261734                        E\n",
      "261738                        M\n",
      "261742                        S\n",
      "Name: subject, dtype: object\n",
      "0         ELA\n",
      "6        Math\n",
      "12    Science\n",
      "Name: subject, dtype: object\n"
     ]
    },
    {
     "name": "stderr",
     "output_type": "stream",
     "text": [
      "/Library/Frameworks/Python.framework/Versions/3.7/lib/python3.7/site-packages/ipykernel_launcher.py:12: SettingWithCopyWarning: \n",
      "A value is trying to be set on a copy of a slice from a DataFrame.\n",
      "Try using .loc[row_indexer,col_indexer] = value instead\n",
      "\n",
      "See the caveats in the documentation: http://pandas.pydata.org/pandas-docs/stable/indexing.html#indexing-view-versus-copy\n",
      "  if sys.path[0] == '':\n"
     ]
    }
   ],
   "source": [
    "# standardize subjects\n",
    "def clean_subjects(row):\n",
    "    if row['subject'] == 'Algebra I' or row['subject'] == 'M':\n",
    "        return 'Math'\n",
    "    if row['subject'] == 'English Language Arts' or row['subject'] == 'E' or row['subject'] == 'Literature':\n",
    "        return 'ELA'\n",
    "    if row['subject'] == 'Biology' or row['subject'] == 'S':\n",
    "        return 'Science'\n",
    "    return row['subject']\n",
    "\n",
    "df['subject'] = df.apply(lambda x: clean_subjects(x), axis = 1)"
   ]
  },
  {
   "cell_type": "code",
   "execution_count": 45,
   "metadata": {},
   "outputs": [
    {
     "name": "stdout",
     "output_type": "stream",
     "text": [
      "   year  district_id                     district  school_id  \\\n",
      "0  2015  100510000.0  FIRST PHILA CS FOR LITERACY     7744.0   \n",
      "1  2015  100510000.0  FIRST PHILA CS FOR LITERACY     7744.0   \n",
      "2  2015  100510000.0  FIRST PHILA CS FOR LITERACY     7744.0   \n",
      "3  2015  100510000.0  FIRST PHILA CS FOR LITERACY     7744.0   \n",
      "4  2015  100510000.0  FIRST PHILA CS FOR LITERACY     7744.0   \n",
      "\n",
      "                        school grade   group_state subject  \\\n",
      "0  FIRST PHILA CS FOR LITERACY     3  All Students     ELA   \n",
      "1  FIRST PHILA CS FOR LITERACY     3  All Students     ELA   \n",
      "2  FIRST PHILA CS FOR LITERACY     3  All Students     ELA   \n",
      "3  FIRST PHILA CS FOR LITERACY     3  All Students     ELA   \n",
      "4  FIRST PHILA CS FOR LITERACY     3  All Students    Math   \n",
      "\n",
      "     performance_level  num_tested  num_at_level  \n",
      "0     Percent Advanced       149.0             2  \n",
      "1        Percent Basic       149.0            63  \n",
      "2  Percent Below Basic       149.0            40  \n",
      "3   Percent Proficient       149.0            44  \n",
      "4     Percent Advanced       152.0             0  \n"
     ]
    }
   ],
   "source": [
    "# reaggregate file\n",
    "grouped_by = ['year', 'district_id', 'district', 'school_id', 'school', 'grade', 'group_state', 'subject', 'performance_level']\n",
    "df1 = df.groupby(grouped_by, as_index = False)['num_tested'].sum()\n",
    "df2 = df.groupby(grouped_by, as_index = False)['num_at_level'].sum()\n",
    "df = pd.merge(df1, df2, on = grouped_by)\n",
    "print(df.head())"
   ]
  },
  {
   "cell_type": "code",
   "execution_count": 46,
   "metadata": {},
   "outputs": [
    {
     "name": "stdout",
     "output_type": "stream",
     "text": [
      "0       Advanced\n",
      "1          Basic\n",
      "2    Below Basic\n",
      "3     Proficient\n",
      "Name: performance_level, dtype: object\n"
     ]
    }
   ],
   "source": [
    "# rename performance levels\n",
    "df['performance_level'] = [x.replace('Percent ', '') for x in df['performance_level']]"
   ]
  },
  {
   "cell_type": "code",
   "execution_count": 48,
   "metadata": {},
   "outputs": [
    {
     "name": "stdout",
     "output_type": "stream",
     "text": [
      "   year  district_id                     district  school_id  \\\n",
      "0  2015  100510000.0  FIRST PHILA CS FOR LITERACY     7744.0   \n",
      "1  2015  100510000.0  FIRST PHILA CS FOR LITERACY     7744.0   \n",
      "2  2015  100510000.0  FIRST PHILA CS FOR LITERACY     7744.0   \n",
      "3  2015  100510000.0  FIRST PHILA CS FOR LITERACY     7744.0   \n",
      "4  2015  100510000.0  FIRST PHILA CS FOR LITERACY     7744.0   \n",
      "\n",
      "                        school grade   group_state subject performance_level  \\\n",
      "0  FIRST PHILA CS FOR LITERACY     3  All Students     ELA          Advanced   \n",
      "1  FIRST PHILA CS FOR LITERACY     3  All Students     ELA             Basic   \n",
      "2  FIRST PHILA CS FOR LITERACY     3  All Students     ELA       Below Basic   \n",
      "3  FIRST PHILA CS FOR LITERACY     3  All Students     ELA        Proficient   \n",
      "4  FIRST PHILA CS FOR LITERACY     3  All Students    Math          Advanced   \n",
      "\n",
      "   num_tested  num_at_level  pct_at_level  \n",
      "0       149.0             2      0.013423  \n",
      "1       149.0            63      0.422819  \n",
      "2       149.0            40      0.268456  \n",
      "3       149.0            44      0.295302  \n",
      "4       152.0             0      0.000000  \n"
     ]
    }
   ],
   "source": [
    "# recalculate pct_at_level\n",
    "df['pct_at_level'] = df['num_at_level'] / df['num_tested']"
   ]
  },
  {
   "cell_type": "code",
   "execution_count": 49,
   "metadata": {},
   "outputs": [
    {
     "name": "stdout",
     "output_type": "stream",
     "text": [
      "   proficient_tf performance_level\n",
      "0              1          Advanced\n",
      "1              0             Basic\n",
      "2              0       Below Basic\n",
      "3              1        Proficient\n"
     ]
    }
   ],
   "source": [
    "# add proficient_tf\n",
    "df['proficient_tf'] = [1 if x == 'Advanced' or x == 'Proficient' else 0 for x in df['performance_level']]"
   ]
  },
  {
   "cell_type": "code",
   "execution_count": 50,
   "metadata": {},
   "outputs": [],
   "source": [
    "# export final dataset\n",
    "df.to_csv('./data/finalized/pa_proficiency.csv', index=False)"
   ]
  },
  {
   "cell_type": "code",
   "execution_count": null,
   "metadata": {},
   "outputs": [],
   "source": []
  }
 ],
 "metadata": {
  "kernelspec": {
   "display_name": "Python 3",
   "language": "python",
   "name": "python3"
  },
  "language_info": {
   "codemirror_mode": {
    "name": "ipython",
    "version": 3
   },
   "file_extension": ".py",
   "mimetype": "text/x-python",
   "name": "python",
   "nbconvert_exporter": "python",
   "pygments_lexer": "ipython3",
   "version": "3.7.3"
  }
 },
 "nbformat": 4,
 "nbformat_minor": 4
}
