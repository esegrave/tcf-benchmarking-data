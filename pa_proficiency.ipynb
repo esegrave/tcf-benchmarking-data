{
 "cells": [
  {
   "cell_type": "code",
   "execution_count": 53,
   "metadata": {},
   "outputs": [],
   "source": [
    "import pandas as pd\n",
    "import numpy as np\n",
    "import util\n",
    "\n",
    "proficiency_path = './data/pa/proficiency/'\n",
    "\n",
    "# import pssa\n",
    "pssa_files = [\n",
    "    'pa_proficiency_2019_pssa_cleaned.csv'\n",
    "    , 'pa_proficiency_2018_pssa_cleaned.csv'\n",
    "    , 'pa_proficiency_2017_pssa_cleaned.csv'\n",
    "    , 'pa_proficiency_2016_pssa_cleaned.csv'\n",
    "    , 'pa_proficiency_2015_pssa_cleaned.csv'\n",
    "]\n",
    "\n",
    "pssa_years = [x[15:19] for x in pssa_files]\n",
    "\n",
    "df_pssa = pd.read_csv(proficiency_path + pssa_files[0])\n",
    "df_pssa['year'] = df_pssa.apply(lambda x: pssa_years[0], axis=1)\n",
    "\n",
    "for i in range(1, len(pssa_files)):\n",
    "    temp = pd.read_csv(proficiency_path + pssa_files[i])\n",
    "    temp['year'] = temp.apply(lambda x: pssa_years[i], axis=1)\n",
    "    df_pssa = df_pssa.append(temp, ignore_index = True, sort=True)\n",
    "\n",
    "# rename columns\n",
    "df_pssa = df_pssa.rename(columns={\n",
    "    'AUN': 'district_id'\n",
    "    , 'District': 'district'\n",
    "    , 'Grade': 'grade'\n",
    "    , 'Group': 'group_state'\n",
    "    , 'Number Scored': 'num_tested'\n",
    "    , 'School': 'school'\n",
    "    , 'School Number': 'school_id'\n",
    "    , 'Subject': 'subject'\n",
    "    , '% Advanced': 'Percent Advanced'\n",
    "    , '% Proficient': 'Percent Proficient'\n",
    "    , '% Basic': 'Percent Basic'\n",
    "    , '% Below Basic': 'Percent Below Basic'\n",
    "})\n",
    "\n",
    "# rename Total and School Total to All Grades\n",
    "df_pssa['grade'] = [x if (x != 'Total' and x != 'School Total') else 'All Grades' for x in df_pssa['grade']]"
   ]
  },
  {
   "cell_type": "code",
   "execution_count": 54,
   "metadata": {},
   "outputs": [],
   "source": [
    "# import keystone\n",
    "keystone_files = [\n",
    "    'pa_proficiency_2019_keystone_cleaned.csv'\n",
    "    , 'pa_proficiency_2018_keystone_cleaned.csv'\n",
    "    , 'pa_proficiency_2017_keystone_cleaned.csv'\n",
    "    , 'pa_proficiency_2016_keystone_cleaned.csv'\n",
    "    , 'pa_proficiency_2015_keystone_cleaned.csv'\n",
    "]\n",
    "\n",
    "keystone_years = [x[15:19] for x in keystone_files]\n",
    "\n",
    "df_keystone = pd.read_csv(proficiency_path + keystone_files[0])\n",
    "df_keystone['year'] = df_keystone.apply(lambda x: keystone_years[0], axis=1)\n",
    "\n",
    "for i in range(1, len(keystone_files)):\n",
    "    temp = pd.read_csv(proficiency_path + keystone_files[i])\n",
    "    temp['year'] = temp.apply(lambda x: keystone_years[i], axis=1)\n",
    "    df_keystone = df_keystone.append(temp, ignore_index = True, sort=True)\n",
    "\n",
    "# rename columns\n",
    "df_keystone = df_keystone.rename(columns={\n",
    "    'AUN': 'district_id'\n",
    "    , 'District': 'district'\n",
    "    , 'Grade': 'grade'\n",
    "    , 'Group': 'group_state'\n",
    "    , 'Number Scored': 'num_tested'\n",
    "    , 'School': 'school'\n",
    "    , 'School Number': 'school_id'\n",
    "    , 'Subject': 'subject'\n",
    "})\n",
    "\n",
    "# drop null rows\n",
    "df_keystone = df_keystone.dropna(subset=['Percent Advanced', 'Percent Proficient', 'Percent Basic', 'Percent Below Basic'], how='all')"
   ]
  },
  {
   "cell_type": "code",
   "execution_count": 55,
   "metadata": {},
   "outputs": [
    {
     "name": "stderr",
     "output_type": "stream",
     "text": [
      "/Library/Frameworks/Python.framework/Versions/3.7/lib/python3.7/site-packages/ipykernel_launcher.py:8: SettingWithCopyWarning: \n",
      "A value is trying to be set on a copy of a slice from a DataFrame.\n",
      "Try using .loc[row_indexer,col_indexer] = value instead\n",
      "\n",
      "See the caveats in the documentation: http://pandas.pydata.org/pandas-docs/stable/indexing.html#indexing-view-versus-copy\n",
      "  \n"
     ]
    }
   ],
   "source": [
    "# add district IDs to 2015 data\n",
    "temp_2015 = df_keystone[df_keystone.year.eq('2015')]\n",
    "del temp_2015['district_id']\n",
    "temp_not = df_keystone[df_keystone['year'] != '2015']\n",
    "districts = temp_not[['district_id', 'district']]\n",
    "districts = districts.drop_duplicates()\n",
    "districts['district'] = districts['district'].str.strip()\n",
    "temp_2015['district'] = temp_2015['district'].str.strip()\n",
    "temp_2015 = temp_2015.merge(districts, on='district', how='left')\n",
    "\n",
    "df_keystone = temp_2015.append(temp_not, ignore_index = True, sort=True)\n",
    "del temp_2015\n",
    "del temp_not\n",
    "del districts"
   ]
  },
  {
   "cell_type": "code",
   "execution_count": 56,
   "metadata": {},
   "outputs": [
    {
     "name": "stderr",
     "output_type": "stream",
     "text": [
      "/Library/Frameworks/Python.framework/Versions/3.7/lib/python3.7/site-packages/ipykernel_launcher.py:3: SettingWithCopyWarning: \n",
      "A value is trying to be set on a copy of a slice from a DataFrame.\n",
      "Try using .loc[row_indexer,col_indexer] = value instead\n",
      "\n",
      "See the caveats in the documentation: http://pandas.pydata.org/pandas-docs/stable/indexing.html#indexing-view-versus-copy\n",
      "  This is separate from the ipykernel package so we can avoid doing imports until\n"
     ]
    }
   ],
   "source": [
    "# create All Grades groups for years 2016 - 2019\n",
    "temp = df_keystone[df_keystone['year'] != '2015']\n",
    "temp['grade'] = temp.apply(lambda x: 'All Grades', axis = 1)\n",
    "df_keystone = df_keystone.append(temp, ignore_index = True, sort=True)\n",
    "\n",
    "# rename 2015 Total grade to All Grades\n",
    "df_keystone['grade'] = [x if x != 'Total' else 'All Grades' for x in df_keystone['grade']]"
   ]
  },
  {
   "cell_type": "code",
   "execution_count": 57,
   "metadata": {},
   "outputs": [],
   "source": [
    "# combine test files into one file\n",
    "df = df_pssa.append(df_keystone, ignore_index = True, sort = True)"
   ]
  },
  {
   "cell_type": "code",
   "execution_count": 58,
   "metadata": {},
   "outputs": [
    {
     "name": "stdout",
     "output_type": "stream",
     "text": [
      "   year  district_id              district  school_id  \\\n",
      "0  2019  112011103.0  BERMUDIAN SPRINGS SD     7302.0   \n",
      "1  2019  112011103.0  BERMUDIAN SPRINGS SD     7302.0   \n",
      "2  2019  112011103.0  BERMUDIAN SPRINGS SD     7302.0   \n",
      "3  2019  112011103.0  BERMUDIAN SPRINGS SD     7302.0   \n",
      "4  2019  112011103.0  BERMUDIAN SPRINGS SD     7302.0   \n",
      "\n",
      "                     school       grade                   group_state  \\\n",
      "0  BERMUDIAN SPRINGS EL SCH           3                  All Students   \n",
      "1  BERMUDIAN SPRINGS EL SCH           4                  All Students   \n",
      "2  BERMUDIAN SPRINGS EL SCH  All Grades                  All Students   \n",
      "3  BERMUDIAN SPRINGS EL SCH           3  Historically Underperforming   \n",
      "4  BERMUDIAN SPRINGS EL SCH           4  Historically Underperforming   \n",
      "\n",
      "                 subject  num_tested performance_level pct_at_level  \n",
      "0  English Language Arts       140.0  Percent Advanced          7.9  \n",
      "1  English Language Arts       123.0  Percent Advanced         24.4  \n",
      "2  English Language Arts       263.0  Percent Advanced         15.6  \n",
      "3  English Language Arts        66.0  Percent Advanced          4.5  \n",
      "4  English Language Arts        68.0  Percent Advanced         16.2  \n"
     ]
    }
   ],
   "source": [
    "# reshape file\n",
    "id_vars = ['year', 'district_id', 'district', 'school_id', 'school', 'grade', 'group_state', 'subject', 'num_tested']\n",
    "value_vars = ['Percent Advanced', 'Percent Proficient', 'Percent Basic', 'Percent Below Basic']\n",
    "df = pd.melt(df, id_vars = id_vars\n",
    "             , value_vars = value_vars\n",
    "             , var_name = 'performance_level'\n",
    "             , value_name = 'pct_at_level')\n",
    "print(df.head())"
   ]
  },
  {
   "cell_type": "code",
   "execution_count": 59,
   "metadata": {},
   "outputs": [],
   "source": [
    "# filter out suppressed values, create num_at_level\n",
    "df = df[df['pct_at_level'] != 'IS']\n",
    "df = df[~df['pct_at_level'].isna()]\n",
    "df['pct_at_level'] = pd.to_numeric(df['pct_at_level']) / 100.0\n",
    "df['num_at_level'] = df.apply(lambda x: int(round(x['pct_at_level'] * x['num_tested'])), axis = 1)"
   ]
  },
  {
   "cell_type": "code",
   "execution_count": 60,
   "metadata": {},
   "outputs": [],
   "source": [
    "# standardize subjects\n",
    "def clean_subjects(row):\n",
    "    if row['subject'] == 'Algebra I' or row['subject'] == 'M':\n",
    "        return 'Math'\n",
    "    if row['subject'] == 'English Language Arts' or row['subject'] == 'E' or row['subject'] == 'Literature':\n",
    "        return 'ELA'\n",
    "    if row['subject'] == 'Biology' or row['subject'] == 'S':\n",
    "        return 'Science'\n",
    "    return row['subject']\n",
    "\n",
    "df['subject'] = df.apply(lambda x: clean_subjects(x), axis = 1)"
   ]
  },
  {
   "cell_type": "code",
   "execution_count": 61,
   "metadata": {},
   "outputs": [
    {
     "name": "stdout",
     "output_type": "stream",
     "text": [
      "(1118872, 12)\n",
      "(1118872, 12)\n"
     ]
    }
   ],
   "source": [
    "# drop rows with null num_tested and num_at_level\n",
    "print(df.shape)\n",
    "df = df.dropna(subset=['num_tested', 'num_at_level'])\n",
    "print(df.shape)"
   ]
  },
  {
   "cell_type": "code",
   "execution_count": 62,
   "metadata": {},
   "outputs": [
    {
     "name": "stdout",
     "output_type": "stream",
     "text": [
      "year  grade       group_state                 \n",
      "2015  11          All Students                     8240\n",
      "                  Historically Underperforming     7968\n",
      "      3           All Students                    13056\n",
      "                  Historically Underperforming    12504\n",
      "      4           All Students                    19088\n",
      "                  Historically Underperforming    18316\n",
      "      5           All Students                    11856\n",
      "                  Historically Underperforming    11360\n",
      "      6           All Students                     8564\n",
      "                  Historically Underperforming     8352\n",
      "      7           All Students                     6996\n",
      "                  Historically Underperforming     6900\n",
      "      8           All Students                    10448\n",
      "                  Historically Underperforming    10204\n",
      "      All Grades  All Students                    36148\n",
      "                  Historically Underperforming    35544\n",
      "2016  11.0        All Students                     8268\n",
      "                  Historically Underperforming     8100\n",
      "      3           All Students                    12976\n",
      "                  Historically Underperforming    12392\n",
      "      4           All Students                    18976\n",
      "                  Historically Underperforming    18284\n",
      "      5           All Students                    11684\n",
      "                  Historically Underperforming    11268\n",
      "      6           All Students                     8456\n",
      "                  Historically Underperforming     8264\n",
      "      7           All Students                     6980\n",
      "                  Historically Underperforming     6840\n",
      "      8           All Students                    10448\n",
      "                  Historically Underperforming    10284\n",
      "                                                  ...  \n",
      "2018  3           All Students                    12748\n",
      "                  Historically Underperforming    12316\n",
      "      4           All Students                    18724\n",
      "                  Historically Underperforming    18052\n",
      "      5           All Students                    11616\n",
      "                  Historically Underperforming    11132\n",
      "      6           All Students                     8224\n",
      "                  Historically Underperforming     8048\n",
      "      7           All Students                     6992\n",
      "                  Historically Underperforming     6888\n",
      "      8           All Students                    10452\n",
      "                  Historically Underperforming    10284\n",
      "      All Grades  All Students                    35800\n",
      "                  Historically Underperforming    35348\n",
      "2019  11.0        All Students                     8328\n",
      "                  Historically Underperforming     8064\n",
      "      3           All Students                    12604\n",
      "                  Historically Underperforming    12216\n",
      "      4           All Students                    18496\n",
      "                  Historically Underperforming    17912\n",
      "      5           All Students                    11496\n",
      "                  Historically Underperforming    11116\n",
      "      6           All Students                     8172\n",
      "                  Historically Underperforming     8016\n",
      "      7           All Students                     7028\n",
      "                  Historically Underperforming     6916\n",
      "      8           All Students                    10496\n",
      "                  Historically Underperforming    10328\n",
      "      All Grades  All Students                    35484\n",
      "                  Historically Underperforming    35000\n",
      "Name: school_id, Length: 80, dtype: int64\n"
     ]
    }
   ],
   "source": [
    "print(df.groupby(['year', 'grade', 'group_state'])['school_id'].count())"
   ]
  },
  {
   "cell_type": "code",
   "execution_count": 63,
   "metadata": {},
   "outputs": [
    {
     "name": "stdout",
     "output_type": "stream",
     "text": [
      "year  grade       group_state                 \n",
      "2015  11          All Students                     8016\n",
      "                  Historically Underperforming     7816\n",
      "      3           All Students                    13056\n",
      "                  Historically Underperforming    12504\n",
      "      4           All Students                    19088\n",
      "                  Historically Underperforming    18316\n",
      "      5           All Students                    11856\n",
      "                  Historically Underperforming    11360\n",
      "      6           All Students                     8564\n",
      "                  Historically Underperforming     8352\n",
      "      7           All Students                     6996\n",
      "                  Historically Underperforming     6900\n",
      "      8           All Students                    10448\n",
      "                  Historically Underperforming    10204\n",
      "      All Grades  All Students                    33540\n",
      "                  Historically Underperforming    33140\n",
      "2016  11.0        All Students                     8268\n",
      "                  Historically Underperforming     8100\n",
      "      3           All Students                    12976\n",
      "                  Historically Underperforming    12392\n",
      "      4           All Students                    18976\n",
      "                  Historically Underperforming    18284\n",
      "      5           All Students                    11684\n",
      "                  Historically Underperforming    11268\n",
      "      6           All Students                     8456\n",
      "                  Historically Underperforming     8264\n",
      "      7           All Students                     6980\n",
      "                  Historically Underperforming     6840\n",
      "      8           All Students                    10448\n",
      "                  Historically Underperforming    10284\n",
      "                                                  ...  \n",
      "2018  3           All Students                    12748\n",
      "                  Historically Underperforming    12316\n",
      "      4           All Students                    18724\n",
      "                  Historically Underperforming    18052\n",
      "      5           All Students                    11616\n",
      "                  Historically Underperforming    11132\n",
      "      6           All Students                     8224\n",
      "                  Historically Underperforming     8048\n",
      "      7           All Students                     6992\n",
      "                  Historically Underperforming     6888\n",
      "      8           All Students                    10452\n",
      "                  Historically Underperforming    10284\n",
      "      All Grades  All Students                    33220\n",
      "                  Historically Underperforming    32876\n",
      "2019  11.0        All Students                     8328\n",
      "                  Historically Underperforming     8064\n",
      "      3           All Students                    12604\n",
      "                  Historically Underperforming    12216\n",
      "      4           All Students                    18496\n",
      "                  Historically Underperforming    17912\n",
      "      5           All Students                    11496\n",
      "                  Historically Underperforming    11116\n",
      "      6           All Students                     8172\n",
      "                  Historically Underperforming     8016\n",
      "      7           All Students                     7028\n",
      "                  Historically Underperforming     6916\n",
      "      8           All Students                    10496\n",
      "                  Historically Underperforming    10328\n",
      "      All Grades  All Students                    32736\n",
      "                  Historically Underperforming    32416\n",
      "Name: school_id, Length: 80, dtype: int64\n"
     ]
    }
   ],
   "source": [
    "# reaggregate file\n",
    "grouped_by = ['year', 'district_id', 'district', 'school_id', 'school', 'grade', 'group_state', 'subject', 'performance_level']\n",
    "df1 = df.groupby(grouped_by, as_index = False)['num_tested'].sum()\n",
    "df2 = df.groupby(grouped_by, as_index = False)['num_at_level'].sum()\n",
    "df = pd.merge(df1, df2, on = grouped_by)"
   ]
  },
  {
   "cell_type": "code",
   "execution_count": 64,
   "metadata": {},
   "outputs": [],
   "source": [
    "# rename performance levels\n",
    "df['performance_level'] = [x.replace('Percent ', '') for x in df['performance_level']]"
   ]
  },
  {
   "cell_type": "code",
   "execution_count": 65,
   "metadata": {},
   "outputs": [
    {
     "name": "stdout",
     "output_type": "stream",
     "text": [
      "(1093084, 11)\n",
      "(546542, 12)\n"
     ]
    }
   ],
   "source": [
    "# add proficient_tf\n",
    "print(df.shape)\n",
    "df['proficient_tf'] = [1 if x == 'Advanced' or x == 'Proficient' else 0 for x in df['performance_level']]\n",
    "df = df[df['proficient_tf']  == 1]\n",
    "print(df.shape)"
   ]
  },
  {
   "cell_type": "code",
   "execution_count": 66,
   "metadata": {},
   "outputs": [
    {
     "name": "stdout",
     "output_type": "stream",
     "text": [
      "(546542, 12)\n",
      "(546542, 12)\n"
     ]
    }
   ],
   "source": [
    "# remove rows with no scores\n",
    "print(df.shape)\n",
    "df = df.dropna(subset=['num_tested', 'num_at_level'])\n",
    "print(df.shape)"
   ]
  },
  {
   "cell_type": "code",
   "execution_count": 67,
   "metadata": {},
   "outputs": [
    {
     "name": "stdout",
     "output_type": "stream",
     "text": [
      "(546542, 12)\n",
      "(273271, 11)\n",
      "year  grade       group_state                 \n",
      "2015  11          All Students                    2004\n",
      "                  Historically Underperforming    1954\n",
      "      3           All Students                    3264\n",
      "                  Historically Underperforming    3126\n",
      "      4           All Students                    4772\n",
      "                  Historically Underperforming    4579\n",
      "      5           All Students                    2964\n",
      "                  Historically Underperforming    2840\n",
      "      6           All Students                    2141\n",
      "                  Historically Underperforming    2088\n",
      "      7           All Students                    1749\n",
      "                  Historically Underperforming    1725\n",
      "      8           All Students                    2612\n",
      "                  Historically Underperforming    2551\n",
      "      All Grades  All Students                    8385\n",
      "                  Historically Underperforming    8285\n",
      "2016  11.0        All Students                    2067\n",
      "                  Historically Underperforming    2025\n",
      "      3           All Students                    3244\n",
      "                  Historically Underperforming    3098\n",
      "      4           All Students                    4744\n",
      "                  Historically Underperforming    4571\n",
      "      5           All Students                    2921\n",
      "                  Historically Underperforming    2817\n",
      "      6           All Students                    2114\n",
      "                  Historically Underperforming    2066\n",
      "      7           All Students                    1745\n",
      "                  Historically Underperforming    1710\n",
      "      8           All Students                    2612\n",
      "                  Historically Underperforming    2571\n",
      "                                                  ... \n",
      "2018  3           All Students                    3187\n",
      "                  Historically Underperforming    3079\n",
      "      4           All Students                    4681\n",
      "                  Historically Underperforming    4513\n",
      "      5           All Students                    2904\n",
      "                  Historically Underperforming    2783\n",
      "      6           All Students                    2056\n",
      "                  Historically Underperforming    2012\n",
      "      7           All Students                    1748\n",
      "                  Historically Underperforming    1722\n",
      "      8           All Students                    2613\n",
      "                  Historically Underperforming    2571\n",
      "      All Grades  All Students                    8305\n",
      "                  Historically Underperforming    8219\n",
      "2019  11.0        All Students                    2082\n",
      "                  Historically Underperforming    2016\n",
      "      3           All Students                    3151\n",
      "                  Historically Underperforming    3054\n",
      "      4           All Students                    4624\n",
      "                  Historically Underperforming    4478\n",
      "      5           All Students                    2874\n",
      "                  Historically Underperforming    2779\n",
      "      6           All Students                    2043\n",
      "                  Historically Underperforming    2004\n",
      "      7           All Students                    1757\n",
      "                  Historically Underperforming    1729\n",
      "      8           All Students                    2624\n",
      "                  Historically Underperforming    2582\n",
      "      All Grades  All Students                    8184\n",
      "                  Historically Underperforming    8104\n",
      "Name: school_id, Length: 80, dtype: int64\n"
     ]
    }
   ],
   "source": [
    "# roll up into a single performance level\n",
    "print(df.shape)\n",
    "grouped_by = ['year', 'district_id', 'district', 'school_id', 'school', 'subject', 'grade', 'group_state', 'proficient_tf']\n",
    "df = df.groupby(grouped_by, as_index=False).agg({'num_tested': 'sum', 'num_at_level': 'sum'})\n",
    "print(df.shape)"
   ]
  },
  {
   "cell_type": "code",
   "execution_count": 68,
   "metadata": {},
   "outputs": [
    {
     "name": "stdout",
     "output_type": "stream",
     "text": [
      "year  grade       group_state                 \n",
      "2015  11          All Students                    2004\n",
      "                  Historically Underperforming    1954\n",
      "      3           All Students                    3264\n",
      "                  Historically Underperforming    3126\n",
      "      4           All Students                    4772\n",
      "                  Historically Underperforming    4579\n",
      "      5           All Students                    2964\n",
      "                  Historically Underperforming    2840\n",
      "      6           All Students                    2141\n",
      "                  Historically Underperforming    2088\n",
      "      7           All Students                    1749\n",
      "                  Historically Underperforming    1725\n",
      "      8           All Students                    2612\n",
      "                  Historically Underperforming    2551\n",
      "      All Grades  All Students                    8385\n",
      "                  Historically Underperforming    8285\n",
      "2016  11.0        All Students                    2067\n",
      "                  Historically Underperforming    2025\n",
      "      3           All Students                    3244\n",
      "                  Historically Underperforming    3098\n",
      "      4           All Students                    4744\n",
      "                  Historically Underperforming    4571\n",
      "      5           All Students                    2921\n",
      "                  Historically Underperforming    2817\n",
      "      6           All Students                    2114\n",
      "                  Historically Underperforming    2066\n",
      "      7           All Students                    1745\n",
      "                  Historically Underperforming    1710\n",
      "      8           All Students                    2612\n",
      "                  Historically Underperforming    2571\n",
      "                                                  ... \n",
      "2018  3           All Students                    3187\n",
      "                  Historically Underperforming    3079\n",
      "      4           All Students                    4681\n",
      "                  Historically Underperforming    4513\n",
      "      5           All Students                    2904\n",
      "                  Historically Underperforming    2783\n",
      "      6           All Students                    2056\n",
      "                  Historically Underperforming    2012\n",
      "      7           All Students                    1748\n",
      "                  Historically Underperforming    1722\n",
      "      8           All Students                    2613\n",
      "                  Historically Underperforming    2571\n",
      "      All Grades  All Students                    8305\n",
      "                  Historically Underperforming    8219\n",
      "2019  11.0        All Students                    2082\n",
      "                  Historically Underperforming    2016\n",
      "      3           All Students                    3151\n",
      "                  Historically Underperforming    3054\n",
      "      4           All Students                    4624\n",
      "                  Historically Underperforming    4478\n",
      "      5           All Students                    2874\n",
      "                  Historically Underperforming    2779\n",
      "      6           All Students                    2043\n",
      "                  Historically Underperforming    2004\n",
      "      7           All Students                    1757\n",
      "                  Historically Underperforming    1729\n",
      "      8           All Students                    2624\n",
      "                  Historically Underperforming    2582\n",
      "      All Grades  All Students                    8184\n",
      "                  Historically Underperforming    8104\n",
      "Name: school_id, Length: 80, dtype: int64\n"
     ]
    }
   ],
   "source": [
    "# recalculate pct_at_level\n",
    "df['pct_at_level'] = df['num_at_level'] / df['num_tested']"
   ]
  },
  {
   "cell_type": "code",
   "execution_count": 69,
   "metadata": {},
   "outputs": [
    {
     "name": "stdout",
     "output_type": "stream",
     "text": [
      "year              object\n",
      "district_id      float64\n",
      "district          object\n",
      "school_id        float64\n",
      "school            object\n",
      "subject           object\n",
      "grade             object\n",
      "group_state       object\n",
      "proficient_tf      int64\n",
      "num_tested       float64\n",
      "num_at_level       int64\n",
      "pct_at_level     float64\n",
      "dtype: object\n",
      "year              object\n",
      "district_id       object\n",
      "district          object\n",
      "school_id         object\n",
      "school            object\n",
      "subject           object\n",
      "grade             object\n",
      "group_state       object\n",
      "proficient_tf       bool\n",
      "num_tested       float64\n",
      "num_at_level     float64\n",
      "pct_at_level     float64\n",
      "dtype: object\n"
     ]
    }
   ],
   "source": [
    "print(df.dtypes)\n",
    "df['district_id'] = df['district_id'].astype('int64')\n",
    "df['district_id'] = df['district_id'].astype(str)\n",
    "df['school_id'] = df['school_id'].astype('int64')\n",
    "df['school_id'] = df['school_id'].astype(str)\n",
    "df['proficient_tf'] = df['proficient_tf'].astype(bool)\n",
    "df['num_at_level'] = df['num_at_level'].astype('float64')\n",
    "print(df.dtypes)"
   ]
  },
  {
   "cell_type": "code",
   "execution_count": 71,
   "metadata": {},
   "outputs": [],
   "source": [
    "# export final dataset\n",
    "df.to_csv('./data/finalized/pa_proficiency.csv', index=False)"
   ]
  },
  {
   "cell_type": "code",
   "execution_count": null,
   "metadata": {},
   "outputs": [],
   "source": []
  }
 ],
 "metadata": {
  "kernelspec": {
   "display_name": "Python 3",
   "language": "python",
   "name": "python3"
  },
  "language_info": {
   "codemirror_mode": {
    "name": "ipython",
    "version": 3
   },
   "file_extension": ".py",
   "mimetype": "text/x-python",
   "name": "python",
   "nbconvert_exporter": "python",
   "pygments_lexer": "ipython3",
   "version": "3.7.3"
  }
 },
 "nbformat": 4,
 "nbformat_minor": 4
}
