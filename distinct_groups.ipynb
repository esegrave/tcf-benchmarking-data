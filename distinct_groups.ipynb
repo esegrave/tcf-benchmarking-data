{
 "cells": [
  {
   "cell_type": "code",
   "execution_count": 19,
   "metadata": {},
   "outputs": [],
   "source": [
    "import pandas as pd\n",
    "import numpy as np\n",
    "\n",
    "# initialize state list\n",
    "states = ['ca',\n",
    "          'co',\n",
    "#           'dc',\n",
    "          'ks',\n",
    "          'la',\n",
    "#           'ma',\n",
    "          'mn',\n",
    "          'nj',\n",
    "          'pa',\n",
    "          'tn',\n",
    "          'tx']\n",
    "finalized_path = './data/finalized/'\n",
    "\n",
    "# import enrollment files\n",
    "df_enrollment = pd.read_csv(finalized_path + states[0] + '_enrollment.csv')\n",
    "df_enrollment['state'] = states[0]\n",
    "\n",
    "for i in range(1, len(states)):\n",
    "    temp = pd.read_csv(finalized_path + states[i] + '_enrollment.csv')\n",
    "    temp['state'] = states[i]\n",
    "    df_enrollment = df_enrollment.append(temp, ignore_index = True, sort = True)"
   ]
  },
  {
   "cell_type": "code",
   "execution_count": 20,
   "metadata": {},
   "outputs": [
    {
     "name": "stderr",
     "output_type": "stream",
     "text": [
      "/Library/Frameworks/Python.framework/Versions/3.7/lib/python3.7/site-packages/IPython/core/interactiveshell.py:3049: DtypeWarning: Columns (12,14,16,17,18,19,20) have mixed types. Specify dtype option on import or set low_memory=False.\n",
      "  interactivity=interactivity, compiler=compiler, result=result)\n"
     ]
    }
   ],
   "source": [
    "# import proficiency files\n",
    "df_proficiency = pd.read_csv(finalized_path + states[0] + '_proficiency.csv')\n",
    "df_proficiency['state'] = states[0]\n",
    "\n",
    "for i in range(1, len(states)):\n",
    "    temp = pd.read_csv(finalized_path + states[i] + '_proficiency.csv')\n",
    "    temp['state'] = states[i]\n",
    "    df_proficiency = df_proficiency.append(temp, ignore_index = True, sort = True)"
   ]
  },
  {
   "cell_type": "code",
   "execution_count": 21,
   "metadata": {},
   "outputs": [],
   "source": [
    "distinct_columns = ['year', 'state', 'group_state']\n",
    "enrollment_dedupe = df_enrollment[distinct_columns].drop_duplicates()\n",
    "proficiency_dedupe = df_proficiency[distinct_columns].drop_duplicates()"
   ]
  },
  {
   "cell_type": "code",
   "execution_count": 22,
   "metadata": {},
   "outputs": [],
   "source": [
    "df = enrollment_dedupe.append(proficiency_dedupe, ignore_index = True, sort = True)"
   ]
  },
  {
   "cell_type": "code",
   "execution_count": 23,
   "metadata": {},
   "outputs": [],
   "source": [
    "df[distinct_columns].drop_duplicates().to_csv('data/distinct_groups.csv')"
   ]
  },
  {
   "cell_type": "code",
   "execution_count": null,
   "metadata": {},
   "outputs": [],
   "source": []
  }
 ],
 "metadata": {
  "kernelspec": {
   "display_name": "Python 3",
   "language": "python",
   "name": "python3"
  },
  "language_info": {
   "codemirror_mode": {
    "name": "ipython",
    "version": 3
   },
   "file_extension": ".py",
   "mimetype": "text/x-python",
   "name": "python",
   "nbconvert_exporter": "python",
   "pygments_lexer": "ipython3",
   "version": "3.7.3"
  }
 },
 "nbformat": 4,
 "nbformat_minor": 4
}
