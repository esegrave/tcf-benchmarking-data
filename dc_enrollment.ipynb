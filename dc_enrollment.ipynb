{
 "cells": [
  {
   "cell_type": "code",
   "execution_count": 3,
   "metadata": {},
   "outputs": [],
   "source": [
    "# import files from Steve\n",
    "import pandas as pd\n",
    "import numpy as np\n",
    "import util\n",
    "\n",
    "enrollment_path = './data/dc/enrollment/'\n",
    "\n",
    "df = pd.read_csv(enrollment_path + 'dc_enrollment.csv', dtype={'year':str,'district_id':str,'district':str,'school_id':str,'school':str,'grade':str,'group_state':str,'num':str})"
   ]
  },
  {
   "cell_type": "code",
   "execution_count": 4,
   "metadata": {},
   "outputs": [
    {
     "name": "stdout",
     "output_type": "stream",
     "text": [
      "year  group_state \n",
      "2010  All Students    104595.000000\n",
      "      Black            53206.000000\n",
      "      Econ Disad       36156.000000\n",
      "      Latino            9464.000000\n",
      "      White             4355.000000\n",
      "2011  All Students    117815.000000\n",
      "      Black            54873.000000\n",
      "      Econ Disad       46095.000000\n",
      "      Latino            9926.000000\n",
      "      White             4792.000000\n",
      "2012  All Students    122123.000000\n",
      "      Black            57175.000000\n",
      "      Econ Disad       46175.000000\n",
      "      Latino           11005.000000\n",
      "      White             5520.000000\n",
      "2013  All Students    125058.000000\n",
      "      Black            58725.000000\n",
      "      Econ Disad       45779.000000\n",
      "      Latino           12267.000000\n",
      "      White             6164.000000\n",
      "2014  All Students    143950.000000\n",
      "      Black            59896.000000\n",
      "      Econ Disad       61694.000000\n",
      "      Latino           13119.000000\n",
      "      White             6751.000000\n",
      "2015  All Students    170438.000000\n",
      "      Black            53649.590487\n",
      "      Econ Disad       39746.000000\n",
      "      Latino           11273.519999\n",
      "      White             7593.229952\n",
      "2016  All Students    163772.000000\n",
      "      Black            54789.000000\n",
      "      Econ Disad       62997.000000\n",
      "      Latino           12276.000000\n",
      "      White             8250.000000\n",
      "2017  All Students    168862.000000\n",
      "      Black            54724.000000\n",
      "      Econ Disad       65144.000000\n",
      "      Latino           13428.000000\n",
      "      White             8760.000000\n",
      "2018  All Students    198248.000000\n",
      "      Black            66293.450390\n",
      "      Econ Disad       45668.179832\n",
      "      Latino           18920.720048\n",
      "      White             9983.310013\n",
      "2019  All Students    197768.000000\n",
      "      Black            64739.870412\n",
      "      Econ Disad       46140.909853\n",
      "      Latino           19064.010018\n",
      "      White            10814.960134\n",
      "Name: num, dtype: float64\n"
     ]
    }
   ],
   "source": [
    "# convert num to int\n",
    "def toFloat(row, column):\n",
    "    try:\n",
    "        return float(row[column])\n",
    "    except:\n",
    "        return np.nan\n",
    "df['num'] = df.apply(lambda x: toFloat(x, 'num'), axis = 1)"
   ]
  },
  {
   "cell_type": "code",
   "execution_count": 5,
   "metadata": {},
   "outputs": [
    {
     "name": "stdout",
     "output_type": "stream",
     "text": [
      "(23684, 8)\n",
      "(21606, 8)\n"
     ]
    }
   ],
   "source": [
    "# drop null rows\n",
    "print(df.shape)\n",
    "df = df.dropna(subset=['num'])\n",
    "df = df[df['num'] != 0]\n",
    "print(df.shape)"
   ]
  },
  {
   "cell_type": "code",
   "execution_count": 6,
   "metadata": {},
   "outputs": [
    {
     "name": "stdout",
     "output_type": "stream",
     "text": [
      "year  group_state \n",
      "2010  All Students    104595\n",
      "      Black            53206\n",
      "      Econ Disad       36156\n",
      "      Latino            9464\n",
      "      White             4355\n",
      "2011  All Students    117815\n",
      "      Black            54873\n",
      "      Econ Disad       46095\n",
      "      Latino            9926\n",
      "      White             4792\n",
      "2012  All Students    122123\n",
      "      Black            57175\n",
      "      Econ Disad       46175\n",
      "      Latino           11005\n",
      "      White             5520\n",
      "2013  All Students    125058\n",
      "      Black            58725\n",
      "      Econ Disad       45779\n",
      "      Latino           12267\n",
      "      White             6164\n",
      "2014  All Students    143950\n",
      "      Black            59896\n",
      "      Econ Disad       61694\n",
      "      Latino           13119\n",
      "      White             6751\n",
      "2015  All Students    170438\n",
      "      Black            53644\n",
      "      Econ Disad       39746\n",
      "      Latino           11275\n",
      "      White             7591\n",
      "2016  All Students    163772\n",
      "      Black            54789\n",
      "      Econ Disad       62997\n",
      "      Latino           12276\n",
      "      White             8250\n",
      "2017  All Students    168862\n",
      "      Black            54724\n",
      "      Econ Disad       65144\n",
      "      Latino           13428\n",
      "      White             8760\n",
      "2018  All Students    198248\n",
      "      Black            66302\n",
      "      Econ Disad       45663\n",
      "      Latino           18919\n",
      "      White             9982\n",
      "2019  All Students    197768\n",
      "      Black            64735\n",
      "      Econ Disad       46141\n",
      "      Latino           19061\n",
      "      White            10820\n",
      "Name: num, dtype: int64\n"
     ]
    }
   ],
   "source": [
    "# round num\n",
    "df['num'] = df.apply(lambda x: int(round(x['num'])), axis = 1)"
   ]
  },
  {
   "cell_type": "code",
   "execution_count": 7,
   "metadata": {},
   "outputs": [
    {
     "name": "stdout",
     "output_type": "stream",
     "text": [
      "year           object\n",
      "district_id    object\n",
      "district       object\n",
      "school_id      object\n",
      "school         object\n",
      "grade          object\n",
      "group_state    object\n",
      "num             int64\n",
      "dtype: object\n",
      "year           object\n",
      "district_id    object\n",
      "district       object\n",
      "school_id      object\n",
      "school         object\n",
      "grade          object\n",
      "group_state    object\n",
      "num             int64\n",
      "dtype: object\n"
     ]
    }
   ],
   "source": [
    "print(df.dtypes)\n",
    "df['num'] = df['num'].astype('int64')\n",
    "print(df.dtypes)"
   ]
  },
  {
   "cell_type": "code",
   "execution_count": 9,
   "metadata": {},
   "outputs": [],
   "source": [
    "# export file\n",
    "df.to_csv('./data/finalized/dc_enrollment.csv', index=False)"
   ]
  },
  {
   "cell_type": "code",
   "execution_count": null,
   "metadata": {},
   "outputs": [],
   "source": []
  }
 ],
 "metadata": {
  "kernelspec": {
   "display_name": "Python 3",
   "language": "python",
   "name": "python3"
  },
  "language_info": {
   "codemirror_mode": {
    "name": "ipython",
    "version": 3
   },
   "file_extension": ".py",
   "mimetype": "text/x-python",
   "name": "python",
   "nbconvert_exporter": "python",
   "pygments_lexer": "ipython3",
   "version": "3.7.3"
  }
 },
 "nbformat": 4,
 "nbformat_minor": 4
}
