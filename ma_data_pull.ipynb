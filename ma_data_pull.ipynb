{
 "cells": [
  {
   "cell_type": "code",
   "execution_count": 1,
   "metadata": {},
   "outputs": [],
   "source": [
    "# initialize modules and globals\n",
    "from bs4 import BeautifulSoup\n",
    "from selenium import webdriver\n",
    "import time\n",
    "import os\n",
    "import shutil\n",
    "driver = webdriver.Chrome()"
   ]
  },
  {
   "cell_type": "code",
   "execution_count": 13,
   "metadata": {},
   "outputs": [],
   "source": [
    "filetype = 'proficiency'\n",
    "local_html = './data/ma/' + filetype + '/sample next gen html/ma_sample.htm'\n",
    "yearID = 'ctl00_ContentPlaceHolder1_ddYear'\n",
    "gradeID = 'ctl00_ContentPlaceHolder1_ddGrade'\n",
    "groupID = 'ctl00_ContentPlaceHolder1_ddSubGroup'\n",
    "exportName = 'ctl00_ContentPlaceHolder1_spExport'\n",
    "destination = '/Users/esegr1/Documents/repos/tcf-benchmarking-data/data/ma/' + filetype + '/raw/'"
   ]
  },
  {
   "cell_type": "code",
   "execution_count": 9,
   "metadata": {},
   "outputs": [
    {
     "name": "stdout",
     "output_type": "stream",
     "text": [
      "['2019-20', '2018-19', '2017-18', '2016-17', '2015-16', '2014-15', '2013-14', '2012-13', '2011-12', '2010-11', '2009-10', '2008-09', '2007-08', '2006-07', '2005-06', '2004-05', '2003-04', '2002-03', '2001-02', '2000-01', '1999-00', '1998-99', '1997-98', '1996-97', '1995-96', '1994-95', '1993-94', '1992-93']\n"
     ]
    }
   ],
   "source": [
    "# load html to data\n",
    "with open(local_html) as html:\n",
    "    soup = BeautifulSoup(html, 'html.parser')\n",
    "\n",
    "# scrape available years, grades, and student groups\n",
    "years = []\n",
    "\n",
    "for item in soup.find(id=yearID).children:\n",
    "    if item.string != '\\n':\n",
    "        years.append(item.string)\n",
    "\n",
    "print(years)\n",
    "\n",
    "grades = []\n",
    "\n",
    "for item in soup.find(id=gradeID).children:\n",
    "    if item.string != '\\n':\n",
    "        grades.append(item.string)\n",
    "        \n",
    "print(grades)        \n",
    "\n",
    "groups = []\n",
    "\n",
    "for item in soup.find(id=groupID).children:\n",
    "    if item.string != '\\n':\n",
    "        groups.append(item.string)\n",
    "\n",
    "print(groups)"
   ]
  },
  {
   "cell_type": "code",
   "execution_count": 14,
   "metadata": {},
   "outputs": [
    {
     "ename": "NameError",
     "evalue": "name 'grade' is not defined",
     "output_type": "error",
     "traceback": [
      "\u001b[0;31m---------------------------------------------------------------------------\u001b[0m",
      "\u001b[0;31mNameError\u001b[0m                                 Traceback (most recent call last)",
      "\u001b[0;32m<ipython-input-14-3fc89237a903>\u001b[0m in \u001b[0;36m<module>\u001b[0;34m\u001b[0m\n\u001b[1;32m     41\u001b[0m \u001b[0;34m\u001b[0m\u001b[0m\n\u001b[1;32m     42\u001b[0m     \u001b[0;31m# rename file\u001b[0m\u001b[0;34m\u001b[0m\u001b[0;34m\u001b[0m\u001b[0;34m\u001b[0m\u001b[0m\n\u001b[0;32m---> 43\u001b[0;31m     \u001b[0mfilename\u001b[0m \u001b[0;34m=\u001b[0m \u001b[0;34m'mcas_'\u001b[0m \u001b[0;34m+\u001b[0m \u001b[0mgrade\u001b[0m\u001b[0;34m.\u001b[0m\u001b[0mreplace\u001b[0m\u001b[0;34m(\u001b[0m\u001b[0;34m'.'\u001b[0m\u001b[0;34m,\u001b[0m \u001b[0;34m''\u001b[0m\u001b[0;34m)\u001b[0m\u001b[0;34m.\u001b[0m\u001b[0mreplace\u001b[0m\u001b[0;34m(\u001b[0m\u001b[0;34m'/'\u001b[0m\u001b[0;34m,\u001b[0m \u001b[0;34m''\u001b[0m\u001b[0;34m)\u001b[0m \u001b[0;34m+\u001b[0m \u001b[0;34m'_'\u001b[0m \u001b[0;34m+\u001b[0m \u001b[0mgroup\u001b[0m\u001b[0;34m.\u001b[0m\u001b[0mreplace\u001b[0m\u001b[0;34m(\u001b[0m\u001b[0;34m'.'\u001b[0m\u001b[0;34m,\u001b[0m \u001b[0;34m''\u001b[0m\u001b[0;34m)\u001b[0m\u001b[0;34m.\u001b[0m\u001b[0mreplace\u001b[0m\u001b[0;34m(\u001b[0m\u001b[0;34m'/'\u001b[0m\u001b[0;34m,\u001b[0m \u001b[0;34m''\u001b[0m\u001b[0;34m)\u001b[0m \u001b[0;34m+\u001b[0m \u001b[0;34m'_'\u001b[0m \u001b[0;34m+\u001b[0m \u001b[0myear\u001b[0m\u001b[0;34m.\u001b[0m\u001b[0mreplace\u001b[0m\u001b[0;34m(\u001b[0m\u001b[0;34m'.'\u001b[0m\u001b[0;34m,\u001b[0m \u001b[0;34m''\u001b[0m\u001b[0;34m)\u001b[0m\u001b[0;34m.\u001b[0m\u001b[0mreplace\u001b[0m\u001b[0;34m(\u001b[0m\u001b[0;34m'/'\u001b[0m\u001b[0;34m,\u001b[0m \u001b[0;34m''\u001b[0m\u001b[0;34m)\u001b[0m \u001b[0;34m+\u001b[0m \u001b[0;34m'.xlsx'\u001b[0m\u001b[0;34m\u001b[0m\u001b[0;34m\u001b[0m\u001b[0m\n\u001b[0m\u001b[1;32m     44\u001b[0m     \u001b[0mos\u001b[0m\u001b[0;34m.\u001b[0m\u001b[0mrename\u001b[0m\u001b[0;34m(\u001b[0m\u001b[0;34m'/Users/esegr1/Downloads/mcas.xlsx'\u001b[0m\u001b[0;34m,\u001b[0m\u001b[0;34m'/Users/esegr1/Downloads/'\u001b[0m \u001b[0;34m+\u001b[0m \u001b[0mfilename\u001b[0m\u001b[0;34m)\u001b[0m\u001b[0;34m\u001b[0m\u001b[0;34m\u001b[0m\u001b[0m\n\u001b[1;32m     45\u001b[0m     \u001b[0mshutil\u001b[0m\u001b[0;34m.\u001b[0m\u001b[0mmove\u001b[0m\u001b[0;34m(\u001b[0m\u001b[0mos\u001b[0m\u001b[0;34m.\u001b[0m\u001b[0mpath\u001b[0m\u001b[0;34m.\u001b[0m\u001b[0mjoin\u001b[0m\u001b[0;34m(\u001b[0m\u001b[0;34m'/Users/esegr1/Downloads/'\u001b[0m\u001b[0;34m,\u001b[0m\u001b[0mfilename\u001b[0m\u001b[0;34m)\u001b[0m\u001b[0;34m,\u001b[0m \u001b[0mos\u001b[0m\u001b[0;34m.\u001b[0m\u001b[0mpath\u001b[0m\u001b[0;34m.\u001b[0m\u001b[0mjoin\u001b[0m\u001b[0;34m(\u001b[0m\u001b[0;34m'/Users/esegr1/Documents/repos/tcf-benchmarking-data/data/ma/'\u001b[0m \u001b[0;34m+\u001b[0m \u001b[0mfiletype\u001b[0m \u001b[0;34m+\u001b[0m \u001b[0;34m'/raw'\u001b[0m\u001b[0;34m,\u001b[0m \u001b[0mfilename\u001b[0m\u001b[0;34m)\u001b[0m\u001b[0;34m)\u001b[0m\u001b[0;34m\u001b[0m\u001b[0;34m\u001b[0m\u001b[0m\n",
      "\u001b[0;31mNameError\u001b[0m: name 'grade' is not defined"
     ]
    }
   ],
   "source": [
    "# loop through all combinations of year/grade/group, downloading each file and renaming it\n",
    "# recreate html page, with each option selected\n",
    "for year in years:\n",
    "    for grade in grades:\n",
    "        for group in groups:\n",
    "            for item in soup.find(id=yearID).children:\n",
    "                try:\n",
    "                    if item.string == year:\n",
    "                        item['selected'] = 'selected'\n",
    "                    if item.string != year:\n",
    "                        del item['selected']\n",
    "                except TypeError:\n",
    "                    pass\n",
    "            for item in soup.find(id=gradeID).children:\n",
    "                try:\n",
    "                    if item.string == grade:\n",
    "                        item['selected'] = 'selected'\n",
    "                    if item.string != grade:\n",
    "                        del item['selected']\n",
    "                except TypeError:\n",
    "                    pass\n",
    "            for item in soup.find(id=groupID).children:\n",
    "                try:\n",
    "                    if item.string == group:\n",
    "                        item['selected'] = 'selected'\n",
    "                    if item.string != group:\n",
    "                        del item['selected']\n",
    "                except TypeError:\n",
    "                    pass\n",
    "    html_file = open('./data/ma/' + filetype + '/sample html/generated/ma_html_temp.html','w')\n",
    "    html_file.write(soup.prettify())\n",
    "    html_file.close()\n",
    "    driver.get('file:///'+os.getcwd()+'/' + '/data/ma/' + filetype + '/sample html/generated/ma_html_temp.html')\n",
    "\n",
    "    # simulate export click with selenium\n",
    "    download_button = driver.find_element_by_id(exportName)\n",
    "    download_button.click()\n",
    "\n",
    "    # wait for file to download\n",
    "    time.sleep(5)\n",
    "\n",
    "    # rename file\n",
    "    filename = 'mcas_nextgen_' + grade.replace('.', '').replace('/', '') + '_' + group.replace('.', '').replace('/', '') + '_' + year.replace('.', '').replace('/', '') + '.xlsx'\n",
    "    os.rename('/Users/esegr1/Downloads/mcas.xlsx','/Users/esegr1/Downloads/' + filename)\n",
    "    shutil.move(os.path.join('/Users/esegr1/Downloads/',filename), os.path.join('/Users/esegr1/Documents/repos/tcf-benchmarking-data/data/ma/' + filetype + '/raw', filename))"
   ]
  },
  {
   "cell_type": "code",
   "execution_count": null,
   "metadata": {},
   "outputs": [],
   "source": []
  }
 ],
 "metadata": {
  "kernelspec": {
   "display_name": "Python 3",
   "language": "python",
   "name": "python3"
  },
  "language_info": {
   "codemirror_mode": {
    "name": "ipython",
    "version": 3
   },
   "file_extension": ".py",
   "mimetype": "text/x-python",
   "name": "python",
   "nbconvert_exporter": "python",
   "pygments_lexer": "ipython3",
   "version": "3.7.3"
  }
 },
 "nbformat": 4,
 "nbformat_minor": 4
}
