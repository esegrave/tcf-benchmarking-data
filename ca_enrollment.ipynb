{
 "cells": [
  {
   "cell_type": "code",
   "execution_count": 122,
   "metadata": {},
   "outputs": [],
   "source": [
    "# import files from Steve\n",
    "import pandas as pd\n",
    "import numpy as np\n",
    "import util\n",
    "\n",
    "enrollment_path = './data/ca/enrollment/'\n",
    "\n",
    "df = pd.read_csv(enrollment_path + 'ca_enrollment.csv', na_values=['N/A'])"
   ]
  },
  {
   "cell_type": "code",
   "execution_count": 123,
   "metadata": {},
   "outputs": [
    {
     "name": "stdout",
     "output_type": "stream",
     "text": [
      "Index(['districtname', 'schoolname', 'year', 'grade', 'num', 'group',\n",
      "       'districtid', 'schoolid'],\n",
      "      dtype='object')\n",
      "                         districtname           schoolname  year grade  num  \\\n",
      "0  Alameda County Office of Education  FAME Public Charter  1415     1   53   \n",
      "1  Alameda County Office of Education  FAME Public Charter  1415    10   22   \n",
      "2  Alameda County Office of Education  FAME Public Charter  1415    11   16   \n",
      "3  Alameda County Office of Education  FAME Public Charter  1415    12    7   \n",
      "4  Alameda County Office of Education  FAME Public Charter  1415     2   34   \n",
      "\n",
      "              group  districtid  schoolid  \n",
      "0  English Learners       10017    109835  \n",
      "1  English Learners       10017    109835  \n",
      "2  English Learners       10017    109835  \n",
      "3  English Learners       10017    109835  \n",
      "4  English Learners       10017    109835  \n"
     ]
    }
   ],
   "source": [
    "print(df.columns)\n",
    "print(df.head())"
   ]
  },
  {
   "cell_type": "code",
   "execution_count": 124,
   "metadata": {},
   "outputs": [],
   "source": [
    "# rename columns\n",
    "df = df.rename(columns= {\n",
    "    'schoolid': 'school_id',\n",
    "    'districtid': 'district_id',\n",
    "    'districtname': 'district',\n",
    "    'schoolname': 'school',\n",
    "    'group': 'group_state'\n",
    "})"
   ]
  },
  {
   "cell_type": "code",
   "execution_count": 117,
   "metadata": {},
   "outputs": [
    {
     "name": "stdout",
     "output_type": "stream",
     "text": [
      "(6967566, 8)\n",
      "(2235695, 8)\n"
     ]
    }
   ],
   "source": [
    "# drop null rows\n",
    "print(df.shape)\n",
    "df = df.dropna(subset=['num'])\n",
    "df = df[df['num'] != 0]\n",
    "print(df.shape)"
   ]
  },
  {
   "cell_type": "code",
   "execution_count": 118,
   "metadata": {},
   "outputs": [],
   "source": [
    "# fill in n/a values for grade with 'All Grades' and group with 'All Students'\n",
    "df['grade'] = df['grade'].fillna(value='All Grades')\n",
    "df['group_state'] = df['group_state'].fillna(value='All Students')"
   ]
  },
  {
   "cell_type": "code",
   "execution_count": 119,
   "metadata": {},
   "outputs": [
    {
     "name": "stdout",
     "output_type": "stream",
     "text": [
      "district       object\n",
      "school         object\n",
      "year            int64\n",
      "grade          object\n",
      "num             int64\n",
      "group_state    object\n",
      "district_id     int64\n",
      "school_id       int64\n",
      "dtype: object\n",
      "district       object\n",
      "school         object\n",
      "year           object\n",
      "grade          object\n",
      "num             int64\n",
      "group_state    object\n",
      "district_id    object\n",
      "school_id      object\n",
      "dtype: object\n"
     ]
    }
   ],
   "source": [
    "# fix field types/drop null values\n",
    "print(df.dtypes)\n",
    "df['district_id'] = df['district_id'].astype(str)\n",
    "df['school_id'] = df['school_id'].astype(str)\n",
    "df['year'] = df['year'].astype(str)\n",
    "print(df.dtypes)"
   ]
  },
  {
   "cell_type": "code",
   "execution_count": 120,
   "metadata": {},
   "outputs": [
    {
     "name": "stdout",
     "output_type": "stream",
     "text": [
      "0         2015\n",
      "144796    2016\n",
      "292636    2017\n",
      "441241    2018\n",
      "590131    2019\n",
      "Name: year, dtype: object\n"
     ]
    }
   ],
   "source": [
    "# fix year field\n",
    "df['year'] = ['20' + x[2:] for x in df['year']]\n",
    "print(df.year.drop_duplicates())"
   ]
  },
  {
   "cell_type": "code",
   "execution_count": 121,
   "metadata": {},
   "outputs": [],
   "source": [
    "# export file\n",
    "df.to_csv('./data/finalized/ca_enrollment.csv', index=False)"
   ]
  },
  {
   "cell_type": "raw",
   "metadata": {},
   "source": []
  }
 ],
 "metadata": {
  "kernelspec": {
   "display_name": "Python 3",
   "language": "python",
   "name": "python3"
  },
  "language_info": {
   "codemirror_mode": {
    "name": "ipython",
    "version": 3
   },
   "file_extension": ".py",
   "mimetype": "text/x-python",
   "name": "python",
   "nbconvert_exporter": "python",
   "pygments_lexer": "ipython3",
   "version": "3.7.3"
  }
 },
 "nbformat": 4,
 "nbformat_minor": 4
}
