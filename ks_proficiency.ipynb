{
 "cells": [
  {
   "cell_type": "code",
   "execution_count": 1,
   "metadata": {},
   "outputs": [],
   "source": [
    "import pandas as pd\n",
    "import numpy as np\n",
    "import util\n",
    "\n",
    "proficiency_path = './data/ks/proficiency/'\n",
    "\n",
    "proficiency_files = [\n",
    "    'ks_proficiency_2015_cleaned.csv'\n",
    "    , 'ks_proficiency_2016_cleaned.csv'\n",
    "    , 'ks_proficiency_2017_cleaned.csv'\n",
    "    , 'ks_proficiency_2018_cleaned.csv'\n",
    "    , 'ks_proficiency_2019_cleaned.csv'\n",
    "]\n",
    "\n",
    "participation_files = [\n",
    "    'ks_participation_2016_cleaned.csv'\n",
    "    , 'ks_participation_2017_cleaned.csv'\n",
    "    , 'ks_participation_2018_cleaned.csv'\n",
    "    , 'ks_participation_2019_cleaned.csv'\n",
    "]\n",
    "\n",
    "participation_years = [\n",
    "    2016\n",
    "    , 2017\n",
    "    , 2018\n",
    "    , 2019\n",
    "]\n",
    "\n",
    "df = pd.read_csv(proficiency_path + proficiency_files[0])\n",
    "\n",
    "for i in range(1, len(proficiency_files)):\n",
    "    df2 = pd.read_csv(proficiency_path + proficiency_files[i])\n",
    "    df = df.append(df2, ignore_index = True)\n",
    "\n",
    "df = df.rename(columns={\n",
    "    \"Group\": \"group_state\"\n",
    "    , \"Subject\": \"subject\"\n",
    "    , \"Org No\": \"district_id\"\n",
    "    , \"School Year\": \"year\"\n",
    "    , \"Pct Level One\": \"Level One\"\n",
    "    , \"Pct Level Two\": \"Level Two\"\n",
    "    , \"Pct Level Three\": \"Level Three\"\n",
    "    , \"Pct Level Four\": \"Level Four\"\n",
    "    , \"Pct Not Valid\": \"Not Valid\"})\n",
    "\n",
    "# import participation files\n",
    "df_participation = pd.read_csv(proficiency_path + participation_files[0])\n",
    "df_participation['year'] = df_participation.apply(lambda x: int(participation_years[0]), axis=1)\n",
    "for i in range(1, len(participation_files)):\n",
    "    df2 = pd.read_csv(proficiency_path + participation_files[i])\n",
    "    df2['year'] = df2.apply(lambda x: int(participation_years[i]), axis=1)\n",
    "    df_participation = df_participation.append(df2, ignore_index = True)\n",
    "\n",
    "# import district mapping file\n",
    "df_districts = pd.read_csv('./data/ks/unique_districts.csv')"
   ]
  },
  {
   "cell_type": "code",
   "execution_count": 2,
   "metadata": {},
   "outputs": [],
   "source": [
    "# parse school_id and school names\n",
    "parse = df['School/District Name'].str.split(pat=' - ', n=1, expand=True)\n",
    "df['school_id'] = parse[0]\n",
    "df['school'] = parse[1]\n",
    "\n",
    "# drop district level results\n",
    "df = df[df['school_id'].str.len() == 4]\n",
    "\n",
    "# make grades string and change 13 to All Grades\n",
    "df['grade'] = [str(x) if x != 13 else 'All Grades' for x in df['Grade']]\n",
    "\n",
    "# join district names\n",
    "df = pd.merge(df, df_districts, on=['year', 'district_id'])"
   ]
  },
  {
   "cell_type": "code",
   "execution_count": 3,
   "metadata": {},
   "outputs": [],
   "source": [
    "# create list of unique year, school_id, school for enrollment data\n",
    "df_schools = df[['year', 'school_id', 'school']]\n",
    "df_schools = df_schools.drop_duplicates()\n",
    "df_schools.to_csv('./data/ks/unique_schools.csv', index=False)"
   ]
  },
  {
   "cell_type": "code",
   "execution_count": 4,
   "metadata": {},
   "outputs": [],
   "source": [
    "# reshape scores\n",
    "df = pd.melt(df, id_vars=['year', 'district_id', 'district', 'school_id', 'school', 'grade', 'group_state', 'subject']\n",
    "        , value_vars=['Level One'\n",
    "            , 'Level Two'\n",
    "            , 'Level Three'\n",
    "            , 'Level Four'\n",
    "            , 'Not Valid'],\n",
    "        var_name='performance_level'\n",
    "        , value_name='pct_at_level')"
   ]
  },
  {
   "cell_type": "code",
   "execution_count": 5,
   "metadata": {},
   "outputs": [],
   "source": [
    "# change pct_at_level to decimal\n",
    "df['temp'] = df['pct_at_level'] / 100\n",
    "del df['pct_at_level']\n",
    "df = df.rename(columns={'temp': 'pct_at_level'})\n",
    "\n",
    "# create proficient_tf\n",
    "def proficientTF (row):\n",
    "    if row['performance_level'] == 'Level Three' or row['performance_level'] == 'Level Four':\n",
    "        return 1\n",
    "    return 0\n",
    "df['proficient_tf'] = df.apply(lambda row: proficientTF(row), axis=1)"
   ]
  },
  {
   "cell_type": "code",
   "execution_count": 6,
   "metadata": {},
   "outputs": [],
   "source": [
    "# clean subjects in participation file\n",
    "df_participation['Subject_cleaned'] = [x if x != 'MATH' else 'Math' for x in df_participation['Subject']]\n",
    "del df_participation['Subject']\n",
    "\n",
    "# filter to relevant columns and rename for merge\n",
    "df_participation = df_participation[['year', 'Building_No', 'Subject_cleaned', 'Total_Part_N', 'GroupName']]\n",
    "df_participation = df_participation.rename(columns={\n",
    "    \"Building_No\": \"school_id\"\n",
    "    , \"Total_Part_N\": \"num_tested\"\n",
    "    , 'Subject_cleaned': 'subject'\n",
    "    , 'GroupName': 'group_state'})\n",
    "\n",
    "# create grade column\n",
    "df_participation['grade'] = df_participation.apply(lambda x: 'All Grades', axis=1)"
   ]
  },
  {
   "cell_type": "code",
   "execution_count": 7,
   "metadata": {},
   "outputs": [],
   "source": [
    "# join num_tested to scores\n",
    "df = pd.merge(df, df_participation, on=['year', 'school_id', 'grade', 'group_state', 'subject'])"
   ]
  },
  {
   "cell_type": "code",
   "execution_count": 8,
   "metadata": {},
   "outputs": [],
   "source": [
    "# renames All Students group to All Groups\n",
    "df['temp'] = [x if x != 'All Students' else 'All Groups' for x in df['group_state']]\n",
    "del df['group_state']\n",
    "df = df.rename(columns={'temp': 'group_state'})"
   ]
  },
  {
   "cell_type": "code",
   "execution_count": 10,
   "metadata": {},
   "outputs": [
    {
     "name": "stdout",
     "output_type": "stream",
     "text": [
      "(894680, 12)\n",
      "(357872, 12)\n"
     ]
    }
   ],
   "source": [
    "# drop all non-proficiency rows\n",
    "print(df.shape)\n",
    "df = df[df.proficient_tf == 1]\n",
    "print(df.shape)"
   ]
  },
  {
   "cell_type": "code",
   "execution_count": 12,
   "metadata": {},
   "outputs": [
    {
     "name": "stdout",
     "output_type": "stream",
     "text": [
      "(357872, 12)\n",
      "(357778, 12)\n"
     ]
    }
   ],
   "source": [
    "# drop null records\n",
    "print(df.shape)\n",
    "df = df.dropna(subset=['num_tested', 'pct_at_level'])\n",
    "print(df.shape)"
   ]
  },
  {
   "cell_type": "code",
   "execution_count": 13,
   "metadata": {},
   "outputs": [
    {
     "name": "stdout",
     "output_type": "stream",
     "text": [
      "year                   int64\n",
      "district_id           object\n",
      "district              object\n",
      "school_id             object\n",
      "school                object\n",
      "grade                 object\n",
      "subject               object\n",
      "performance_level     object\n",
      "pct_at_level         float64\n",
      "proficient_tf          int64\n",
      "num_tested           float64\n",
      "group_state           object\n",
      "dtype: object\n",
      "year                  object\n",
      "district_id           object\n",
      "district              object\n",
      "school_id             object\n",
      "school                object\n",
      "grade                 object\n",
      "subject               object\n",
      "performance_level     object\n",
      "pct_at_level         float64\n",
      "proficient_tf           bool\n",
      "num_tested           float64\n",
      "group_state           object\n",
      "dtype: object\n"
     ]
    }
   ],
   "source": [
    "# unify data types\n",
    "print(df.dtypes)\n",
    "df['year'] = df['year'].astype(str)\n",
    "df['proficient_tf'] = df['proficient_tf'].astype(bool)\n",
    "print(df.dtypes)"
   ]
  },
  {
   "cell_type": "code",
   "execution_count": 14,
   "metadata": {},
   "outputs": [
    {
     "name": "stdout",
     "output_type": "stream",
     "text": [
      "year                  object\n",
      "district_id           object\n",
      "district              object\n",
      "school_id             object\n",
      "school                object\n",
      "grade                 object\n",
      "subject               object\n",
      "performance_level     object\n",
      "pct_at_level         float64\n",
      "proficient_tf           bool\n",
      "num_tested           float64\n",
      "group_state           object\n",
      "num_at_level         float64\n",
      "dtype: object\n"
     ]
    }
   ],
   "source": [
    "# create num_at_level\n",
    "df['num_at_level'] = df.apply(lambda x: x['pct_at_level'] * x['num_tested'], axis = 1)\n",
    "print(df.dtypes)"
   ]
  },
  {
   "cell_type": "code",
   "execution_count": 16,
   "metadata": {},
   "outputs": [
    {
     "name": "stdout",
     "output_type": "stream",
     "text": [
      "(357778, 13)\n",
      "(137788, 11)\n"
     ]
    }
   ],
   "source": [
    "# roll up performance levels\n",
    "print(df.shape)\n",
    "grouped_by = ['year', 'district_id', 'district', 'school_id', 'school', 'subject', 'grade', 'group_state', 'proficient_tf']\n",
    "df = df.groupby(grouped_by, as_index=False).agg({'num_tested': 'sum', 'num_at_level': 'sum'})\n",
    "print(df.shape)"
   ]
  },
  {
   "cell_type": "code",
   "execution_count": 17,
   "metadata": {},
   "outputs": [
    {
     "name": "stdout",
     "output_type": "stream",
     "text": [
      "year              object\n",
      "district_id       object\n",
      "district          object\n",
      "school_id         object\n",
      "school            object\n",
      "subject           object\n",
      "grade             object\n",
      "group_state       object\n",
      "proficient_tf       bool\n",
      "num_tested       float64\n",
      "num_at_level     float64\n",
      "pct_at_level     float64\n",
      "dtype: object\n"
     ]
    }
   ],
   "source": [
    "# recalc pct_at_level\n",
    "df['pct_at_level'] = df.apply(lambda x: x['num_at_level'] / x['num_tested'], axis = 1)\n",
    "print(df.dtypes)"
   ]
  },
  {
   "cell_type": "code",
   "execution_count": 19,
   "metadata": {},
   "outputs": [],
   "source": [
    "# save as cleaned proficiency\n",
    "df.to_csv('./data/finalized/ks_proficiency.csv', index=False)"
   ]
  },
  {
   "cell_type": "code",
   "execution_count": null,
   "metadata": {},
   "outputs": [],
   "source": []
  }
 ],
 "metadata": {
  "kernelspec": {
   "display_name": "Python 3",
   "language": "python",
   "name": "python3"
  },
  "language_info": {
   "codemirror_mode": {
    "name": "ipython",
    "version": 3
   },
   "file_extension": ".py",
   "mimetype": "text/x-python",
   "name": "python",
   "nbconvert_exporter": "python",
   "pygments_lexer": "ipython3",
   "version": "3.7.3"
  }
 },
 "nbformat": 4,
 "nbformat_minor": 4
}
