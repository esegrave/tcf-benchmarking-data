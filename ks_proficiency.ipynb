{
 "cells": [
  {
   "cell_type": "code",
   "execution_count": 80,
   "metadata": {},
   "outputs": [],
   "source": [
    "import pandas as pd\n",
    "import numpy as np\n",
    "import util\n",
    "\n",
    "proficiency_path = './data/ks/proficiency/'\n",
    "\n",
    "proficiency_files = [\n",
    "    'ks_proficiency_2015_cleaned.csv'\n",
    "    , 'ks_proficiency_2016_cleaned.csv'\n",
    "    , 'ks_proficiency_2017_cleaned.csv'\n",
    "    , 'ks_proficiency_2018_cleaned.csv'\n",
    "    , 'ks_proficiency_2019_cleaned.csv'\n",
    "]\n",
    "\n",
    "participation_files = [\n",
    "    'ks_participation_2016_cleaned.csv'\n",
    "    , 'ks_participation_2017_cleaned.csv'\n",
    "    , 'ks_participation_2018_cleaned.csv'\n",
    "    , 'ks_participation_2019_cleaned.csv'\n",
    "]\n",
    "\n",
    "participation_years = [\n",
    "    2016\n",
    "    , 2017\n",
    "    , 2018\n",
    "    , 2019\n",
    "]\n",
    "\n",
    "df = pd.read_csv(proficiency_path + proficiency_files[0])\n",
    "\n",
    "for i in range(1, len(proficiency_files)):\n",
    "    df2 = pd.read_csv(proficiency_path + proficiency_files[i])\n",
    "    df = df.append(df2, ignore_index = True)\n",
    "\n",
    "df = df.rename(columns={\n",
    "    \"Group\": \"group_state\"\n",
    "    , \"Subject\": \"subject\"\n",
    "    , \"Org No\": \"district_id\"\n",
    "    , \"School Year\": \"year\"\n",
    "    , \"Pct Level One\": \"Level One\"\n",
    "    , \"Pct Level Two\": \"Level Two\"\n",
    "    , \"Pct Level Three\": \"Level Three\"\n",
    "    , \"Pct Level Four\": \"Level Four\"\n",
    "    , \"Pct Not Valid\": \"Not Valid\"})\n",
    "\n",
    "# import participation files\n",
    "df_participation = pd.read_csv(proficiency_path + participation_files[0])\n",
    "df_participation['year'] = df_participation.apply(lambda x: int(participation_years[0]), axis=1)\n",
    "for i in range(1, len(participation_files)):\n",
    "    df2 = pd.read_csv(proficiency_path + participation_files[i])\n",
    "    df2['year'] = df2.apply(lambda x: int(participation_years[i]), axis=1)\n",
    "    df_participation = df_participation.append(df2, ignore_index = True)\n",
    "\n",
    "# import district mapping file\n",
    "df_districts = pd.read_csv('./data/ks/unique_districts.csv')"
   ]
  },
  {
   "cell_type": "code",
   "execution_count": 81,
   "metadata": {},
   "outputs": [],
   "source": [
    "# parse school_id and school names\n",
    "parse = df['School/District Name'].str.split(pat=' - ', n=1, expand=True)\n",
    "df['school_id'] = parse[0]\n",
    "df['school'] = parse[1]\n",
    "\n",
    "# drop district level results\n",
    "df = df[df['school_id'].str.len() == 4]\n",
    "\n",
    "# make grades string and change 13 to All Grades\n",
    "df['grade'] = [str(x) if x != 13 else 'All Grades' for x in df['Grade']]\n",
    "\n",
    "# join district names\n",
    "df = pd.merge(df, df_districts, on=['year', 'district_id'])"
   ]
  },
  {
   "cell_type": "code",
   "execution_count": 82,
   "metadata": {},
   "outputs": [],
   "source": [
    "# create list of unique year, school_id, school for enrollment data\n",
    "df_schools = df[['year', 'school_id', 'school']]\n",
    "df_schools = df_schools.drop_duplicates()\n",
    "df_schools.to_csv('./data/ks/unique_schools.csv', index=False)"
   ]
  },
  {
   "cell_type": "code",
   "execution_count": 83,
   "metadata": {},
   "outputs": [],
   "source": [
    "# reshape scores\n",
    "df = pd.melt(df, id_vars=['year', 'district_id', 'district', 'school_id', 'school', 'grade', 'group_state', 'subject']\n",
    "        , value_vars=['Level One'\n",
    "            , 'Level Two'\n",
    "            , 'Level Three'\n",
    "            , 'Level Four'\n",
    "            , 'Not Valid'],\n",
    "        var_name='performance_level'\n",
    "        , value_name='pct_at_level')"
   ]
  },
  {
   "cell_type": "code",
   "execution_count": 84,
   "metadata": {},
   "outputs": [
    {
     "name": "stdout",
     "output_type": "stream",
     "text": [
      "   year district_id        district school_id           school grade  \\\n",
      "0  2015       D0101  Erie-Galesburg      0111  Erie Elementary     3   \n",
      "1  2015       D0101  Erie-Galesburg      0111  Erie Elementary     3   \n",
      "2  2015       D0101  Erie-Galesburg      0111  Erie Elementary     4   \n",
      "3  2015       D0101  Erie-Galesburg      0111  Erie Elementary     4   \n",
      "4  2015       D0101  Erie-Galesburg      0111  Erie Elementary     5   \n",
      "\n",
      "    group_state subject performance_level  pct_at_level  proficient_tf  \n",
      "0  All Students    Math         Level One        0.1621              0  \n",
      "1  All Students     ELA         Level One        0.4054              0  \n",
      "2  All Students     ELA         Level One        0.1944              0  \n",
      "3  All Students    Math         Level One        0.1388              0  \n",
      "4  All Students     ELA         Level One        0.1818              0  \n"
     ]
    }
   ],
   "source": [
    "# change pct_at_level to decimal\n",
    "df['temp'] = df['pct_at_level'] / 100\n",
    "del df['pct_at_level']\n",
    "df = df.rename(columns={'temp': 'pct_at_level'})\n",
    "\n",
    "# create proficient_tf\n",
    "def proficientTF (row):\n",
    "    if row['performance_level'] == 'Level Three' or row['performance_level'] == 'Level Four':\n",
    "        return 1\n",
    "    return 0\n",
    "df['proficient_tf'] = df.apply(lambda row: proficientTF(row), axis=1)"
   ]
  },
  {
   "cell_type": "code",
   "execution_count": 85,
   "metadata": {},
   "outputs": [
    {
     "name": "stdout",
     "output_type": "stream",
     "text": [
      "   year  school_id      subject  num_tested   group_state       grade\n",
      "0  2016        112      Science        32.0  All Students  All Grades\n",
      "1  2016        112          ELA       113.0  All Students  All Grades\n",
      "2  2016        112         Math       113.0  All Students  All Grades\n",
      "3  2016        112  History/Gov        72.0  All Students  All Grades\n",
      "4  2016  Aggregate          ELA       285.0  All Students  All Grades\n"
     ]
    }
   ],
   "source": [
    "# clean subjects in participation file\n",
    "df_participation['Subject_cleaned'] = [x if x != 'MATH' else 'Math' for x in df_participation['Subject']]\n",
    "del df_participation['Subject']\n",
    "\n",
    "# filter to relevant columns and rename for merge\n",
    "df_participation = df_participation[['year', 'Building_No', 'Subject_cleaned', 'Total_Part_N', 'GroupName']]\n",
    "df_participation = df_participation.rename(columns={\n",
    "    \"Building_No\": \"school_id\"\n",
    "    , \"Total_Part_N\": \"num_tested\"\n",
    "    , 'Subject_cleaned': 'subject'\n",
    "    , 'GroupName': 'group_state'})\n",
    "\n",
    "# create grade column\n",
    "df_participation['grade'] = df_participation.apply(lambda x: 'All Grades', axis=1)"
   ]
  },
  {
   "cell_type": "code",
   "execution_count": 88,
   "metadata": {},
   "outputs": [
    {
     "name": "stdout",
     "output_type": "stream",
     "text": [
      "   year district_id                      district school_id  \\\n",
      "0  2016       Z0029  Kansas City Catholic Diocese      1444   \n",
      "1  2016       Z0029  Kansas City Catholic Diocese      1444   \n",
      "2  2016       Z0029  Kansas City Catholic Diocese      1444   \n",
      "3  2016       Z0029  Kansas City Catholic Diocese      1444   \n",
      "4  2016       Z0029  Kansas City Catholic Diocese      1444   \n",
      "\n",
      "                        school       grade   group_state subject  \\\n",
      "0  Sacred Heart Elem [Emporia]  All Grades  All Students    Math   \n",
      "1  Sacred Heart Elem [Emporia]  All Grades  All Students    Math   \n",
      "2  Sacred Heart Elem [Emporia]  All Grades  All Students    Math   \n",
      "3  Sacred Heart Elem [Emporia]  All Grades  All Students    Math   \n",
      "4  Sacred Heart Elem [Emporia]  All Grades  All Students    Math   \n",
      "\n",
      "  performance_level  pct_at_level  proficient_tf  num_tested  \n",
      "0         Level One        0.1785              0        28.0  \n",
      "1         Level Two        0.4642              0        28.0  \n",
      "2       Level Three        0.2500              1        28.0  \n",
      "3        Level Four        0.1071              1        28.0  \n",
      "4         Not Valid        0.0000              0        28.0  \n"
     ]
    }
   ],
   "source": [
    "# join num_tested to scores\n",
    "df = pd.merge(df, df_participation, on=['year', 'school_id', 'grade', 'group_state', 'subject'])"
   ]
  },
  {
   "cell_type": "code",
   "execution_count": 90,
   "metadata": {},
   "outputs": [],
   "source": [
    "# renames All Students group to All Groups\n",
    "df['temp'] = [x if x != 'All Students' else 'All Groups' for x in df['group_state']]\n",
    "del df['group_state']\n",
    "df = df.rename(columns={'temp': 'group_state'})"
   ]
  },
  {
   "cell_type": "code",
   "execution_count": 91,
   "metadata": {},
   "outputs": [],
   "source": [
    "# save as cleaned proficiency\n",
    "df.to_csv('./data/finalized/ks_proficiency.csv', index=False)"
   ]
  }
 ],
 "metadata": {
  "kernelspec": {
   "display_name": "Python 3",
   "language": "python",
   "name": "python3"
  },
  "language_info": {
   "codemirror_mode": {
    "name": "ipython",
    "version": 3
   },
   "file_extension": ".py",
   "mimetype": "text/x-python",
   "name": "python",
   "nbconvert_exporter": "python",
   "pygments_lexer": "ipython3",
   "version": "3.7.3"
  }
 },
 "nbformat": 4,
 "nbformat_minor": 4
}
