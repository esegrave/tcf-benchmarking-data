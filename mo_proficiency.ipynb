{
 "cells": [
  {
   "cell_type": "code",
   "execution_count": 9,
   "metadata": {},
   "outputs": [],
   "source": [
    "# import files from Steve\n",
    "import pandas as pd\n",
    "import numpy as np\n",
    "\n",
    "proficiency_path = './data/mo/proficiency/'\n",
    "\n",
    "df = pd.read_csv(proficiency_path + 'mo_proficiency.csv')"
   ]
  },
  {
   "cell_type": "code",
   "execution_count": 10,
   "metadata": {},
   "outputs": [
    {
     "name": "stdout",
     "output_type": "stream",
     "text": [
      "year                   int64\n",
      "district_id            int64\n",
      "district              object\n",
      "school_id              int64\n",
      "school                object\n",
      "grade                 object\n",
      "group_state           object\n",
      "subject               object\n",
      "num_tested             int64\n",
      "performance_level     object\n",
      "num_at_level         float64\n",
      "proficient_tf         object\n",
      "dtype: object\n",
      "year                  object\n",
      "district_id           object\n",
      "district              object\n",
      "school_id             object\n",
      "school                object\n",
      "grade                 object\n",
      "group_state           object\n",
      "subject               object\n",
      "num_tested           float64\n",
      "performance_level     object\n",
      "num_at_level         float64\n",
      "proficient_tf           bool\n",
      "dtype: object\n"
     ]
    }
   ],
   "source": [
    "# convert string fields\n",
    "print(df.dtypes)\n",
    "df['year'] = df['year'].astype(str)\n",
    "df['district_id'] = df['district_id'].astype(str)\n",
    "df['school_id'] = df['school_id'].astype(str)\n",
    "df['proficient_tf'] = df['proficient_tf'].astype(bool)\n",
    "df['num_tested'] = df['num_tested'].astype(np.float64)\n",
    "print(df.dtypes)"
   ]
  },
  {
   "cell_type": "code",
   "execution_count": 11,
   "metadata": {},
   "outputs": [
    {
     "name": "stdout",
     "output_type": "stream",
     "text": [
      "(4609796, 12)\n",
      "(1976888, 12)\n"
     ]
    }
   ],
   "source": [
    "print(df.shape)\n",
    "df = df[df.year.isin(['2016', '2017', '2018', '2019'])]\n",
    "print(df.shape)"
   ]
  },
  {
   "cell_type": "code",
   "execution_count": 12,
   "metadata": {},
   "outputs": [],
   "source": [
    "df['pct_at_level'] = df['num_at_level'] / df['num_tested']"
   ]
  },
  {
   "cell_type": "code",
   "execution_count": 13,
   "metadata": {},
   "outputs": [
    {
     "name": "stdout",
     "output_type": "stream",
     "text": [
      "(1976888, 13)\n",
      "(1724148, 13)\n",
      "(1724148, 13)\n"
     ]
    }
   ],
   "source": [
    "# drop null values rows\n",
    "print(df.shape)\n",
    "df = df.dropna(subset=['num_at_level', 'num_tested'])\n",
    "print(df.shape)\n",
    "df = df[df['num_tested'] != 0]\n",
    "print(df.shape)"
   ]
  },
  {
   "cell_type": "code",
   "execution_count": 15,
   "metadata": {},
   "outputs": [],
   "source": [
    "# export file\n",
    "df.to_csv('./data/finalized/mo_proficiency.csv', index=False)"
   ]
  },
  {
   "cell_type": "code",
   "execution_count": null,
   "metadata": {},
   "outputs": [],
   "source": []
  }
 ],
 "metadata": {
  "kernelspec": {
   "display_name": "Python 3",
   "language": "python",
   "name": "python3"
  },
  "language_info": {
   "codemirror_mode": {
    "name": "ipython",
    "version": 3
   },
   "file_extension": ".py",
   "mimetype": "text/x-python",
   "name": "python",
   "nbconvert_exporter": "python",
   "pygments_lexer": "ipython3",
   "version": "3.7.3"
  }
 },
 "nbformat": 4,
 "nbformat_minor": 4
}
