{
 "cells": [
  {
   "cell_type": "code",
   "execution_count": 40,
   "metadata": {},
   "outputs": [],
   "source": [
    "import pandas as pd\n",
    "import numpy as np\n",
    "import util\n",
    "\n",
    "proficiency_path = './data/nj/proficiency/'\n",
    "\n",
    "proficiency_files_ungraded = [\n",
    "    'nj_proficiency_2019_cleaned_math_geo.csv'\n",
    "    , 'nj_proficiency_2017_cleaned_math_alg1.csv'\n",
    "    , 'nj_proficiency_2017_cleaned_math_alg2.csv'\n",
    "    , 'nj_proficiency_2017_cleaned_math_geo.csv'\n",
    "    , 'nj_proficiency_2018_cleaned_math_alg1.csv'\n",
    "    , 'nj_proficiency_2018_cleaned_math_alg2.csv'\n",
    "    , 'nj_proficiency_2018_cleaned_math_geo.csv'\n",
    "    , 'nj_proficiency_2019_cleaned_math_alg1.csv'\n",
    "    , 'nj_proficiency_2019_cleaned_math_alg2.csv'\n",
    "]\n",
    "\n",
    "years_ungraded = [x[15:19] for x in proficiency_files_ungraded]\n",
    "\n",
    "proficiency_files_graded = [\n",
    "    'nj_proficiency_2017_cleaned_ela_03.csv'\n",
    "    , 'nj_proficiency_2017_cleaned_ela_04.csv'\n",
    "    , 'nj_proficiency_2017_cleaned_ela_05.csv'\n",
    "    , 'nj_proficiency_2017_cleaned_ela_06.csv'\n",
    "    , 'nj_proficiency_2017_cleaned_ela_07.csv'\n",
    "    , 'nj_proficiency_2017_cleaned_ela_08.csv'\n",
    "    , 'nj_proficiency_2017_cleaned_ela_09.csv'\n",
    "    , 'nj_proficiency_2017_cleaned_ela_10.csv'\n",
    "    , 'nj_proficiency_2017_cleaned_ela_11.csv'\n",
    "    , 'nj_proficiency_2017_cleaned_math_03.csv'\n",
    "    , 'nj_proficiency_2017_cleaned_math_04.csv'\n",
    "    , 'nj_proficiency_2017_cleaned_math_05.csv'\n",
    "    , 'nj_proficiency_2017_cleaned_math_06.csv'\n",
    "    , 'nj_proficiency_2017_cleaned_math_07.csv'\n",
    "    , 'nj_proficiency_2017_cleaned_math_08.csv'\n",
    "    , 'nj_proficiency_2018_cleaned_ela_03.csv'\n",
    "    , 'nj_proficiency_2018_cleaned_ela_04.csv'\n",
    "    , 'nj_proficiency_2018_cleaned_ela_05.csv'\n",
    "    , 'nj_proficiency_2018_cleaned_ela_06.csv'\n",
    "    , 'nj_proficiency_2018_cleaned_ela_07.csv'\n",
    "    , 'nj_proficiency_2018_cleaned_ela_08.csv'\n",
    "    , 'nj_proficiency_2018_cleaned_ela_09.csv'\n",
    "    , 'nj_proficiency_2018_cleaned_ela_10.csv'\n",
    "    , 'nj_proficiency_2018_cleaned_ela_11.csv'\n",
    "    , 'nj_proficiency_2018_cleaned_math_03.csv'\n",
    "    , 'nj_proficiency_2018_cleaned_math_04.csv'\n",
    "    , 'nj_proficiency_2018_cleaned_math_05.csv'\n",
    "    , 'nj_proficiency_2018_cleaned_math_06.csv'\n",
    "    , 'nj_proficiency_2018_cleaned_math_07.csv'\n",
    "    , 'nj_proficiency_2018_cleaned_math_08.csv'\n",
    "    , 'nj_proficiency_2019_cleaned_ela_03.csv'\n",
    "    , 'nj_proficiency_2019_cleaned_ela_04.csv'\n",
    "    , 'nj_proficiency_2019_cleaned_ela_05.csv'\n",
    "    , 'nj_proficiency_2019_cleaned_ela_06.csv'\n",
    "    , 'nj_proficiency_2019_cleaned_ela_07.csv'\n",
    "    , 'nj_proficiency_2019_cleaned_ela_08.csv'\n",
    "    , 'nj_proficiency_2019_cleaned_ela_09.csv'\n",
    "    , 'nj_proficiency_2019_cleaned_ela_10.csv'\n",
    "    , 'nj_proficiency_2019_cleaned_math_03.csv'\n",
    "    , 'nj_proficiency_2019_cleaned_math_04.csv'\n",
    "    , 'nj_proficiency_2019_cleaned_math_05.csv'\n",
    "    , 'nj_proficiency_2019_cleaned_math_06.csv'\n",
    "    , 'nj_proficiency_2019_cleaned_math_07.csv'\n",
    "    , 'nj_proficiency_2019_cleaned_math_08.csv'\n",
    "]\n",
    "\n",
    "# create list of all subjects, years, and grades\n",
    "subjects_graded = [y[:-7] for y in [x[28:] for x in proficiency_files_graded]]\n",
    "subjects_graded = ['Math' if x == 'math' else 'ELA' for x in subjects_graded]\n",
    "years_graded = [x[15:19] for x in proficiency_files_graded]\n",
    "grades = [x[:-4] for x in [y[-6:] for y in proficiency_files_graded]]\n",
    "\n",
    "# import ungraded files\n",
    "df_ungraded = pd.read_csv(proficiency_path + proficiency_files_ungraded[0])\n",
    "df_ungraded['year'] = df_ungraded.apply(lambda x: years_ungraded[0], axis=1)\n",
    "\n",
    "for i in range(1, len(proficiency_files_ungraded)):\n",
    "    df2 = pd.read_csv(proficiency_path + proficiency_files_ungraded[i])\n",
    "    df2['year'] = df2.apply(lambda x: years_ungraded[i], axis=1)\n",
    "    df_ungraded = df_ungraded.append(df2, ignore_index = True, sort=True)\n",
    "\n",
    "df_ungraded['grade'] = df_ungraded.apply(lambda x: 'HS/EOC', axis=1)\n",
    "df_ungraded['subject'] = df_ungraded.apply(lambda x: 'Math', axis=1)\n",
    "    \n",
    "# import graded files\n",
    "df_graded = pd.read_csv(proficiency_path + proficiency_files_graded[0])\n",
    "df_graded['year'] = df_graded.apply(lambda x: years_graded[0], axis=1)\n",
    "df_graded['grade'] = df_graded.apply(lambda x: 'GRADE - ' + grades[0], axis=1)\n",
    "df_graded['subject'] = df_graded.apply(lambda x: subjects_graded[0], axis=1)\n",
    "\n",
    "for i in range(1, len(proficiency_files_graded)):\n",
    "    df2 = pd.read_csv(proficiency_path + proficiency_files_graded[i])\n",
    "    df2['year'] = df2.apply(lambda x: years_graded[i], axis=1)\n",
    "    df2['grade'] = df2.apply(lambda x: 'GRADE - ' + grades[i], axis=1)\n",
    "    df2['subject'] = df2.apply(lambda x: subjects_graded[i], axis=1)\n",
    "    df_graded = df_graded.append(df2, ignore_index = True, sort=True)\n",
    "\n",
    "# append both graded and ungraded files\n",
    "df = df_graded.append(df_ungraded, ignore_index = True, sort = True)"
   ]
  },
  {
   "cell_type": "code",
   "execution_count": 41,
   "metadata": {},
   "outputs": [
    {
     "name": "stdout",
     "output_type": "stream",
     "text": [
      "(999650, 22)\n",
      "(636077, 22)\n",
      "(337216, 22)\n"
     ]
    }
   ],
   "source": [
    "# remove rows where school is null\n",
    "print(df.shape)\n",
    "df = df[~df['school_id'].isna()]\n",
    "print(df.shape)\n",
    "\n",
    "# remove rows where num_tested = *\n",
    "df = df[df['num_tested'] != '*']\n",
    "print(df.shape)"
   ]
  },
  {
   "cell_type": "code",
   "execution_count": 42,
   "metadata": {},
   "outputs": [
    {
     "name": "stdout",
     "output_type": "stream",
     "text": [
      "(337216, 22)\n",
      "(245229, 22)\n"
     ]
    }
   ],
   "source": [
    "# filter dataset down to subgroups we want\n",
    "df['SUBGROUP'] = df['SUBGROUP'].str.upper()\n",
    "print(df.shape)\n",
    "df = df[(df['SUBGROUP'] != 'GRADE') & (df['SUBGROUP'] != 'GENDER')]\n",
    "print(df.shape)"
   ]
  },
  {
   "cell_type": "code",
   "execution_count": 43,
   "metadata": {},
   "outputs": [
    {
     "name": "stdout",
     "output_type": "stream",
     "text": [
      "   year district_id      district  school_id          school       grade  \\\n",
      "0  2017          10  ABSECON CITY       60.0  H ASHTON MARSH  GRADE - 03   \n",
      "1  2017          10  ABSECON CITY       60.0  H ASHTON MARSH  GRADE - 03   \n",
      "2  2017          10  ABSECON CITY       60.0  H ASHTON MARSH  GRADE - 03   \n",
      "3  2017          10  ABSECON CITY       60.0  H ASHTON MARSH  GRADE - 03   \n",
      "4  2017          10  ABSECON CITY       60.0  H ASHTON MARSH  GRADE - 03   \n",
      "\n",
      "                 group_state subject num_tested         performance_level  \\\n",
      "0                 All Groups     ELA         91  Approaching Expectations   \n",
      "1                      WHITE     ELA         57  Approaching Expectations   \n",
      "2           AFRICAN AMERICAN     ELA         15  Approaching Expectations   \n",
      "3                   HISPANIC     ELA         12  Approaching Expectations   \n",
      "4  ENGLISH LANGUAGE LEARNERS     ELA         11  Approaching Expectations   \n",
      "\n",
      "  pct_at_level  \n",
      "0         30.8  \n",
      "1         29.8  \n",
      "2           40  \n",
      "3         33.3  \n",
      "4         27.3  \n"
     ]
    }
   ],
   "source": [
    "# reshape nongrades numbers\n",
    "df['group_state'] = df['group_state'].str.upper()\n",
    "df['group_state'] = [x if x != 'ALL STUDENTS' else 'All Groups' for x in df['group_state']]\n",
    "df = pd.melt(df, id_vars=['year', 'district_id', 'district', 'school_id', 'school', 'grade', 'group_state', 'subject', 'num_tested']\n",
    "        , value_vars=[\n",
    "            'Approaching Expectations'\n",
    "            , 'Exceeding Expectations'\n",
    "            , 'Meeting Expectations'\n",
    "            , 'Not Yet Meeting Expectations'\n",
    "            , 'Partially Meeting Expectations'],\n",
    "        var_name='performance_level'\n",
    "        , value_name='pct_at_level')\n",
    "print(df.head(5))"
   ]
  },
  {
   "cell_type": "code",
   "execution_count": 44,
   "metadata": {},
   "outputs": [
    {
     "name": "stdout",
     "output_type": "stream",
     "text": [
      "   year district_id      district  school_id          school       grade  \\\n",
      "0  2017          10  ABSECON CITY       60.0  H ASHTON MARSH  GRADE - 03   \n",
      "1  2017          10  ABSECON CITY       60.0  H ASHTON MARSH  GRADE - 03   \n",
      "2  2017          10  ABSECON CITY       60.0  H ASHTON MARSH  GRADE - 03   \n",
      "3  2017          10  ABSECON CITY       60.0  H ASHTON MARSH  GRADE - 03   \n",
      "4  2017          10  ABSECON CITY       60.0  H ASHTON MARSH  GRADE - 03   \n",
      "\n",
      "                 group_state subject num_tested         performance_level  \\\n",
      "0                 All Groups     ELA         91  Approaching Expectations   \n",
      "1                      WHITE     ELA         57  Approaching Expectations   \n",
      "2           AFRICAN AMERICAN     ELA         15  Approaching Expectations   \n",
      "3                   HISPANIC     ELA         12  Approaching Expectations   \n",
      "4  ENGLISH LANGUAGE LEARNERS     ELA         11  Approaching Expectations   \n",
      "\n",
      "   pct_at_level  \n",
      "0         0.308  \n",
      "1         0.298  \n",
      "2         0.400  \n",
      "3         0.333  \n",
      "4         0.273  \n"
     ]
    }
   ],
   "source": [
    "# turn decimal into a percentage\n",
    "df['pct_at_level'] = df.apply(lambda x: float(x['pct_at_level']) / 100.0, axis = 1)\n",
    "print(df.head(5))"
   ]
  },
  {
   "cell_type": "code",
   "execution_count": 45,
   "metadata": {},
   "outputs": [
    {
     "name": "stdout",
     "output_type": "stream",
     "text": [
      "   year district_id      district  school_id          school       grade  \\\n",
      "0  2017          10  ABSECON CITY       60.0  H ASHTON MARSH  GRADE - 03   \n",
      "1  2017          10  ABSECON CITY       60.0  H ASHTON MARSH  GRADE - 03   \n",
      "2  2017          10  ABSECON CITY       60.0  H ASHTON MARSH  GRADE - 03   \n",
      "3  2017          10  ABSECON CITY       60.0  H ASHTON MARSH  GRADE - 03   \n",
      "4  2017          10  ABSECON CITY       60.0  H ASHTON MARSH  GRADE - 03   \n",
      "\n",
      "                 group_state subject num_tested         performance_level  \\\n",
      "0                 All Groups     ELA         91  Approaching Expectations   \n",
      "1                      WHITE     ELA         57  Approaching Expectations   \n",
      "2           AFRICAN AMERICAN     ELA         15  Approaching Expectations   \n",
      "3                   HISPANIC     ELA         12  Approaching Expectations   \n",
      "4  ENGLISH LANGUAGE LEARNERS     ELA         11  Approaching Expectations   \n",
      "\n",
      "   pct_at_level  num_at_level  \n",
      "0         0.308            28  \n",
      "1         0.298            17  \n",
      "2         0.400             6  \n",
      "3         0.333             4  \n",
      "4         0.273             3  \n"
     ]
    }
   ],
   "source": [
    "# calculate num_at_level\n",
    "df['num_at_level'] = df.apply(lambda x: int(round(float(x['num_tested']) * x['pct_at_level'])), axis = 1)\n",
    "print(df.head(5))"
   ]
  },
  {
   "cell_type": "code",
   "execution_count": 46,
   "metadata": {},
   "outputs": [
    {
     "name": "stdout",
     "output_type": "stream",
     "text": [
      "(1226145, 12)\n",
      "(490458, 13)\n"
     ]
    }
   ],
   "source": [
    "# add proficient_tf\n",
    "print(df.shape)\n",
    "df['proficient_tf'] = [1 if x == 'Meeting Expectations' or x == 'Exceeding Expectations' else 0 for x in df['performance_level']]\n",
    "df = df[df['proficient_tf'] == 1]\n",
    "print(df.shape)"
   ]
  },
  {
   "cell_type": "code",
   "execution_count": 47,
   "metadata": {},
   "outputs": [],
   "source": [
    "# convert num_at_level and num_tested to float\n",
    "def toFloat(row, column):\n",
    "    try:\n",
    "        return float(row[column])\n",
    "    except:\n",
    "        return np.nan\n",
    "df['num_tested'] = df.apply(lambda x: toFloat(x, 'num_tested'), axis = 1)\n",
    "df['num_at_level'] = df.apply(lambda x: toFloat(x, 'num_at_level'), axis = 1)"
   ]
  },
  {
   "cell_type": "code",
   "execution_count": 48,
   "metadata": {},
   "outputs": [
    {
     "name": "stdout",
     "output_type": "stream",
     "text": [
      "   year district_id      district  school_id          school       grade  \\\n",
      "0  2017        0010  ABSECON CITY       50.0  EMMA C ATTALES  GRADE - 05   \n",
      "1  2017        0010  ABSECON CITY       50.0  EMMA C ATTALES  GRADE - 05   \n",
      "2  2017        0010  ABSECON CITY       50.0  EMMA C ATTALES  GRADE - 05   \n",
      "3  2017        0010  ABSECON CITY       50.0  EMMA C ATTALES  GRADE - 05   \n",
      "4  2017        0010  ABSECON CITY       50.0  EMMA C ATTALES  GRADE - 05   \n",
      "\n",
      "                  group_state subject  proficient_tf  num_tested  num_at_level  \n",
      "0            AFRICAN AMERICAN     ELA              1        30.0           7.0  \n",
      "1            AFRICAN AMERICAN    Math              1        30.0           3.0  \n",
      "2                  All Groups     ELA              1       164.0          50.0  \n",
      "3                  All Groups    Math              1       170.0          30.0  \n",
      "4  ECONOMICALLY DISADVANTAGED     ELA              1        58.0          11.0  \n"
     ]
    }
   ],
   "source": [
    "# roll up num_at_level and recalculate pct_at_level, to accomodate for the subject and grade mapping done on the ungraded files\n",
    "grouped_by = ['year', 'district_id', 'district', 'school_id', 'school', 'grade', 'group_state', 'subject', 'proficient_tf']\n",
    "df1 = df.groupby(grouped_by, as_index = False)['num_tested'].sum()\n",
    "df2 = df.groupby(grouped_by, as_index = False)['num_at_level'].sum()\n",
    "df = df1.merge(df2, on = grouped_by)\n",
    "del df1\n",
    "del df2\n",
    "print(df.head(5))"
   ]
  },
  {
   "cell_type": "code",
   "execution_count": 49,
   "metadata": {},
   "outputs": [
    {
     "name": "stdout",
     "output_type": "stream",
     "text": [
      "(232660, 11)\n",
      "(232660, 11)\n"
     ]
    }
   ],
   "source": [
    "# remove rows with no scores\n",
    "print(df.shape)\n",
    "df = df.dropna(subset=['num_tested', 'num_at_level'])\n",
    "print(df.shape)"
   ]
  },
  {
   "cell_type": "code",
   "execution_count": 50,
   "metadata": {},
   "outputs": [
    {
     "name": "stdout",
     "output_type": "stream",
     "text": [
      "(90882, 9)\n",
      "(90882, 9)\n",
      "(90882, 10)\n"
     ]
    }
   ],
   "source": [
    "# create 'All' grades rollup\n",
    "grouped_by = ['year', 'district_id', 'district', 'school_id', 'school', 'group_state', 'subject', 'proficient_tf']\n",
    "df_allgrades = df.groupby(grouped_by, as_index=False)['num_at_level'].sum()\n",
    "print(df_allgrades.shape)\n",
    "df_allgrades2 = df.groupby(grouped_by, as_index=False)['num_tested'].sum()\n",
    "print(df_allgrades2.shape)\n",
    "df_allgrades = df_allgrades.merge(df_allgrades2, on=grouped_by)\n",
    "print(df_allgrades.shape)\n",
    "del df_allgrades2\n",
    "df_allgrades['grade'] = 'All Grades'"
   ]
  },
  {
   "cell_type": "code",
   "execution_count": 51,
   "metadata": {},
   "outputs": [
    {
     "name": "stdout",
     "output_type": "stream",
     "text": [
      "(232660, 11)\n",
      "(323542, 11)\n"
     ]
    }
   ],
   "source": [
    "# append df_allgrades to df\n",
    "print(df.shape)\n",
    "df = df.append(df_allgrades, ignore_index=True, sort=True)\n",
    "print(df.shape)"
   ]
  },
  {
   "cell_type": "code",
   "execution_count": 52,
   "metadata": {},
   "outputs": [
    {
     "name": "stdout",
     "output_type": "stream",
     "text": [
      "       district district_id       grade                 group_state  \\\n",
      "0  ABSECON CITY        0010  GRADE - 05            AFRICAN AMERICAN   \n",
      "1  ABSECON CITY        0010  GRADE - 05            AFRICAN AMERICAN   \n",
      "2  ABSECON CITY        0010  GRADE - 05                  All Groups   \n",
      "3  ABSECON CITY        0010  GRADE - 05                  All Groups   \n",
      "4  ABSECON CITY        0010  GRADE - 05  ECONOMICALLY DISADVANTAGED   \n",
      "\n",
      "   num_at_level  num_tested  proficient_tf          school  school_id subject  \\\n",
      "0           7.0        30.0              1  EMMA C ATTALES       50.0     ELA   \n",
      "1           3.0        30.0              1  EMMA C ATTALES       50.0    Math   \n",
      "2          50.0       164.0              1  EMMA C ATTALES       50.0     ELA   \n",
      "3          30.0       170.0              1  EMMA C ATTALES       50.0    Math   \n",
      "4          11.0        58.0              1  EMMA C ATTALES       50.0     ELA   \n",
      "\n",
      "   year  pct_at_level  \n",
      "0  2017      0.233333  \n",
      "1  2017      0.100000  \n",
      "2  2017      0.304878  \n",
      "3  2017      0.176471  \n",
      "4  2017      0.189655  \n"
     ]
    }
   ],
   "source": [
    "# calculate new pct_at_level\n",
    "df['pct_at_level'] = df.apply(lambda x: x['num_at_level'] / x['num_tested'], axis = 1)\n",
    "print(df.head(5))"
   ]
  },
  {
   "cell_type": "code",
   "execution_count": 53,
   "metadata": {},
   "outputs": [
    {
     "name": "stdout",
     "output_type": "stream",
     "text": [
      "district          object\n",
      "district_id       object\n",
      "grade             object\n",
      "group_state       object\n",
      "num_at_level     float64\n",
      "num_tested       float64\n",
      "proficient_tf      int64\n",
      "school            object\n",
      "school_id        float64\n",
      "subject           object\n",
      "year              object\n",
      "pct_at_level     float64\n",
      "dtype: object\n",
      "district          object\n",
      "district_id       object\n",
      "grade             object\n",
      "group_state       object\n",
      "num_at_level     float64\n",
      "num_tested       float64\n",
      "proficient_tf       bool\n",
      "school            object\n",
      "school_id         object\n",
      "subject           object\n",
      "year              object\n",
      "pct_at_level     float64\n",
      "dtype: object\n"
     ]
    }
   ],
   "source": [
    "print(df.dtypes)\n",
    "df['school_id'] = df['school_id'].astype('int64')\n",
    "df['school_id'] = df['school_id'].astype(str)\n",
    "df['proficient_tf'] = df['proficient_tf'].astype(bool)\n",
    "print(df.dtypes)"
   ]
  },
  {
   "cell_type": "code",
   "execution_count": 54,
   "metadata": {},
   "outputs": [
    {
     "name": "stdout",
     "output_type": "stream",
     "text": [
      "       district district_id       grade                 group_state  \\\n",
      "0  ABSECON CITY        0010  GRADE - 05            AFRICAN AMERICAN   \n",
      "1  ABSECON CITY        0010  GRADE - 05            AFRICAN AMERICAN   \n",
      "2  ABSECON CITY        0010  GRADE - 05                  All Groups   \n",
      "3  ABSECON CITY        0010  GRADE - 05                  All Groups   \n",
      "4  ABSECON CITY        0010  GRADE - 05  ECONOMICALLY DISADVANTAGED   \n",
      "\n",
      "   num_at_level  num_tested  proficient_tf          school school_id subject  \\\n",
      "0           7.0        30.0           True  EMMA C ATTALES        50     ELA   \n",
      "1           3.0        30.0           True  EMMA C ATTALES        50    Math   \n",
      "2          50.0       164.0           True  EMMA C ATTALES        50     ELA   \n",
      "3          30.0       170.0           True  EMMA C ATTALES        50    Math   \n",
      "4          11.0        58.0           True  EMMA C ATTALES        50     ELA   \n",
      "\n",
      "   year  pct_at_level  \n",
      "0  2017      0.233333  \n",
      "1  2017      0.100000  \n",
      "2  2017      0.304878  \n",
      "3  2017      0.176471  \n",
      "4  2017      0.189655  \n"
     ]
    }
   ],
   "source": [
    "print(df.head(5))"
   ]
  },
  {
   "cell_type": "code",
   "execution_count": 55,
   "metadata": {},
   "outputs": [],
   "source": [
    "# export final dataset\n",
    "df.to_csv('./data/finalized/nj_proficiency.csv', index=False)"
   ]
  },
  {
   "cell_type": "code",
   "execution_count": null,
   "metadata": {},
   "outputs": [],
   "source": []
  }
 ],
 "metadata": {
  "kernelspec": {
   "display_name": "Python 3",
   "language": "python",
   "name": "python3"
  },
  "language_info": {
   "codemirror_mode": {
    "name": "ipython",
    "version": 3
   },
   "file_extension": ".py",
   "mimetype": "text/x-python",
   "name": "python",
   "nbconvert_exporter": "python",
   "pygments_lexer": "ipython3",
   "version": "3.7.3"
  }
 },
 "nbformat": 4,
 "nbformat_minor": 4
}
