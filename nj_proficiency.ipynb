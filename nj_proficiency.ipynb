{
 "cells": [
  {
   "cell_type": "code",
   "execution_count": 54,
   "metadata": {},
   "outputs": [],
   "source": [
    "import pandas as pd\n",
    "import numpy as np\n",
    "import util\n",
    "\n",
    "proficiency_path = './data/nj/proficiency/'\n",
    "\n",
    "proficiency_files_ungraded = [\n",
    "    'nj_proficiency_2019_cleaned_math_geo.csv'\n",
    "    , 'nj_proficiency_2017_cleaned_math_alg1.csv'\n",
    "    , 'nj_proficiency_2017_cleaned_math_alg2.csv'\n",
    "    , 'nj_proficiency_2017_cleaned_math_geo.csv'\n",
    "    , 'nj_proficiency_2018_cleaned_math_alg1.csv'\n",
    "    , 'nj_proficiency_2018_cleaned_math_alg2.csv'\n",
    "    , 'nj_proficiency_2018_cleaned_math_geo.csv'\n",
    "    , 'nj_proficiency_2019_cleaned_math_alg1.csv'\n",
    "    , 'nj_proficiency_2019_cleaned_math_alg2.csv'\n",
    "]\n",
    "\n",
    "years_ungraded = [x[15:19] for x in proficiency_files_ungraded]\n",
    "\n",
    "proficiency_files_graded = [\n",
    "    'nj_proficiency_2017_cleaned_ela_03.csv'\n",
    "    , 'nj_proficiency_2017_cleaned_ela_04.csv'\n",
    "    , 'nj_proficiency_2017_cleaned_ela_05.csv'\n",
    "    , 'nj_proficiency_2017_cleaned_ela_06.csv'\n",
    "    , 'nj_proficiency_2017_cleaned_ela_07.csv'\n",
    "    , 'nj_proficiency_2017_cleaned_ela_08.csv'\n",
    "    , 'nj_proficiency_2017_cleaned_ela_09.csv'\n",
    "    , 'nj_proficiency_2017_cleaned_ela_10.csv'\n",
    "    , 'nj_proficiency_2017_cleaned_ela_11.csv'\n",
    "    , 'nj_proficiency_2017_cleaned_math_03.csv'\n",
    "    , 'nj_proficiency_2017_cleaned_math_04.csv'\n",
    "    , 'nj_proficiency_2017_cleaned_math_05.csv'\n",
    "    , 'nj_proficiency_2017_cleaned_math_06.csv'\n",
    "    , 'nj_proficiency_2017_cleaned_math_07.csv'\n",
    "    , 'nj_proficiency_2017_cleaned_math_08.csv'\n",
    "    , 'nj_proficiency_2018_cleaned_ela_03.csv'\n",
    "    , 'nj_proficiency_2018_cleaned_ela_04.csv'\n",
    "    , 'nj_proficiency_2018_cleaned_ela_05.csv'\n",
    "    , 'nj_proficiency_2018_cleaned_ela_06.csv'\n",
    "    , 'nj_proficiency_2018_cleaned_ela_07.csv'\n",
    "    , 'nj_proficiency_2018_cleaned_ela_08.csv'\n",
    "    , 'nj_proficiency_2018_cleaned_ela_09.csv'\n",
    "    , 'nj_proficiency_2018_cleaned_ela_10.csv'\n",
    "    , 'nj_proficiency_2018_cleaned_ela_11.csv'\n",
    "    , 'nj_proficiency_2018_cleaned_math_03.csv'\n",
    "    , 'nj_proficiency_2018_cleaned_math_04.csv'\n",
    "    , 'nj_proficiency_2018_cleaned_math_05.csv'\n",
    "    , 'nj_proficiency_2018_cleaned_math_06.csv'\n",
    "    , 'nj_proficiency_2018_cleaned_math_07.csv'\n",
    "    , 'nj_proficiency_2018_cleaned_math_08.csv'\n",
    "    , 'nj_proficiency_2019_cleaned_ela_03.csv'\n",
    "    , 'nj_proficiency_2019_cleaned_ela_04.csv'\n",
    "    , 'nj_proficiency_2019_cleaned_ela_05.csv'\n",
    "    , 'nj_proficiency_2019_cleaned_ela_06.csv'\n",
    "    , 'nj_proficiency_2019_cleaned_ela_07.csv'\n",
    "    , 'nj_proficiency_2019_cleaned_ela_08.csv'\n",
    "    , 'nj_proficiency_2019_cleaned_ela_09.csv'\n",
    "    , 'nj_proficiency_2019_cleaned_ela_10.csv'\n",
    "    , 'nj_proficiency_2019_cleaned_math_03.csv'\n",
    "    , 'nj_proficiency_2019_cleaned_math_04.csv'\n",
    "    , 'nj_proficiency_2019_cleaned_math_05.csv'\n",
    "    , 'nj_proficiency_2019_cleaned_math_06.csv'\n",
    "    , 'nj_proficiency_2019_cleaned_math_07.csv'\n",
    "    , 'nj_proficiency_2019_cleaned_math_08.csv'\n",
    "]\n",
    "\n",
    "# create list of all subjects, years, and grades\n",
    "subjects_graded = [y[:-7] for y in [x[28:] for x in proficiency_files_graded]]\n",
    "subjects_graded = ['Math' if x == 'math' else 'ELA' for x in subjects_graded]\n",
    "years_graded = [x[15:19] for x in proficiency_files_graded]\n",
    "grades = [x[:-4] for x in [y[-6:] for y in proficiency_files_graded]]\n",
    "\n",
    "# import ungraded files\n",
    "df_ungraded = pd.read_csv(proficiency_path + proficiency_files_ungraded[0])\n",
    "df_ungraded['year'] = df_ungraded.apply(lambda x: years_ungraded[0], axis=1)\n",
    "\n",
    "for i in range(1, len(proficiency_files_ungraded)):\n",
    "    df2 = pd.read_csv(proficiency_path + proficiency_files_ungraded[i])\n",
    "    df2['year'] = df2.apply(lambda x: years_ungraded[i], axis=1)\n",
    "    df_ungraded = df_ungraded.append(df2, ignore_index = True, sort=True)\n",
    "\n",
    "df_ungraded['grade'] = df_ungraded.apply(lambda x: 'All Grades', axis=1)\n",
    "df_ungraded['subject'] = df_ungraded.apply(lambda x: 'Math', axis=1)\n",
    "    \n",
    "# import graded files\n",
    "df_graded = pd.read_csv(proficiency_path + proficiency_files_graded[0])\n",
    "df_graded['year'] = df_graded.apply(lambda x: years_graded[0], axis=1)\n",
    "df_graded['grade'] = df_graded.apply(lambda x: 'GRADE - ' + grades[0], axis=1)\n",
    "df_graded['subject'] = df_graded.apply(lambda x: subjects_graded[0], axis=1)\n",
    "\n",
    "for i in range(1, len(proficiency_files_graded)):\n",
    "    df2 = pd.read_csv(proficiency_path + proficiency_files_graded[i])\n",
    "    df2['year'] = df2.apply(lambda x: years_graded[i], axis=1)\n",
    "    df2['grade'] = df2.apply(lambda x: 'GRADE - ' + grades[i], axis=1)\n",
    "    df2['subject'] = df2.apply(lambda x: subjects_graded[i], axis=1)\n",
    "    df_graded = df_graded.append(df2, ignore_index = True, sort=True)\n",
    "\n",
    "# append both graded and ungraded files\n",
    "df = df_graded.append(df_ungraded, ignore_index = True, sort = True)"
   ]
  },
  {
   "cell_type": "code",
   "execution_count": 55,
   "metadata": {},
   "outputs": [],
   "source": [
    "# remove rows where school is null\n",
    "df = df[~df['school_id'].isna()]\n",
    "\n",
    "# remove rows where num_tested = *\n",
    "df = df[df['num_tested'] != '*']"
   ]
  },
  {
   "cell_type": "code",
   "execution_count": 56,
   "metadata": {},
   "outputs": [],
   "source": [
    "# split dataset into total, grade, and subgroup rows to process separately\n",
    "df['SUBGROUP'] = df['SUBGROUP'].str.upper()\n",
    "df_grades = df[df['SUBGROUP'] == 'GRADE']\n",
    "df_nongrades = df[(df['SUBGROUP'] != 'GRADE') & (df['SUBGROUP'] != 'GENDER')]"
   ]
  },
  {
   "cell_type": "code",
   "execution_count": 57,
   "metadata": {},
   "outputs": [
    {
     "name": "stderr",
     "output_type": "stream",
     "text": [
      "/Library/Frameworks/Python.framework/Versions/3.7/lib/python3.7/site-packages/ipykernel_launcher.py:2: SettingWithCopyWarning: \n",
      "A value is trying to be set on a copy of a slice from a DataFrame.\n",
      "Try using .loc[row_indexer,col_indexer] = value instead\n",
      "\n",
      "See the caveats in the documentation: http://pandas.pydata.org/pandas-docs/stable/indexing.html#indexing-view-versus-copy\n",
      "  \n",
      "/Library/Frameworks/Python.framework/Versions/3.7/lib/python3.7/site-packages/ipykernel_launcher.py:3: SettingWithCopyWarning: \n",
      "A value is trying to be set on a copy of a slice from a DataFrame.\n",
      "Try using .loc[row_indexer,col_indexer] = value instead\n",
      "\n",
      "See the caveats in the documentation: http://pandas.pydata.org/pandas-docs/stable/indexing.html#indexing-view-versus-copy\n",
      "  This is separate from the ipykernel package so we can avoid doing imports until\n"
     ]
    }
   ],
   "source": [
    "# extract grades from group_state for grade rows\n",
    "df_grades['grade'] = df_grades['group_state'].str.upper()\n",
    "df_grades['group_state'] = 'All Groups'"
   ]
  },
  {
   "cell_type": "code",
   "execution_count": 58,
   "metadata": {},
   "outputs": [],
   "source": [
    "# reshape grades numbers\n",
    "df_grades = pd.melt(df_grades, id_vars=['year', 'district_id', 'district', 'school_id', 'school', 'grade', 'group_state', 'subject', 'num_tested']\n",
    "        , value_vars=[\n",
    "            'Approaching Expectations'\n",
    "            , 'Exceeding Expectations'\n",
    "            , 'Meeting Expectations'\n",
    "            , 'Not Yet Meeting Expectations'\n",
    "            , 'Partially Meeting Expectations'],\n",
    "        var_name='performance_level'\n",
    "        , value_name='pct_at_level')"
   ]
  },
  {
   "cell_type": "code",
   "execution_count": 59,
   "metadata": {},
   "outputs": [
    {
     "name": "stderr",
     "output_type": "stream",
     "text": [
      "/Library/Frameworks/Python.framework/Versions/3.7/lib/python3.7/site-packages/ipykernel_launcher.py:2: SettingWithCopyWarning: \n",
      "A value is trying to be set on a copy of a slice from a DataFrame.\n",
      "Try using .loc[row_indexer,col_indexer] = value instead\n",
      "\n",
      "See the caveats in the documentation: http://pandas.pydata.org/pandas-docs/stable/indexing.html#indexing-view-versus-copy\n",
      "  \n",
      "/Library/Frameworks/Python.framework/Versions/3.7/lib/python3.7/site-packages/ipykernel_launcher.py:3: SettingWithCopyWarning: \n",
      "A value is trying to be set on a copy of a slice from a DataFrame.\n",
      "Try using .loc[row_indexer,col_indexer] = value instead\n",
      "\n",
      "See the caveats in the documentation: http://pandas.pydata.org/pandas-docs/stable/indexing.html#indexing-view-versus-copy\n",
      "  This is separate from the ipykernel package so we can avoid doing imports until\n"
     ]
    }
   ],
   "source": [
    "# reshape nongrades numbers\n",
    "df_nongrades['group_state'] = df_nongrades['group_state'].str.upper()\n",
    "df_nongrades['group_state'] = [x if x != 'ALL STUDENTS' else 'All Groups' for x in df_nongrades['group_state']]\n",
    "df_nongrades = pd.melt(df_nongrades, id_vars=['year', 'district_id', 'district', 'school_id', 'school', 'grade', 'group_state', 'subject', 'num_tested']\n",
    "        , value_vars=[\n",
    "            'Approaching Expectations'\n",
    "            , 'Exceeding Expectations'\n",
    "            , 'Meeting Expectations'\n",
    "            , 'Not Yet Meeting Expectations'\n",
    "            , 'Partially Meeting Expectations'],\n",
    "        var_name='performance_level'\n",
    "        , value_name='pct_at_level')"
   ]
  },
  {
   "cell_type": "code",
   "execution_count": 60,
   "metadata": {},
   "outputs": [],
   "source": [
    "# stack both transposed files\n",
    "df = df_grades.append(df_nongrades, ignore_index = True, sort = True)"
   ]
  },
  {
   "cell_type": "code",
   "execution_count": 62,
   "metadata": {},
   "outputs": [],
   "source": [
    "# turn decimal into a percentage\n",
    "df['pct_at_level'] = df.apply(lambda x: float(x['pct_at_level']) / 100.0, axis = 1)"
   ]
  },
  {
   "cell_type": "code",
   "execution_count": 63,
   "metadata": {},
   "outputs": [],
   "source": [
    "# calculate num_at_level\n",
    "df['num_at_level'] = df.apply(lambda x: int(round(float(x['num_tested']) * x['pct_at_level'])), axis = 1)"
   ]
  },
  {
   "cell_type": "code",
   "execution_count": 64,
   "metadata": {},
   "outputs": [],
   "source": [
    "# roll up num_at_level and recalculate pct_at_level, to accomodate for the subject and grade mapping done on the ungraded files\n",
    "grouped_by = ['year', 'district_id', 'district', 'school_id', 'school', 'grade', 'group_state', 'subject', 'performance_level']\n",
    "df1 = df.groupby(grouped_by, as_index = False)['num_tested'].sum()\n",
    "df2 = df.groupby(grouped_by, as_index = False)['num_at_level'].sum()\n",
    "df = pd.merge(df1, df2, on = grouped_by)"
   ]
  },
  {
   "cell_type": "code",
   "execution_count": 65,
   "metadata": {},
   "outputs": [],
   "source": [
    "# calculate new pct_at_level\n",
    "df['pct_at_level'] = df.apply(lambda x: float(x['num_at_level']) / float(x['num_tested']), axis = 1)"
   ]
  },
  {
   "cell_type": "code",
   "execution_count": 67,
   "metadata": {},
   "outputs": [],
   "source": [
    "# export final dataset\n",
    "df.to_csv('./data/finalized/nj_proficiency.csv', index=False)"
   ]
  },
  {
   "cell_type": "code",
   "execution_count": null,
   "metadata": {},
   "outputs": [],
   "source": []
  }
 ],
 "metadata": {
  "kernelspec": {
   "display_name": "Python 3",
   "language": "python",
   "name": "python3"
  },
  "language_info": {
   "codemirror_mode": {
    "name": "ipython",
    "version": 3
   },
   "file_extension": ".py",
   "mimetype": "text/x-python",
   "name": "python",
   "nbconvert_exporter": "python",
   "pygments_lexer": "ipython3",
   "version": "3.7.3"
  }
 },
 "nbformat": 4,
 "nbformat_minor": 4
}
