{
 "cells": [
  {
   "cell_type": "code",
   "execution_count": 20,
   "metadata": {},
   "outputs": [
    {
     "name": "stdout",
     "output_type": "stream",
     "text": [
      "Index(['% Female', '% Free/Reduced Lunch', '% Fully Proficient',\n",
      "       '% Limited Eng Prof', '% Male', '**Hawaiian/Pacific Islander',\n",
      "       '**Multiple Races (Non-Hispanic)', 'American Indian', 'Asian', 'Black',\n",
      "       'Charter Type', 'district', 'Federal Reporting Site Code', 'Grade 1',\n",
      "       'Grade 10', 'Grade 11', 'Grade 12', 'Grade 2', 'Grade 3', 'Grade 4',\n",
      "       'Grade 5', 'Grade 6', 'Grade 7', 'Grade 8', 'Grade 9', 'Grade T9',\n",
      "       'Hispanic', 'Infants (Sp. Ed.)', 'Kindergarten', 'district_id',\n",
      "       'Minority', 'Nonprofit Organization', 'Parish Code', 'Pre-K (Reg Ed)',\n",
      "       'Pre-School (Sp Ed)', 'School System Roll Up Type', 'school',\n",
      "       'school_id', 'All Groups', 'White', 'year'],\n",
      "      dtype='object')\n"
     ]
    }
   ],
   "source": [
    "import pandas as pd\n",
    "import numpy as np\n",
    "import util\n",
    "\n",
    "enrollment_path = './data/la/enrollment/'\n",
    "\n",
    "enrollment_files = [\n",
    "    'la_enrollment_2010_cleaned.csv'\n",
    "    , 'la_enrollment_2011_cleaned.csv'\n",
    "    , 'la_enrollment_2012_cleaned.csv'\n",
    "    , 'la_enrollment_2013_cleaned.csv'\n",
    "    , 'la_enrollment_2014_cleaned.csv'\n",
    "    , 'la_enrollment_2015_cleaned.csv'\n",
    "    , 'la_enrollment_2016_cleaned.csv'\n",
    "    , 'la_enrollment_2017_cleaned.csv'\n",
    "    , 'la_enrollment_2018_cleaned.csv'\n",
    "    , 'la_enrollment_2019_cleaned.csv'\n",
    "]\n",
    "\n",
    "years = [x[14:18] for x in enrollment_files]\n",
    "\n",
    "df = pd.read_csv(enrollment_path + enrollment_files[0])\n",
    "df['year'] = df.apply(lambda x: years[0], axis=1)\n",
    "\n",
    "for i in range(1, len(enrollment_files)):\n",
    "    df2 = pd.read_csv(enrollment_path + enrollment_files[i])\n",
    "    df2['year'] = df2.apply(lambda x: years[i], axis=1)\n",
    "    df = df.append(df2, ignore_index = True, sort = True)\n",
    "\n",
    "# rename columns\n",
    "df = df.rename(columns = {\n",
    "    'LEA': 'district_id',\n",
    "    'District / Agency Name': 'district',\n",
    "    'Site Code': 'school_id',\n",
    "    'School or Site Name': 'school',\n",
    "    'Total Reported Students': 'All Groups'\n",
    "})\n",
    "\n",
    "# remove total rows\n",
    "df = df[df['school'] != 'Total']\n",
    "\n",
    "print(df.columns)\n",
    "df.to_csv('temp.csv')"
   ]
  },
  {
   "cell_type": "code",
   "execution_count": 21,
   "metadata": {},
   "outputs": [
    {
     "name": "stdout",
     "output_type": "stream",
     "text": [
      "Index(['year', 'district_id', 'district', 'school_id', 'school', 'Grade 1',\n",
      "       'Grade 10', 'Grade 11', 'Grade 12', 'Grade 2', 'Grade 3', 'Grade 4',\n",
      "       'Grade 5', 'Grade 6', 'Grade 7', 'Grade 8', 'Grade 9', 'Grade T9',\n",
      "       'Infants (Sp. Ed.)', 'Kindergarten', 'Pre-K (Reg Ed)',\n",
      "       'Pre-School (Sp Ed)', 'group_state'],\n",
      "      dtype='object')\n",
      "Index(['year', 'district_id', 'district', 'school_id', 'school',\n",
      "       '% Free/Reduced Lunch', '% Fully Proficient', '% Limited Eng Prof',\n",
      "       '**Hawaiian/Pacific Islander', '**Multiple Races (Non-Hispanic)',\n",
      "       'American Indian', 'Asian', 'Black', 'White', 'All Groups', 'Hispanic',\n",
      "       'grade'],\n",
      "      dtype='object')\n"
     ]
    },
    {
     "name": "stderr",
     "output_type": "stream",
     "text": [
      "/Library/Frameworks/Python.framework/Versions/3.7/lib/python3.7/site-packages/ipykernel_launcher.py:9: SettingWithCopyWarning: \n",
      "A value is trying to be set on a copy of a slice from a DataFrame.\n",
      "Try using .loc[row_indexer,col_indexer] = value instead\n",
      "\n",
      "See the caveats in the documentation: http://pandas.pydata.org/pandas-docs/stable/indexing.html#indexing-view-versus-copy\n",
      "  if __name__ == '__main__':\n",
      "/Library/Frameworks/Python.framework/Versions/3.7/lib/python3.7/site-packages/ipykernel_launcher.py:10: SettingWithCopyWarning: \n",
      "A value is trying to be set on a copy of a slice from a DataFrame.\n",
      "Try using .loc[row_indexer,col_indexer] = value instead\n",
      "\n",
      "See the caveats in the documentation: http://pandas.pydata.org/pandas-docs/stable/indexing.html#indexing-view-versus-copy\n",
      "  # Remove the CWD from sys.path while we load stuff.\n"
     ]
    }
   ],
   "source": [
    "# split into grade/group files\n",
    "grade_columns = ['year', 'district_id', 'district', 'school_id', 'school', 'Grade 1', 'Grade 10', 'Grade 11', 'Grade 12', 'Grade 2', 'Grade 3', 'Grade 4', 'Grade 5', 'Grade 6', 'Grade 7', 'Grade 8', 'Grade 9', 'Grade T9', 'Infants (Sp. Ed.)', 'Kindergarten', 'Pre-K (Reg Ed)', 'Pre-School (Sp Ed)']\n",
    "\n",
    "group_columns = ['year', 'district_id', 'district', 'school_id', 'school', '% Free/Reduced Lunch', '% Fully Proficient', '% Limited Eng Prof', '**Hawaiian/Pacific Islander', '**Multiple Races (Non-Hispanic)', 'American Indian', 'Asian', 'Black', 'White', 'All Groups', 'Hispanic']\n",
    "\n",
    "df_grade = df[grade_columns]\n",
    "df_group = df[group_columns]\n",
    "\n",
    "df_grade['group_state'] = 'All Groups'\n",
    "df_group['grade'] = 'All Grades'\n",
    "print(df_grade.columns)\n",
    "print(df_group.columns)"
   ]
  },
  {
   "cell_type": "code",
   "execution_count": 22,
   "metadata": {},
   "outputs": [
    {
     "name": "stderr",
     "output_type": "stream",
     "text": [
      "/Library/Frameworks/Python.framework/Versions/3.7/lib/python3.7/site-packages/ipykernel_launcher.py:4: SettingWithCopyWarning: \n",
      "A value is trying to be set on a copy of a slice from a DataFrame.\n",
      "Try using .loc[row_indexer,col_indexer] = value instead\n",
      "\n",
      "See the caveats in the documentation: http://pandas.pydata.org/pandas-docs/stable/indexing.html#indexing-view-versus-copy\n",
      "  after removing the cwd from sys.path.\n",
      "/Library/Frameworks/Python.framework/Versions/3.7/lib/python3.7/site-packages/ipykernel_launcher.py:5: SettingWithCopyWarning: \n",
      "A value is trying to be set on a copy of a slice from a DataFrame.\n",
      "Try using .loc[row_indexer,col_indexer] = value instead\n",
      "\n",
      "See the caveats in the documentation: http://pandas.pydata.org/pandas-docs/stable/indexing.html#indexing-view-versus-copy\n",
      "  \"\"\"\n"
     ]
    },
    {
     "name": "stdout",
     "output_type": "stream",
     "text": [
      "   year district_id       district school_id  \\\n",
      "0  2010           1  Acadia Parish      1001   \n",
      "1  2010           1  Acadia Parish      1002   \n",
      "2  2010           1  Acadia Parish      1003   \n",
      "3  2010           1  Acadia Parish      1004   \n",
      "4  2010           1  Acadia Parish      1005   \n",
      "\n",
      "                              school % Free/Reduced Lunch % Fully Proficient  \\\n",
      "0            Armstrong Middle School                80.67              99.72   \n",
      "1           Branch Elementary School                56.13              99.63   \n",
      "2  Central Rayne Kindergarten School                81.08              98.65   \n",
      "3     Church Point Elementary School                87.39              98.98   \n",
      "4           Church Point High School                59.68                100   \n",
      "\n",
      "  % Limited Eng Prof  **Hawaiian/Pacific Islander  \\\n",
      "0               0.28                            0   \n",
      "1               0.37                            0   \n",
      "2               1.35                            0   \n",
      "3               1.02                            0   \n",
      "4                  0                            0   \n",
      "\n",
      "  **Multiple Races (Non-Hispanic) American Indian Asian Black White  \\\n",
      "0                               0               1     0   171   182   \n",
      "1                               0               1     0    61   205   \n",
      "2                               0               0     0    89   126   \n",
      "3                               0               0     0   280   294   \n",
      "4                               0               3     1   119   311   \n",
      "\n",
      "  All Groups Hispanic       grade  Free/Reduced Lunch  Fully Proficient  \\\n",
      "0        357        3  All Grades                 288               356   \n",
      "1        269        2  All Grades                 151               268   \n",
      "2        222        7  All Grades                 180               219   \n",
      "3        587       13  All Grades                 513               581   \n",
      "4        444       10  All Grades                 265               444   \n",
      "\n",
      "   Limited Eng Prof  \n",
      "0                 1  \n",
      "1                 1  \n",
      "2                 3  \n",
      "3                 6  \n",
      "4                 0  \n"
     ]
    },
    {
     "name": "stderr",
     "output_type": "stream",
     "text": [
      "/Library/Frameworks/Python.framework/Versions/3.7/lib/python3.7/site-packages/ipykernel_launcher.py:6: SettingWithCopyWarning: \n",
      "A value is trying to be set on a copy of a slice from a DataFrame.\n",
      "Try using .loc[row_indexer,col_indexer] = value instead\n",
      "\n",
      "See the caveats in the documentation: http://pandas.pydata.org/pandas-docs/stable/indexing.html#indexing-view-versus-copy\n",
      "  \n"
     ]
    }
   ],
   "source": [
    "def calcNum(row, columnName):\n",
    "    return round(float(str(row[columnName]).replace('%','')) / 100.0 * float(str(row['All Groups']).replace(',','')))\n",
    "\n",
    "df_group['Free/Reduced Lunch'] = df_group.apply(lambda x: calcNum(x, '% Free/Reduced Lunch'), axis = 1)\n",
    "df_group['Fully Proficient'] = df_group.apply(lambda x: calcNum(x, '% Fully Proficient'), axis = 1)\n",
    "df_group['Limited Eng Prof'] = df_group.apply(lambda x: calcNum(x, '% Limited Eng Prof'), axis = 1)\n",
    "print(df_group.head(5))"
   ]
  },
  {
   "cell_type": "code",
   "execution_count": 23,
   "metadata": {},
   "outputs": [
    {
     "name": "stdout",
     "output_type": "stream",
     "text": [
      "   year district_id       district school_id  \\\n",
      "0  2010           1  Acadia Parish      1001   \n",
      "1  2010           1  Acadia Parish      1002   \n",
      "2  2010           1  Acadia Parish      1003   \n",
      "3  2010           1  Acadia Parish      1004   \n",
      "4  2010           1  Acadia Parish      1005   \n",
      "\n",
      "                              school group_state    grade num  \n",
      "0            Armstrong Middle School  All Groups  Grade 1   0  \n",
      "1           Branch Elementary School  All Groups  Grade 1  29  \n",
      "2  Central Rayne Kindergarten School  All Groups  Grade 1   0  \n",
      "3     Church Point Elementary School  All Groups  Grade 1  93  \n",
      "4           Church Point High School  All Groups  Grade 1   0  \n"
     ]
    }
   ],
   "source": [
    "# # reshape grade file\n",
    "id_vars = ['year', 'district_id', 'district', 'school_id', 'school', 'group_state']\n",
    "value_vars = ['Grade 1', 'Grade 10', 'Grade 11', 'Grade 12', 'Grade 2', 'Grade 3', 'Grade 4', 'Grade 5', 'Grade 6', 'Grade 7', 'Grade 8', 'Grade 9', 'Grade T9', 'Infants (Sp. Ed.)', 'Kindergarten', 'Pre-K (Reg Ed)', 'Pre-School (Sp Ed)']\n",
    "df_grade = pd.melt(df_grade, id_vars=id_vars, value_vars=value_vars, var_name='grade', value_name='num')\n",
    "\n",
    "# remove zeros\n",
    "df_grade = df_grade[df_grade['num'] != '0']\n",
    "print(df_grade.head(5))"
   ]
  },
  {
   "cell_type": "code",
   "execution_count": 24,
   "metadata": {},
   "outputs": [
    {
     "name": "stdout",
     "output_type": "stream",
     "text": [
      "   year district_id       district school_id  \\\n",
      "0  2010           1  Acadia Parish      1001   \n",
      "1  2010           1  Acadia Parish      1002   \n",
      "2  2010           1  Acadia Parish      1003   \n",
      "3  2010           1  Acadia Parish      1004   \n",
      "4  2010           1  Acadia Parish      1005   \n",
      "\n",
      "                              school       grade         group_state  num  \n",
      "0            Armstrong Middle School  All Grades  Free/Reduced Lunch  288  \n",
      "1           Branch Elementary School  All Grades  Free/Reduced Lunch  151  \n",
      "2  Central Rayne Kindergarten School  All Grades  Free/Reduced Lunch  180  \n",
      "3     Church Point Elementary School  All Grades  Free/Reduced Lunch  513  \n",
      "4           Church Point High School  All Grades  Free/Reduced Lunch  265  \n"
     ]
    }
   ],
   "source": [
    "# reshape group file\n",
    "id_vars = ['year', 'district_id', 'district', 'school_id', 'school', 'grade']\n",
    "value_vars = ['Free/Reduced Lunch', 'Fully Proficient', 'Limited Eng Prof', '**Hawaiian/Pacific Islander', '**Multiple Races (Non-Hispanic)', 'American Indian', 'Asian', 'Black', 'White', 'All Groups', 'Hispanic']\n",
    "df_group = pd.melt(df_group, id_vars=id_vars, value_vars=value_vars, var_name='group_state', value_name='num')\n",
    "\n",
    "# remove zeros\n",
    "df_group = df_group[df_group['num'] != '0']\n",
    "print(df_group.head(5))"
   ]
  },
  {
   "cell_type": "code",
   "execution_count": 25,
   "metadata": {},
   "outputs": [],
   "source": [
    "# append grade & group files\n",
    "df = df_grade.append(df_group, ignore_index = True, sort = True)"
   ]
  },
  {
   "cell_type": "code",
   "execution_count": 26,
   "metadata": {},
   "outputs": [
    {
     "name": "stdout",
     "output_type": "stream",
     "text": [
      "(374558, 8)\n",
      "(214783, 8)\n"
     ]
    }
   ],
   "source": [
    "# drop null records\n",
    "def toInt(row, column):\n",
    "    try:\n",
    "        return int(row[column])\n",
    "    except:\n",
    "        return np.nan\n",
    "df['num'] = df.apply(lambda x: toInt(x, 'num'), axis = 1)\n",
    "print(df.shape)\n",
    "df = df.dropna(subset=['num'])\n",
    "df = df[df['num'] != 0]\n",
    "print(df.shape)"
   ]
  },
  {
   "cell_type": "code",
   "execution_count": 27,
   "metadata": {},
   "outputs": [
    {
     "name": "stdout",
     "output_type": "stream",
     "text": [
      "district        object\n",
      "district_id     object\n",
      "grade           object\n",
      "group_state     object\n",
      "num            float64\n",
      "school          object\n",
      "school_id       object\n",
      "year            object\n",
      "dtype: object\n",
      "district       object\n",
      "district_id    object\n",
      "grade          object\n",
      "group_state    object\n",
      "num             int64\n",
      "school         object\n",
      "school_id      object\n",
      "year           object\n",
      "dtype: object\n"
     ]
    }
   ],
   "source": [
    "# unify data types\n",
    "print(df.dtypes)\n",
    "df['num'] = df['num'].astype('int64')\n",
    "print(df.dtypes)"
   ]
  },
  {
   "cell_type": "code",
   "execution_count": 28,
   "metadata": {},
   "outputs": [
    {
     "name": "stdout",
     "output_type": "stream",
     "text": [
      "1                              All Groups\n",
      "218425                 Free/Reduced Lunch\n",
      "232884                   Fully Proficient\n",
      "247343                   Limited Eng Prof\n",
      "263342        **Hawaiian/Pacific Islander\n",
      "277762    **Multiple Races (Non-Hispanic)\n",
      "290381                    American Indian\n",
      "303519                              Asian\n",
      "317031                              Black\n",
      "331467                              White\n",
      "360303                           Hispanic\n",
      "Name: group_state, dtype: object\n"
     ]
    }
   ],
   "source": [
    "print(df['group_state'].drop_duplicates())"
   ]
  },
  {
   "cell_type": "code",
   "execution_count": 29,
   "metadata": {},
   "outputs": [],
   "source": [
    "# export file\n",
    "df.to_csv('./data/finalized/la_enrollment.csv', index=False)"
   ]
  },
  {
   "cell_type": "code",
   "execution_count": null,
   "metadata": {},
   "outputs": [],
   "source": []
  }
 ],
 "metadata": {
  "kernelspec": {
   "display_name": "Python 3",
   "language": "python",
   "name": "python3"
  },
  "language_info": {
   "codemirror_mode": {
    "name": "ipython",
    "version": 3
   },
   "file_extension": ".py",
   "mimetype": "text/x-python",
   "name": "python",
   "nbconvert_exporter": "python",
   "pygments_lexer": "ipython3",
   "version": "3.7.3"
  }
 },
 "nbformat": 4,
 "nbformat_minor": 4
}
