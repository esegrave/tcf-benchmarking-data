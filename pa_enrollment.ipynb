{
 "cells": [
  {
   "cell_type": "code",
   "execution_count": 1,
   "metadata": {},
   "outputs": [
    {
     "name": "stdout",
     "output_type": "stream",
     "text": [
      "   001   002   003   004   005 006    007  008  009  010  ...  PKA PKF  PKP  \\\n",
      "0  0.0   0.0   0.0   0.0   0.0  73  115.0  161  256  214  ...  0.0   0  0.0   \n",
      "1  0.0   0.0   0.0   0.0   0.0   0    0.0    0    0  183  ...  0.0   0  0.0   \n",
      "2  0.0   0.0   0.0   0.0   0.0   0    0.0    0   19   26  ...  0.0   0  0.0   \n",
      "3  1.0   3.0   0.0   3.0   2.0   4    1.0    7    5    6  ...  0.0   0  0.0   \n",
      "4  8.0  16.0  11.0  17.0  19.0  13   41.0   27   44   44  ...  0.0   0  0.0   \n",
      "\n",
      "  SUG                            School Name  School Number  Total  \\\n",
      "0 NaN                  21st Century Cyber CS         7691.0  1,235   \n",
      "1 NaN              A W Beattie Career Center         5273.0    779   \n",
      "2 NaN                   ACT Academy Cyber CS         8217.0     76   \n",
      "3 NaN                             ARIN IU 28            0.0     57   \n",
      "4 NaN  ASPIRA Bilingual Cyber Charter School         8148.0    365   \n",
      "\n",
      "   Unnamed: 28 Unnamed: 30  year  \n",
      "0          NaN         NaN  2019  \n",
      "1          NaN         NaN  2019  \n",
      "2          NaN         NaN  2019  \n",
      "3          NaN         NaN  2019  \n",
      "4          NaN         NaN  2019  \n",
      "\n",
      "[5 rows x 34 columns]\n"
     ]
    }
   ],
   "source": [
    "import pandas as pd\n",
    "import numpy as np\n",
    "import util\n",
    "\n",
    "enrollment_path = './data/pa/enrollment/'\n",
    "\n",
    "enrollment_files = [\n",
    "    'pa_enrollment_2019_cleaned.csv'\n",
    "    , 'pa_enrollment_2018_cleaned.csv'\n",
    "    , 'pa_enrollment_2017_cleaned.csv'\n",
    "    , 'pa_enrollment_2016_cleaned.csv'\n",
    "    , 'pa_enrollment_2015_cleaned.csv'\n",
    "    , 'pa_enrollment_2014_cleaned.csv'\n",
    "    , 'pa_enrollment_2013_cleaned.csv'\n",
    "    , 'pa_enrollment_2012_cleaned.csv'\n",
    "    , 'pa_enrollment_2011_cleaned.csv'\n",
    "    , 'pa_enrollment_2010_cleaned.csv'\n",
    "    , 'pa_enrollment_2009_cleaned.csv'\n",
    "    , 'pa_enrollment_2008_cleaned.csv'\n",
    "]\n",
    "\n",
    "years = [x[14:18] for x in enrollment_files]\n",
    "\n",
    "df = pd.read_csv(enrollment_path + enrollment_files[0])\n",
    "df['year'] = df.apply(lambda x: years[0], axis=1)\n",
    "\n",
    "for i in range(1, len(enrollment_files)):\n",
    "    df2 = pd.read_csv(enrollment_path + enrollment_files[i])\n",
    "    df2['year'] = df2.apply(lambda x: years[i], axis=1)\n",
    "    df = df.append(df2, ignore_index = True, sort = True)\n",
    "print(df.head())"
   ]
  },
  {
   "cell_type": "code",
   "execution_count": 2,
   "metadata": {},
   "outputs": [
    {
     "name": "stdout",
     "output_type": "stream",
     "text": [
      "Index(['001', '002', '003', '004', '005', '006', '007', '008', '009', '010',\n",
      "       '011', '012', '7', 'AUN', 'County', 'EUG', 'K4A', 'K4F', 'K4P', 'K5A',\n",
      "       'K5F', 'K5P', 'LEA Name', 'LEA Type', 'PKA', 'PKF', 'PKP', 'SUG',\n",
      "       'School Name', 'School Number', 'Total', 'Unnamed: 28', 'Unnamed: 30',\n",
      "       'year'],\n",
      "      dtype='object')\n"
     ]
    }
   ],
   "source": [
    "print(df.columns)"
   ]
  },
  {
   "cell_type": "code",
   "execution_count": 3,
   "metadata": {},
   "outputs": [],
   "source": [
    "# rename fields\n",
    "df = df.rename(columns = {\n",
    "    'AUN': 'district_id'\n",
    "    , 'LEA Name': 'district'\n",
    "    , 'School Number': 'school_id'\n",
    "    , 'School Name': 'school'\n",
    "    , 'Total': 'All Grades'\n",
    "})\n",
    "\n",
    "df['group_state'] = df.apply(lambda x: 'All Groups', axis = 1)"
   ]
  },
  {
   "cell_type": "code",
   "execution_count": 5,
   "metadata": {},
   "outputs": [
    {
     "name": "stdout",
     "output_type": "stream",
     "text": [
      "   year  district_id                               district  school_id  \\\n",
      "0  2019   1.2415e+08                  21st Century Cyber CS     7691.0   \n",
      "1  2019   1.0302e+08              A W Beattie Career Center     5273.0   \n",
      "2  2019  1.26514e+08                   ACT Academy Cyber CS     8217.0   \n",
      "3  2019     1.28e+08                             ARIN IU 28        0.0   \n",
      "4  2019  1.81519e+08  ASPIRA Bilingual Cyber Charter School     8148.0   \n",
      "\n",
      "                                  school group_state grade num  \n",
      "0                  21st Century Cyber CS  All Groups   001   0  \n",
      "1              A W Beattie Career Center  All Groups   001   0  \n",
      "2                   ACT Academy Cyber CS  All Groups   001   0  \n",
      "3                             ARIN IU 28  All Groups   001   1  \n",
      "4  ASPIRA Bilingual Cyber Charter School  All Groups   001   8  \n"
     ]
    }
   ],
   "source": [
    "# reshape file\n",
    "id_vars = ['year', 'district_id', 'district', 'school_id', 'school', 'group_state']\n",
    "value_vars = ['001', '002', '003', '004', '005', '006', '007', '008', '009', '010', '011', '012', 'EUG', 'K4A', 'K4F', 'K4P', 'K5A', 'K5F', 'K5P', 'PKA', 'PKF', 'PKP', 'SUG', 'All Grades']\n",
    "df = pd.melt(df, id_vars = id_vars, value_vars = value_vars, var_name = 'grade', value_name = 'num')\n",
    "print(df.head())"
   ]
  },
  {
   "cell_type": "code",
   "execution_count": 6,
   "metadata": {},
   "outputs": [
    {
     "name": "stdout",
     "output_type": "stream",
     "text": [
      "(951480, 8)\n",
      "(475543, 8)\n"
     ]
    }
   ],
   "source": [
    "# drop records with no students\n",
    "df = df[df['num'] != 0]"
   ]
  },
  {
   "cell_type": "code",
   "execution_count": 7,
   "metadata": {},
   "outputs": [],
   "source": [
    "# export results\n",
    "df.to_csv('./data/finalized/pa_enrollment.csv', index=False)"
   ]
  }
 ],
 "metadata": {
  "kernelspec": {
   "display_name": "Python 3",
   "language": "python",
   "name": "python3"
  },
  "language_info": {
   "codemirror_mode": {
    "name": "ipython",
    "version": 3
   },
   "file_extension": ".py",
   "mimetype": "text/x-python",
   "name": "python",
   "nbconvert_exporter": "python",
   "pygments_lexer": "ipython3",
   "version": "3.7.3"
  }
 },
 "nbformat": 4,
 "nbformat_minor": 4
}
