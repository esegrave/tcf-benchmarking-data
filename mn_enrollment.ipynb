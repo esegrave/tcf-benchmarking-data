{
 "cells": [
  {
   "cell_type": "code",
   "execution_count": 15,
   "metadata": {},
   "outputs": [],
   "source": [
    "import pandas as pd\n",
    "import numpy as np\n",
    "import util\n",
    "\n",
    "enrollment_path = './data/mn/enrollment/'\n",
    "\n",
    "enrollment_files = [\n",
    "    'mn_enrollment_2014_cleaned.csv'\n",
    "    , 'mn_enrollment_2015_cleaned.csv'\n",
    "    , 'mn_enrollment_2016_cleaned.csv'\n",
    "    , 'mn_enrollment_2017_cleaned.csv'\n",
    "    , 'mn_enrollment_2018_cleaned.csv'\n",
    "    , 'mn_enrollment_2019_cleaned.csv'\n",
    "]\n",
    "\n",
    "years = [x[14:18] for x in enrollment_files]\n",
    "\n",
    "df = pd.read_csv(enrollment_path + enrollment_files[0])\n",
    "df['year'] = df.apply(lambda x: years[0], axis=1)\n",
    "\n",
    "for i in range(1, len(enrollment_files)):\n",
    "    df2 = pd.read_csv(enrollment_path + enrollment_files[i])\n",
    "    df2['year'] = df2.apply(lambda x: years[i], axis=1)\n",
    "    df = df.append(df2, ignore_index = True, sort = True)"
   ]
  },
  {
   "cell_type": "code",
   "execution_count": 16,
   "metadata": {},
   "outputs": [],
   "source": [
    "# rename fields\n",
    "df = df.rename(columns = {\n",
    "    'District Name': 'district'\n",
    "    , 'District Number': 'district_id'\n",
    "    , 'Grade': 'grade'\n",
    "    , 'School Name': 'school'\n",
    "    , 'School Number': 'school_id'\n",
    "    , 'Total American Indian or Alaska Native Count': 'American Indian or Alaska Native'\n",
    "    , 'Total Asian Count': 'Asian'\n",
    "    , 'Total Black or African American Count': 'Black or African American'\n",
    "    , 'Total English learner Identified Count': 'English Learner Identified'\n",
    "    , 'Total Enrollment': 'All Groups'\n",
    "    , 'Total Hispanic or Latino Count': 'Hispanic or Latino'\n",
    "    , 'Total Native Hawaiian or Pacific Islander Count': 'Native Hawaiian or Pacific Islander'\n",
    "    , 'Total Students Eligible for Free or Reduced Priced Meals Count': 'Students Eligible for Free or Reduced Priced Meals'\n",
    "    , 'Total Students Experiencing Homelessness Count': 'Students Experiencing Homelessness'\n",
    "    , 'Total Students Receiving Special Education Services Count': 'Students Receiving Special Education Services'\n",
    "    , 'Total Students of Color or American Indian Count': 'Students of Color or American Indian'\n",
    "    , 'Total Two or More Races Count': 'Two or More Races'\n",
    "    , 'Total White Count': 'White'\n",
    "})"
   ]
  },
  {
   "cell_type": "code",
   "execution_count": 17,
   "metadata": {},
   "outputs": [],
   "source": [
    "# reshape data\n",
    "df = pd.melt(df, id_vars=['year', 'district_id', 'district', 'school_id', 'school', 'grade']\n",
    "        , value_vars=[\n",
    "            'American Indian or Alaska Native'\n",
    "            , 'Asian'\n",
    "            , 'Black or African American'\n",
    "            , 'English Learner Identified'\n",
    "            , 'All Groups'\n",
    "            , 'Hispanic or Latino'\n",
    "            , 'Native Hawaiian or Pacific Islander'\n",
    "            , 'Students Eligible for Free or Reduced Priced Meals'\n",
    "            , 'Students Experiencing Homelessness'\n",
    "            , 'Students Receiving Special Education Services'\n",
    "            , 'Students of Color or American Indian'\n",
    "            , 'Two or More Races'\n",
    "            , 'White'\n",
    "        ],\n",
    "        var_name='group_state'\n",
    "        , value_name='num')"
   ]
  },
  {
   "cell_type": "code",
   "execution_count": 18,
   "metadata": {},
   "outputs": [],
   "source": [
    "# import 2013 data, separated into 2 files\n",
    "df_2013 = pd.read_csv(enrollment_path + 'mn_enrollment_2013_cleaned_specialpop.csv')\n",
    "df2 = pd.read_csv(enrollment_path + 'mn_enrollment_2013_cleaned_gendereth.csv')\n",
    "df_2013 = df_2013.append(df2, ignore_index = True, sort = True)\n",
    "df_2013['year'] = df_2013.apply(lambda x: '2013', axis = 1)"
   ]
  },
  {
   "cell_type": "code",
   "execution_count": 19,
   "metadata": {},
   "outputs": [],
   "source": [
    "gender_groups = [\n",
    "    'AMI'\n",
    "    , 'API'\n",
    "    , 'HIS'\n",
    "    , 'BLK'\n",
    "    , 'WHT'\n",
    "]\n",
    "# combine gender columns\n",
    "for group in gender_groups:\n",
    "    df_2013[group] = df_2013.apply(lambda x: x[group + '_Male'] + x[group + '_Female'], axis = 1)"
   ]
  },
  {
   "cell_type": "code",
   "execution_count": 20,
   "metadata": {},
   "outputs": [],
   "source": [
    "# reshape 2013 data\n",
    "df_2013 = pd.melt(df_2013, id_vars=['year', 'district_id', 'district', 'school_id', 'school', 'grade']\n",
    "        , value_vars=[\n",
    "            'FreeK12'\n",
    "            , 'RedK12'\n",
    "            , 'LEPIdentifiedK12'\n",
    "            , 'LEPServedK12'\n",
    "            , 'SPEK12'\n",
    "            , 'EC12Enr'\n",
    "            , 'Free-EC12'\n",
    "            , 'Red-EC12'\n",
    "            , 'LEPIdentifiedEC12'\n",
    "            , 'LEPServedEC12'\n",
    "            , 'SPE-EC12'\n",
    "            , 'Minority'\n",
    "            , 'All Groups'\n",
    "            , 'AMI'\n",
    "            , 'API'\n",
    "            , 'HIS'\n",
    "            , 'BLK'\n",
    "            , 'WHT'\n",
    "        ],\n",
    "        var_name='group_state'\n",
    "        , value_name='num')"
   ]
  },
  {
   "cell_type": "code",
   "execution_count": 21,
   "metadata": {},
   "outputs": [],
   "source": [
    "# append 2013 results to all other results\n",
    "df = df.append(df_2013, ignore_index = True, sort = True)"
   ]
  },
  {
   "cell_type": "code",
   "execution_count": 22,
   "metadata": {},
   "outputs": [
    {
     "name": "stdout",
     "output_type": "stream",
     "text": [
      "(1535221, 8)\n",
      "(826404, 8)\n"
     ]
    }
   ],
   "source": [
    "# clean 0s and nulls\n",
    "print(df.shape)\n",
    "df = df.dropna(subset=['num'])\n",
    "df = df[df['num'] != 0]\n",
    "print(df.shape)"
   ]
  },
  {
   "cell_type": "code",
   "execution_count": 23,
   "metadata": {},
   "outputs": [
    {
     "name": "stdout",
     "output_type": "stream",
     "text": [
      "district        object\n",
      "district_id    float64\n",
      "grade           object\n",
      "group_state     object\n",
      "num            float64\n",
      "school          object\n",
      "school_id      float64\n",
      "year            object\n",
      "dtype: object\n",
      "district       object\n",
      "district_id    object\n",
      "grade          object\n",
      "group_state    object\n",
      "num             int64\n",
      "school         object\n",
      "school_id      object\n",
      "year           object\n",
      "dtype: object\n"
     ]
    }
   ],
   "source": [
    "print(df.dtypes)\n",
    "df['district_id'] = df['district_id'].astype(int)\n",
    "df['district_id'] = df['district_id'].astype(str)\n",
    "df['school_id'] = df['school_id'].astype(int)\n",
    "df['school_id'] = df['school_id'].astype(str)\n",
    "df['num'] = df['num'].astype('int64')\n",
    "print(df.dtypes)"
   ]
  },
  {
   "cell_type": "code",
   "execution_count": 24,
   "metadata": {},
   "outputs": [],
   "source": [
    "# export results\n",
    "df.to_csv('./data/finalized/mn_enrollment.csv', index=False)"
   ]
  },
  {
   "cell_type": "code",
   "execution_count": null,
   "metadata": {},
   "outputs": [],
   "source": []
  }
 ],
 "metadata": {
  "kernelspec": {
   "display_name": "Python 3",
   "language": "python",
   "name": "python3"
  },
  "language_info": {
   "codemirror_mode": {
    "name": "ipython",
    "version": 3
   },
   "file_extension": ".py",
   "mimetype": "text/x-python",
   "name": "python",
   "nbconvert_exporter": "python",
   "pygments_lexer": "ipython3",
   "version": "3.7.3"
  }
 },
 "nbformat": 4,
 "nbformat_minor": 4
}
