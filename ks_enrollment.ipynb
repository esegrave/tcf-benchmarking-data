{
 "cells": [
  {
   "cell_type": "code",
   "execution_count": 1,
   "metadata": {},
   "outputs": [
    {
     "name": "stderr",
     "output_type": "stream",
     "text": [
      "/Library/Frameworks/Python.framework/Versions/3.7/lib/python3.7/site-packages/pandas/core/frame.py:6692: FutureWarning: Sorting because non-concatenation axis is not aligned. A future version\n",
      "of pandas will change to not sort by default.\n",
      "\n",
      "To accept the future behavior, pass 'sort=False'.\n",
      "\n",
      "To retain the current behavior and silence the warning, pass 'sort=True'.\n",
      "\n",
      "  sort=sort)\n"
     ]
    }
   ],
   "source": [
    "import pandas as pd\n",
    "import numpy as np\n",
    "import util\n",
    "\n",
    "enrollment_path = './data/ks/enrollment/'\n",
    "\n",
    "years = [\n",
    "    2014\n",
    "    , 2015\n",
    "    , 2016\n",
    "    , 2017\n",
    "    , 2018\n",
    "    , 2019\n",
    "]\n",
    "\n",
    "enrollment_files = [\n",
    "    'ks_enrollment_2014_cleaned.csv'\n",
    "    , 'ks_enrollment_2015_cleaned.csv'\n",
    "    , 'ks_enrollment_2016_cleaned.csv'\n",
    "    , 'ks_enrollment_2017_cleaned.csv'\n",
    "    , 'ks_enrollment_2018_cleaned.csv'\n",
    "    , 'ks_enrollment_2019_cleaned.csv'\n",
    "]\n",
    "\n",
    "# CURRENTLY AREN'T USING THESE FILES, BUT THEY DO HAVE NUMBERS FOR ALL GRADES/FRL THAT COULD BE MORE ACCURATE THAN ROLLUPS\n",
    "# enrollment_frl_files = [\n",
    "#     'ks_enrollment_frl_2014_cleaned.csv'\n",
    "#     , 'ks_enrollment_frl_2015_cleaned.csv'\n",
    "#     , 'ks_enrollment_frl_2016_cleaned.csv'\n",
    "#     , 'ks_enrollment_frl_2017_cleaned.csv'\n",
    "#     , 'ks_enrollment_frl_2018_cleaned.csv'\n",
    "#     , 'ks_enrollment_frl_2019_cleaned.csv'\n",
    "# ]\n",
    "\n",
    "subgroups = [\n",
    "    'AMER. INDIAN OR ALASKA NATIVE'\n",
    "    , 'ASIAN'\n",
    "    , 'BLACK'\n",
    "    , 'FREE LUNCH'\n",
    "    , 'HISPANIC'\n",
    "    , 'MULTI-ETHNIC'\n",
    "    , 'REDUCED-PRICE LUNCH'\n",
    "    , 'SPECIAL EDUC'\n",
    "    , 'WHITE'\n",
    "]\n",
    "\n",
    "df = pd.read_csv(enrollment_path + enrollment_files[0])\n",
    "df['year'] = df.apply(lambda x: years[0], axis=1)\n",
    "\n",
    "for i in range(1, len(enrollment_files)):\n",
    "    df2 = pd.read_csv(enrollment_path + enrollment_files[i])\n",
    "    df2['year'] = df2.apply(lambda x: years[i], axis=1)\n",
    "    df = df.append(df2, ignore_index = True)\n",
    "\n",
    "# import school mapping file\n",
    "df_schools = pd.read_csv('./data/ks/unique_schools.csv')"
   ]
  },
  {
   "cell_type": "code",
   "execution_count": 2,
   "metadata": {},
   "outputs": [],
   "source": [
    "# strip rows with null district IDS\n",
    "df = df[pd.notnull(df['ORG. #'])]\n",
    "df = df[df['ORG. #'].str.strip() != '']\n",
    "\n",
    "# rename columns\n",
    "df = df.rename(columns={\"ORG. #\": \"district_id\", \"TOTAL ALL\": \"All Groups\"})\n",
    "\n",
    "# parse district and school names\n",
    "parse = df['ORG. & BUILDING NAMES'].str.split(pat=' - ', n=1, expand=True)\n",
    "df['district'] = parse[0]\n",
    "df['school'] = parse[1]\n",
    "\n",
    "# join school ids\n",
    "df = pd.merge(df, df_schools, on=['year', 'school'])"
   ]
  },
  {
   "cell_type": "code",
   "execution_count": 3,
   "metadata": {},
   "outputs": [],
   "source": [
    "# create list of unique year, district_id, district for proficiency data\n",
    "df_districts = df[['year', 'district_id', 'district']]\n",
    "df_districts = df_districts.drop_duplicates()\n",
    "df_districts.to_csv('./data/ks/unique_districts.csv', index=False)"
   ]
  },
  {
   "cell_type": "code",
   "execution_count": 4,
   "metadata": {},
   "outputs": [],
   "source": [
    "# create function to combine gender columns\n",
    "def combineGenders (row, column1, column2):\n",
    "    if row[column1] == '<10*' and row[column2] == '<10*':\n",
    "        return '<20'\n",
    "    if (row[column1] == '<10*' or row[column1] == 'N/A*') and (row[column2] == '<10*' or row[column2] == 'N/A*'):\n",
    "        return 'N/A'\n",
    "    if row[column1] == '<10*' or row[column1] == 'N/A*':\n",
    "        return row[column2]\n",
    "    if row[column2] == '<10*' or row[column2] == 'N/A*':\n",
    "        return row[column1]\n",
    "    return str(int(row[column1]) + int(row[column2]))\n",
    "\n",
    "# combine genders for every subgroup\n",
    "for subgroup in subgroups:\n",
    "    df[subgroup] = df.apply(lambda row: combineGenders(row, subgroup + ' FEMALE', subgroup + ' MALE'), axis=1)\n",
    "\n",
    "# clean grades\n",
    "df['grade'] = [x if x != 'Total' else 'All Grades' for x in df['GRADE']]"
   ]
  },
  {
   "cell_type": "code",
   "execution_count": 5,
   "metadata": {},
   "outputs": [],
   "source": [
    "# subset to only columns we care about\n",
    "df = df[[\n",
    "    'year'\n",
    "    , 'district_id'\n",
    "    , 'district'\n",
    "    , 'school'\n",
    "    , 'grade'\n",
    "    , 'All Groups'\n",
    "    , 'AMER. INDIAN OR ALASKA NATIVE'\n",
    "    , 'ASIAN'\n",
    "    , 'BLACK'\n",
    "    , 'FREE LUNCH'\n",
    "    , 'HISPANIC'\n",
    "    , 'MULTI-ETHNIC'\n",
    "    , 'REDUCED-PRICE LUNCH'\n",
    "    , 'SPECIAL EDUC'\n",
    "    , 'WHITE'\n",
    "]]"
   ]
  },
  {
   "cell_type": "code",
   "execution_count": 6,
   "metadata": {},
   "outputs": [],
   "source": [
    "# reshape wide to long\n",
    "df = pd.melt(df, id_vars=['year', 'district_id', 'district', 'school', 'grade']\n",
    "        , value_vars=['All Groups'\n",
    "            , 'AMER. INDIAN OR ALASKA NATIVE'\n",
    "            , 'ASIAN'\n",
    "            , 'BLACK'\n",
    "            , 'FREE LUNCH'\n",
    "            , 'HISPANIC'\n",
    "            , 'MULTI-ETHNIC'\n",
    "            , 'REDUCED-PRICE LUNCH'\n",
    "            , 'SPECIAL EDUC'\n",
    "            , 'WHITE'],\n",
    "        var_name='group_state'\n",
    "        , value_name='num')"
   ]
  },
  {
   "cell_type": "code",
   "execution_count": 10,
   "metadata": {},
   "outputs": [
    {
     "name": "stdout",
     "output_type": "stream",
     "text": [
      "(624620, 7)\n",
      "(404325, 7)\n"
     ]
    }
   ],
   "source": [
    "# drop bad num values\n",
    "def toInt(row, column):\n",
    "    try:\n",
    "        return int(row[column])\n",
    "    except:\n",
    "        return np.nan\n",
    "\n",
    "df['num'] = df.apply(lambda x: toInt(x, 'num'), axis = 1)\n",
    "print(df.shape)\n",
    "df = df.dropna(subset=['num'])\n",
    "print(df.shape)"
   ]
  },
  {
   "cell_type": "code",
   "execution_count": 11,
   "metadata": {},
   "outputs": [
    {
     "name": "stdout",
     "output_type": "stream",
     "text": [
      "year             int64\n",
      "district_id     object\n",
      "district        object\n",
      "school          object\n",
      "grade           object\n",
      "group_state     object\n",
      "num            float64\n",
      "dtype: object\n",
      "year           object\n",
      "district_id    object\n",
      "district       object\n",
      "school         object\n",
      "grade          object\n",
      "group_state    object\n",
      "num             int64\n",
      "dtype: object\n"
     ]
    }
   ],
   "source": [
    "# unify data types\n",
    "print(df.dtypes)\n",
    "df['year'] = df['year'].astype(str)\n",
    "df['num'] = df['num'].astype('int64')\n",
    "print(df.dtypes)"
   ]
  },
  {
   "cell_type": "code",
   "execution_count": 12,
   "metadata": {},
   "outputs": [],
   "source": [
    "# save as cleaned enrollment\n",
    "df.to_csv('./data/finalized/ks_enrollment.csv', index=False)"
   ]
  },
  {
   "cell_type": "code",
   "execution_count": null,
   "metadata": {},
   "outputs": [],
   "source": []
  }
 ],
 "metadata": {
  "kernelspec": {
   "display_name": "Python 3",
   "language": "python",
   "name": "python3"
  },
  "language_info": {
   "codemirror_mode": {
    "name": "ipython",
    "version": 3
   },
   "file_extension": ".py",
   "mimetype": "text/x-python",
   "name": "python",
   "nbconvert_exporter": "python",
   "pygments_lexer": "ipython3",
   "version": "3.7.3"
  }
 },
 "nbformat": 4,
 "nbformat_minor": 4
}
