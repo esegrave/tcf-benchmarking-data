{
 "cells": [
  {
   "cell_type": "code",
   "execution_count": 26,
   "metadata": {},
   "outputs": [],
   "source": [
    "import pandas as pd\n",
    "import numpy as np\n",
    "import util\n",
    "\n",
    "enrollment_path = './data/co/enrollment/'\n",
    "\n",
    "years = [\n",
    "    2015\n",
    "    , 2016\n",
    "    , 2017\n",
    "    , 2018\n",
    "    , 2019\n",
    "]\n",
    "\n",
    "enrollment_files = [\n",
    "    'co_enrollment_2015_cleaned.csv'\n",
    "    , 'co_enrollment_2016_cleaned.csv'\n",
    "    , 'co_enrollment_2017_cleaned.csv'\n",
    "    , 'co_enrollment_2018_cleaned.csv'\n",
    "    , 'co_enrollment_2019_cleaned.csv'\n",
    "]\n",
    "\n",
    "enrollment_frl_files = [\n",
    "    'co_enrollment_frl_2015_cleaned.csv'\n",
    "    , 'co_enrollment_frl_2016_cleaned.csv'\n",
    "    , 'co_enrollment_frl_2017_cleaned.csv'\n",
    "    , 'co_enrollment_frl_2018_cleaned.csv'\n",
    "    , 'co_enrollment_frl_2019_cleaned.csv'\n",
    "]\n",
    "\n",
    "enrollment_ipst_files = [\n",
    "    'co_enrollment_ipst_2018_cleaned.csv'\n",
    "    , 'co_enrollment_ipst_2019_cleaned.csv'\n",
    "]\n",
    "\n",
    "# import main enrollment files\n",
    "df = pd.read_csv(enrollment_path + enrollment_files[0])\n",
    "df['year'] = df.apply(lambda x: years[0], axis=1)\n",
    "\n",
    "for i in range(1, len(enrollment_files)):\n",
    "    df2 = pd.read_csv(enrollment_path + enrollment_files[i])\n",
    "    df2['year'] = df2.apply(lambda x: years[i], axis=1)\n",
    "    df = df.append(df2, ignore_index = True, sort=True)\n",
    "\n",
    "# import frl files\n",
    "df_frl = pd.read_csv(enrollment_path + enrollment_frl_files[0])\n",
    "df_frl['year'] = df_frl.apply(lambda x: years[0], axis=1)\n",
    "\n",
    "for i in range(1, len(enrollment_frl_files)):\n",
    "    df2 = pd.read_csv(enrollment_path + enrollment_frl_files[i])\n",
    "    df2['year'] = df2.apply(lambda x: years[i], axis=1)\n",
    "    df_frl = df_frl.append(df2, ignore_index = True, sort=True)\n",
    "\n",
    "# import ipst files\n",
    "df_ipst = pd.read_csv(enrollment_path + enrollment_ipst_files[0])\n",
    "df_ipst['year'] = df_ipst.apply(lambda x: 2018, axis=1)\n",
    "df2 = pd.read_csv(enrollment_path + enrollment_ipst_files[1])\n",
    "df2['year'] = df2.apply(lambda x: 2019, axis=1)\n",
    "df_ipst = df_ipst.append(df2, ignore_index = True, sort=True)"
   ]
  },
  {
   "cell_type": "code",
   "execution_count": 31,
   "metadata": {},
   "outputs": [],
   "source": [
    "# rename grade Sch Total to All Grades\n",
    "df['temp'] = [x if x != 'Sch Total' else 'All Grades' for x in df['grade']]\n",
    "del df['grade']\n",
    "df = df.rename(columns={\"temp\": \"grade\"})\n",
    "df['temp'] = [x if x != 'ALL GRADES TOTAL' else 'All Grades' for x in df['grade']]\n",
    "del df['grade']\n",
    "df = df.rename(columns={\"temp\": \"grade\"})\n",
    "df['temp'] = [x if x != 'ALL GRADE LEVELS' else 'All Grades' for x in df['grade']]\n",
    "del df['grade']\n",
    "df = df.rename(columns={\"temp\": \"grade\"})\n",
    "# remove NaN values \n",
    "df['temp'] = [x if x == x else 'All Grades' for x in df['grade']]\n",
    "del df['grade']\n",
    "df = df.rename(columns={\"temp\": \"grade\"})"
   ]
  },
  {
   "cell_type": "code",
   "execution_count": 32,
   "metadata": {},
   "outputs": [],
   "source": [
    "# remove district level results (school_id/school is null)\n",
    "df = df[~df['school_id'].isna()]"
   ]
  },
  {
   "cell_type": "code",
   "execution_count": 41,
   "metadata": {},
   "outputs": [
    {
     "name": "stdout",
     "output_type": "stream",
     "text": [
      "<class 'numpy.int64'>\n",
      "<class 'numpy.int64'>\n"
     ]
    }
   ],
   "source": [
    "util.fieldTypes(df, ['American Indian or Alaskan Native F', 'American Indian or Alaskan Native M'])"
   ]
  },
  {
   "cell_type": "code",
   "execution_count": 42,
   "metadata": {},
   "outputs": [],
   "source": [
    "# define subgroups\n",
    "subgroups = [\n",
    "    'American Indian or Alaskan Native'\n",
    "    , 'Asian'\n",
    "    , 'Black or African American'\n",
    "    , 'Hispanic or Latino'\n",
    "    , 'Native Hawaiian or Other Pacific Islander'\n",
    "    , 'Two or More Races'\n",
    "    , 'White'\n",
    "]\n",
    "\n",
    "# create function to combine gender columns\n",
    "def combineGenders (row, column1, column2):\n",
    "    return int(str(row[column1]).replace(',', '')) + int(str(row[column2]).replace(',', ''))\n",
    "\n",
    "# combine genders for every subgroup\n",
    "for subgroup in subgroups:\n",
    "    df[subgroup] = df.apply(lambda row: combineGenders(row, subgroup + ' F', subgroup + ' M'), axis=1)"
   ]
  },
  {
   "cell_type": "code",
   "execution_count": 44,
   "metadata": {},
   "outputs": [],
   "source": [
    "# reshape data\n",
    "df = pd.melt(df, id_vars=['year', 'district_id', 'district', 'school_id', 'school', 'grade']\n",
    "        , value_vars=[\n",
    "            'American Indian or Alaskan Native'\n",
    "            , 'Asian'\n",
    "            , 'Black or African American'\n",
    "            , 'Hispanic or Latino'\n",
    "            , 'Native Hawaiian or Other Pacific Islander'\n",
    "            , 'Two or More Races'\n",
    "            , 'White'\n",
    "            , 'All Groups'],\n",
    "        var_name='group_state'\n",
    "        , value_name='num')"
   ]
  },
  {
   "cell_type": "code",
   "execution_count": 46,
   "metadata": {},
   "outputs": [
    {
     "name": "stdout",
     "output_type": "stream",
     "text": [
      "   year  district_id    district  school_id  \\\n",
      "0  2015         10.0  MAPLETON 1        0.0   \n",
      "1  2015         10.0  MAPLETON 1      187.0   \n",
      "2  2015         10.0  MAPLETON 1      212.0   \n",
      "3  2015         10.0  MAPLETON 1      263.0   \n",
      "4  2015         10.0  MAPLETON 1      309.0   \n",
      "\n",
      "                                      school       grade       group_state  \\\n",
      "0                               Not a school  All Grades  FREE AND REDUCED   \n",
      "1  MAPLETON EXPEDITIONARY SCHOOL OF THE ARTS  All Grades  FREE AND REDUCED   \n",
      "2         MAPLETON EARLY COLLEGE HIGH SCHOOL  All Grades  FREE AND REDUCED   \n",
      "3                  GLOBAL LEADERSHIP ACADEMY  All Grades  FREE AND REDUCED   \n",
      "4                        ACADEMY HIGH SCHOOL  All Grades  FREE AND REDUCED   \n",
      "\n",
      "   num  \n",
      "0    0  \n",
      "1  366  \n",
      "2  145  \n",
      "3  491  \n",
      "4  233  \n"
     ]
    }
   ],
   "source": [
    "# add grade column\n",
    "df_frl['grade'] = df_frl.apply(lambda x: 'All Grades', axis = 1)\n",
    "\n",
    "# reshape frl\n",
    "df_frl = pd.melt(df_frl, id_vars=['year', 'district_id', 'district', 'school_id', 'school', 'grade']\n",
    "        , value_vars=[\n",
    "            'FREE AND REDUCED'\n",
    "            , 'FREE LUNCH'\n",
    "            , 'REDUCED LUNCH'],\n",
    "        var_name='group_state'\n",
    "        , value_name='num')"
   ]
  },
  {
   "cell_type": "code",
   "execution_count": 47,
   "metadata": {},
   "outputs": [
    {
     "name": "stdout",
     "output_type": "stream",
     "text": [
      "   year  district_id    district  school_id  \\\n",
      "0  2018           10  MAPLETON 1        187   \n",
      "1  2018           10  MAPLETON 1        212   \n",
      "2  2018           10  MAPLETON 1        263   \n",
      "3  2018           10  MAPLETON 1        309   \n",
      "4  2018           10  MAPLETON 1        501   \n",
      "\n",
      "                                      school       grade        group_state  \\\n",
      "0  MAPLETON EXPEDITIONARY SCHOOL OF THE ARTS  All Grades  Special Education   \n",
      "1         MAPLETON EARLY COLLEGE HIGH SCHOOL  All Grades  Special Education   \n",
      "2                  GLOBAL LEADERSHIP ACADEMY  All Grades  Special Education   \n",
      "3                        ACADEMY HIGH SCHOOL  All Grades  Special Education   \n",
      "4                  MONTEREY COMMUNITY SCHOOL  All Grades  Special Education   \n",
      "\n",
      "    num  \n",
      "0  71.0  \n",
      "1  34.0  \n",
      "2  36.0  \n",
      "3  52.0  \n",
      "4  66.0  \n"
     ]
    }
   ],
   "source": [
    "# add grade column\n",
    "df_ipst['grade'] = df_ipst.apply(lambda x: 'All Grades', axis = 1)\n",
    "\n",
    "# reshape frl\n",
    "df_ipst = pd.melt(df_ipst, id_vars=['year', 'district_id', 'district', 'school_id', 'school', 'grade']\n",
    "        , value_vars=[\n",
    "            'Special Education'\n",
    "            , 'Section 504'\n",
    "            , 'Online'\n",
    "            , 'Minority'\n",
    "            , 'Migrant'\n",
    "            , 'Immigrant'\n",
    "            , 'Homeless'\n",
    "            , 'Gifted and Talented'\n",
    "            , 'EL'],\n",
    "        var_name='group_state'\n",
    "        , value_name='num')\n",
    "print(df_ipst.head())"
   ]
  },
  {
   "cell_type": "code",
   "execution_count": 48,
   "metadata": {},
   "outputs": [],
   "source": [
    "# append dfs\n",
    "df = df.append(df_frl, ignore_index=True, sort=True)\n",
    "df = df.append(df_ipst, ignore_index=True, sort=True)"
   ]
  },
  {
   "cell_type": "code",
   "execution_count": 49,
   "metadata": {},
   "outputs": [],
   "source": [
    "# export data\n",
    "df.to_csv('./data/finalized/co_enrollment.csv', index=False)"
   ]
  },
  {
   "cell_type": "code",
   "execution_count": null,
   "metadata": {},
   "outputs": [],
   "source": []
  }
 ],
 "metadata": {
  "kernelspec": {
   "display_name": "Python 3",
   "language": "python",
   "name": "python3"
  },
  "language_info": {
   "codemirror_mode": {
    "name": "ipython",
    "version": 3
   },
   "file_extension": ".py",
   "mimetype": "text/x-python",
   "name": "python",
   "nbconvert_exporter": "python",
   "pygments_lexer": "ipython3",
   "version": "3.7.3"
  }
 },
 "nbformat": 4,
 "nbformat_minor": 4
}
