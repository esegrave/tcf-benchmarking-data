{
 "cells": [
  {
   "cell_type": "code",
   "execution_count": null,
   "metadata": {},
   "outputs": [],
   "source": [
    "import pandas as pd\n",
    "import numpy as np\n",
    "import util\n",
    "\n",
    "proficiency_path = './data/tn/proficiency/'\n",
    "\n",
    "years = [\n",
    "    2012\n",
    "    , 2013\n",
    "    , 2014\n",
    "    , 2015\n",
    "    , 2016\n",
    "    , 2017\n",
    "    , 2018\n",
    "    , 2019\n",
    "]\n",
    "\n",
    "proficiency_files = [\n",
    "    'tn_proficiency_2012_cleaned.csv'\n",
    "    , 'tn_proficiency_2013_cleaned.csv'\n",
    "    , 'tn_proficiency_2014_cleaned.csv'\n",
    "    , 'tn_proficiency_2015_cleaned.csv'\n",
    "    , 'tn_proficiency_2016_cleaned.csv'\n",
    "    , 'tn_proficiency_2017_cleaned.csv'\n",
    "    , 'tn_proficiency_2018_cleaned.csv'\n",
    "    , 'tn_proficiency_2019_cleaned.csv'\n",
    "]\n",
    "\n",
    "df = pd.read_csv(proficiency_path + proficiency_files[0])\n",
    "df['year'] = df.apply(lambda x: years[0], axis=1)\n",
    "\n",
    "for i in range(1, len(proficiency_files)):\n",
    "    df2 = pd.read_csv(proficiency_path + proficiency_files[i])\n",
    "    df2['year'] = df2.apply(lambda x: years[i], axis=1)\n",
    "    df = df.append(df2, ignore_index = True, sort=True)"
   ]
  }
 ],
 "metadata": {
  "kernelspec": {
   "display_name": "Python 3",
   "language": "python",
   "name": "python3"
  },
  "language_info": {
   "codemirror_mode": {
    "name": "ipython",
    "version": 3
   },
   "file_extension": ".py",
   "mimetype": "text/x-python",
   "name": "python",
   "nbconvert_exporter": "python",
   "pygments_lexer": "ipython3",
   "version": "3.7.3"
  }
 },
 "nbformat": 4,
 "nbformat_minor": 4
}
