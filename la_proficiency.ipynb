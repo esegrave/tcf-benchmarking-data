{
 "cells": [
  {
   "cell_type": "code",
   "execution_count": 96,
   "metadata": {},
   "outputs": [],
   "source": [
    "# 'a' file structure, grades 4-8 results by grade and group\n",
    "import pandas as pd\n",
    "import numpy as np\n",
    "import util\n",
    "\n",
    "proficiency_path = './data/la/proficiency/'\n",
    "\n",
    "proficiency_files = [\n",
    "    'la_proficiency_a_2015.csv',\n",
    "    'la_proficiency_a_2016.csv',\n",
    "    'la_proficiency_a_2017.csv',\n",
    "    'la_proficiency_a_2018.csv',\n",
    "    'la_proficiency_a_2019.csv'\n",
    "]\n",
    "\n",
    "years = [x[17:21] for x in proficiency_files]\n",
    "\n",
    "df = pd.read_csv(proficiency_path + proficiency_files[0], dtype='str')\n",
    "df['year'] = df.apply(lambda x: years[0], axis=1)\n",
    "\n",
    "for i in range(1, len(proficiency_files)):\n",
    "    temp = pd.read_csv(proficiency_path + proficiency_files[i], dtype='str')\n",
    "    temp['year'] = temp.apply(lambda x: years[i], axis=1)\n",
    "    temp['Subgroup'] = temp['Subgroup'].fillna('Total Population')\n",
    "    df = df.append(temp, ignore_index = True, sort=True)"
   ]
  },
  {
   "cell_type": "code",
   "execution_count": 97,
   "metadata": {},
   "outputs": [
    {
     "name": "stdout",
     "output_type": "stream",
     "text": [
      "(421447, 28)\n",
      "(384067, 28)\n"
     ]
    }
   ],
   "source": [
    "# drop non-School records\n",
    "print(df.shape)\n",
    "df = df[df['Summary Level'] == 'School']\n",
    "print(df.shape)"
   ]
  },
  {
   "cell_type": "code",
   "execution_count": 98,
   "metadata": {},
   "outputs": [
    {
     "name": "stdout",
     "output_type": "stream",
     "text": [
      "Index(['ELA % Advanced', 'ELA % Approaching Basic', 'ELA % Basic',\n",
      "       'ELA % Mastery', 'ELA % Unsatisfactory', 'grade',\n",
      "       'Mathematics % Advanced', 'Mathematics % Approaching Basic',\n",
      "       'Mathematics % Basic', 'Mathematics % Mastery',\n",
      "       'Mathematics % Unsatisfactory', 'school_id', 'school', 'district_id',\n",
      "       'district', 'Science % Advanced', 'Science % Approaching Basic',\n",
      "       'Science % Basic', 'Science % Mastery', 'Science % Unsatisfactory',\n",
      "       'Social Studies % Advanced', 'Social Studies % Approaching Basic',\n",
      "       'Social Studies % Basic', 'Social Studies % Mastery',\n",
      "       'Social Studies % Unsatisfactory', 'group_state', 'Summary Level',\n",
      "       'year'],\n",
      "      dtype='object')\n"
     ]
    }
   ],
   "source": [
    "# rename columns\n",
    "df = df.rename(columns={\n",
    "    'School Code': 'school_id',\n",
    "    'School Name': 'school',\n",
    "    'School System Code': 'district_id',\n",
    "    'School System Name': 'district',\n",
    "    'Subgroup': 'group_state',\n",
    "    'Grade': 'grade'\n",
    "})\n",
    "print(df.columns)"
   ]
  },
  {
   "cell_type": "code",
   "execution_count": 99,
   "metadata": {},
   "outputs": [],
   "source": [
    "# split into math & ela files, drop other subjects\n",
    "math_columns = ['year', 'district_id', 'district', 'school_id', 'school', 'group_state', 'grade', 'Mathematics % Advanced', 'Mathematics % Approaching Basic', 'Mathematics % Basic', 'Mathematics % Mastery', 'Mathematics % Unsatisfactory']\n",
    "ela_columns = ['year', 'district_id', 'district', 'school_id', 'school', 'group_state', 'grade', 'ELA % Advanced', 'ELA % Approaching Basic', 'ELA % Basic', 'ELA % Mastery', 'ELA % Unsatisfactory']\n",
    "df_math = df[math_columns]\n",
    "df_ela = df[ela_columns]"
   ]
  },
  {
   "cell_type": "code",
   "execution_count": 100,
   "metadata": {},
   "outputs": [
    {
     "name": "stdout",
     "output_type": "stream",
     "text": [
      "(384067, 12)\n",
      "(158755, 12)\n",
      "(384067, 12)\n",
      "(159402, 12)\n"
     ]
    }
   ],
   "source": [
    "# drop NR rows\n",
    "print(df_math.shape)\n",
    "df_math = df_math[df_math['Mathematics % Advanced'] != 'NR']\n",
    "print(df_math.shape)\n",
    "print(df_ela.shape)\n",
    "df_ela = df_ela[df_ela['ELA % Advanced'] != 'NR']\n",
    "print(df_ela.shape)"
   ]
  },
  {
   "cell_type": "code",
   "execution_count": 101,
   "metadata": {},
   "outputs": [],
   "source": [
    "# process <5 rows\n",
    "def suppressedCount(row):\n",
    "    list = []\n",
    "    list.append(row['advanced'])\n",
    "    list.append(row['approaching basic'])\n",
    "    list.append(row['basic'])\n",
    "    list.append(row['mastery'])\n",
    "    list.append(row['unsatisfactory'])\n",
    "    return list.count('≤5') + list.count('<5')\n",
    "\n",
    "df_math = df_math.rename(columns={\n",
    "    'Mathematics % Advanced': 'advanced',\n",
    "    'Mathematics % Approaching Basic': 'approaching basic',\n",
    "    'Mathematics % Basic': 'basic',\n",
    "    'Mathematics % Mastery': 'mastery',\n",
    "    'Mathematics % Unsatisfactory': 'unsatisfactory'\n",
    "})\n",
    "df_math['suppressedCount'] = df_math.apply(lambda x: suppressedCount(x), axis = 1)\n",
    "\n",
    "df_ela = df_ela.rename(columns={\n",
    "    'ELA % Advanced': 'advanced',\n",
    "    'ELA % Approaching Basic': 'approaching basic',\n",
    "    'ELA % Basic': 'basic',\n",
    "    'ELA % Mastery': 'mastery',\n",
    "    'ELA % Unsatisfactory': 'unsatisfactory'\n",
    "})\n",
    "df_ela['suppressedCount'] = df_ela.apply(lambda x: suppressedCount(x), axis = 1)"
   ]
  },
  {
   "cell_type": "code",
   "execution_count": 102,
   "metadata": {},
   "outputs": [],
   "source": [
    "def replaceSuppressed(row, column, advancedTF):\n",
    "    if row[column] == '≤5' or row[column] == '<5':\n",
    "        if row['suppressedCount'] == 1:\n",
    "            if advancedTF:\n",
    "                if (100.0 - float(row['approaching basic']) - float(row['basic']) - float(row['mastery']) - float(row['unsatisfactory'])) > 0:\n",
    "                    return 100.0 - float(row['approaching basic']) - float(row['basic']) - float(row['mastery']) - float(row['unsatisfactory'])\n",
    "                return 0\n",
    "            if (100.0 - float(row['approaching basic']) - float(row['basic']) - float(row['advanced']) - float(row['unsatisfactory'])) > 0:\n",
    "                return 100.0 - float(row['approaching basic']) - float(row['basic']) - float(row['advanced']) - float(row['unsatisfactory'])\n",
    "            return 0\n",
    "        if row['suppressedCount'] == 2:\n",
    "            return 2.5\n",
    "        if row['suppressedCount'] == 3:\n",
    "            return 1.67\n",
    "        if row['suppressedCount'] == 4:\n",
    "            return 1.25\n",
    "    return row[column]\n",
    "df_math['cleanedAdvanced'] = df_math.apply(lambda x: replaceSuppressed(x, 'advanced', 1), axis = 1)\n",
    "df_math['cleanedMastery'] = df_math.apply(lambda x: replaceSuppressed(x, 'mastery', 0), axis = 1)\n",
    "df_ela['cleanedAdvanced'] = df_ela.apply(lambda x: replaceSuppressed(x, 'advanced', 1), axis = 1)\n",
    "df_ela['cleanedMastery'] = df_ela.apply(lambda x: replaceSuppressed(x, 'mastery', 0), axis = 1)"
   ]
  },
  {
   "cell_type": "code",
   "execution_count": 103,
   "metadata": {},
   "outputs": [],
   "source": [
    "def convertFloat(row, column):\n",
    "    try:\n",
    "        return float(row[column])\n",
    "    except:\n",
    "        return float(row[column].replace('>', '').replace('<', '').replace('≤', '').replace('≥', ''))\n",
    "\n",
    "# add advanced and mastery\n",
    "def calcPct(row):\n",
    "    return (convertFloat(row, 'cleanedAdvanced') + convertFloat(row,'cleanedMastery')) / 100.0\n",
    "\n",
    "df_math['pct_at_level'] = df_math.apply(lambda x: calcPct(x), axis = 1)\n",
    "df_ela['pct_at_level'] = df_ela.apply(lambda x: calcPct(x), axis = 1)"
   ]
  },
  {
   "cell_type": "code",
   "execution_count": 104,
   "metadata": {},
   "outputs": [],
   "source": [
    "# append subjects\n",
    "df_math['subject'] = 'Math'\n",
    "df_ela['subject'] = 'ELA'\n",
    "df = df_math.append(df_ela, ignore_index=True, sort=True)"
   ]
  },
  {
   "cell_type": "code",
   "execution_count": 105,
   "metadata": {},
   "outputs": [],
   "source": [
    "# set performance_level and proficient_tf\n",
    "df['proficient_tf'] = 1\n",
    "df['performance_level'] = 'Mastery and Advanced'"
   ]
  },
  {
   "cell_type": "code",
   "execution_count": 106,
   "metadata": {},
   "outputs": [
    {
     "name": "stdout",
     "output_type": "stream",
     "text": [
      "(318157, 19)\n",
      "(318157, 19)\n"
     ]
    }
   ],
   "source": [
    "# remove rows with no scores\n",
    "print(df.shape)\n",
    "df = df[df['pct_at_level'] != 0]\n",
    "df = df.dropna(subset=['pct_at_level'])\n",
    "print(df.shape)"
   ]
  },
  {
   "cell_type": "code",
   "execution_count": 107,
   "metadata": {},
   "outputs": [],
   "source": [
    "# filter columns\n",
    "df = df[['district', 'district_id', 'grade', 'group_state', 'pct_at_level', 'school', 'school_id', 'subject', 'year', 'proficient_tf']]"
   ]
  },
  {
   "cell_type": "code",
   "execution_count": 108,
   "metadata": {},
   "outputs": [
    {
     "name": "stdout",
     "output_type": "stream",
     "text": [
      "                          district district_id                group_state  \\\n",
      "0  A.E. Phillips Laboratory School         322  Black or African American   \n",
      "1  A.E. Phillips Laboratory School         322  Black or African American   \n",
      "2  A.E. Phillips Laboratory School         322  Black or African American   \n",
      "3  A.E. Phillips Laboratory School         322  Black or African American   \n",
      "4  A.E. Phillips Laboratory School         322  Black or African American   \n",
      "\n",
      "                             school school_id subject  year  proficient_tf  \\\n",
      "0  A. E. Phillips Laboratory School    322001     ELA  2015              1   \n",
      "1  A. E. Phillips Laboratory School    322001     ELA  2016              1   \n",
      "2  A. E. Phillips Laboratory School    322001     ELA  2017              1   \n",
      "3  A. E. Phillips Laboratory School    322001     ELA  2018              1   \n",
      "4  A. E. Phillips Laboratory School    322001     ELA  2019              1   \n",
      "\n",
      "   pct_at_level grade  \n",
      "0       0.80000   All  \n",
      "1       0.74670   All  \n",
      "2       0.82000   All  \n",
      "3       0.41670   All  \n",
      "4       0.72335   All  \n"
     ]
    }
   ],
   "source": [
    "# calculate 'All' grades rows\n",
    "grouped_by = ['district', 'district_id', 'group_state', 'school', 'school_id', 'subject', 'year', 'proficient_tf']\n",
    "df_allgrades = df.groupby(grouped_by, as_index=False)['pct_at_level'].mean()\n",
    "df_allgrades['grade'] = 'All'\n",
    "print(df_allgrades.head(5))"
   ]
  },
  {
   "cell_type": "code",
   "execution_count": 109,
   "metadata": {},
   "outputs": [
    {
     "name": "stdout",
     "output_type": "stream",
     "text": [
      "(318157, 10)\n",
      "(400443, 10)\n"
     ]
    }
   ],
   "source": [
    "# append 'All' grades rows to main df\n",
    "print(df.shape)\n",
    "df = df.append(df_allgrades, ignore_index=True, sort=True)\n",
    "del df_allgrades\n",
    "print(df.shape)"
   ]
  },
  {
   "cell_type": "code",
   "execution_count": 110,
   "metadata": {},
   "outputs": [
    {
     "name": "stdout",
     "output_type": "stream",
     "text": [
      "district          object\n",
      "district_id       object\n",
      "grade             object\n",
      "group_state       object\n",
      "pct_at_level     float64\n",
      "proficient_tf      int64\n",
      "school            object\n",
      "school_id         object\n",
      "subject           object\n",
      "year              object\n",
      "dtype: object\n",
      "district          object\n",
      "district_id       object\n",
      "grade             object\n",
      "group_state       object\n",
      "pct_at_level     float64\n",
      "proficient_tf       bool\n",
      "school            object\n",
      "school_id         object\n",
      "subject           object\n",
      "year              object\n",
      "dtype: object\n"
     ]
    }
   ],
   "source": [
    "print(df.dtypes)\n",
    "df['proficient_tf'] = df['proficient_tf'].astype(bool)\n",
    "print(df.dtypes)"
   ]
  },
  {
   "cell_type": "code",
   "execution_count": 111,
   "metadata": {},
   "outputs": [],
   "source": [
    "# 'b' file structure, 2017 - 2019 EOC\n",
    "b_files = [\n",
    "    'la_proficiency_b_2017.csv'\n",
    "    , 'la_proficiency_b_2018.csv'\n",
    "    , 'la_proficiency_b_2019.csv'\n",
    "]\n",
    "\n",
    "years = [x[17:21] for x in b_files]\n",
    "\n",
    "df_b = pd.DataFrame()\n",
    "\n",
    "for i in range(0, len(b_files)):\n",
    "    temp = pd.read_csv(proficiency_path + b_files[i], dtype='str')\n",
    "    temp['year'] = temp.apply(lambda x: years[i], axis=1)\n",
    "    df_b = df_b.append(temp, ignore_index = True, sort=True)"
   ]
  },
  {
   "cell_type": "code",
   "execution_count": 112,
   "metadata": {},
   "outputs": [
    {
     "name": "stdout",
     "output_type": "stream",
     "text": [
      "(45277, 74)\n",
      "(40587, 74)\n"
     ]
    }
   ],
   "source": [
    "# drop non-School records\n",
    "print(df_b.shape)\n",
    "df_b = df_b[df_b['Summary Level'] == 'School']\n",
    "print(df_b.shape)"
   ]
  },
  {
   "cell_type": "code",
   "execution_count": 113,
   "metadata": {},
   "outputs": [],
   "source": [
    "# rename columns\n",
    "df_b = df_b.rename(columns={\n",
    "    'School System Code': 'district_id'\n",
    "    , 'School System Name': 'district'\n",
    "    , 'School Code': 'school_id'\n",
    "    , 'School Name': 'school'\n",
    "})"
   ]
  },
  {
   "cell_type": "code",
   "execution_count": 114,
   "metadata": {},
   "outputs": [],
   "source": [
    "# create combined subgroup column\n",
    "df_b['Group'] = df_b['Group'].fillna('NA')\n",
    "df_b['Subgroup'] = df_b['Subgroup'].fillna('NA')\n",
    "df_b['group_state'] = df_b['Group'] + df_b['Subgroup']"
   ]
  },
  {
   "cell_type": "code",
   "execution_count": 115,
   "metadata": {},
   "outputs": [],
   "source": [
    "# create grade as HS/EOC\n",
    "df_b['grade'] = 'HS/EOC'"
   ]
  },
  {
   "cell_type": "code",
   "execution_count": 116,
   "metadata": {},
   "outputs": [
    {
     "name": "stdout",
     "output_type": "stream",
     "text": [
      "   year district_id       district school_id                    school  \\\n",
      "0  2017           1  Acadia Parish      1005  Church Point High School   \n",
      "1  2017           1  Acadia Parish      1005  Church Point High School   \n",
      "2  2017           1  Acadia Parish      1005  Church Point High School   \n",
      "3  2017           1  Acadia Parish      1005  Church Point High School   \n",
      "4  2017           1  Acadia Parish      1005  Church Point High School   \n",
      "\n",
      "    grade                                group_state               subject  \\\n",
      "0  HS/EOC                         Total PopulationNA  Algebra I % Advanced   \n",
      "1  HS/EOC                                 GenderMale  Algebra I % Advanced   \n",
      "2  HS/EOC                               GenderFemale  Algebra I % Advanced   \n",
      "3  HS/EOC                   EthnicityHispanic/Latino  Algebra I % Advanced   \n",
      "4  HS/EOC  EthnicityAmerican Indian or Alaska Native  Algebra I % Advanced   \n",
      "\n",
      "  pct_at_level  \n",
      "0          NaN  \n",
      "1          NaN  \n",
      "2          NaN  \n",
      "3          NaN  \n",
      "4          NaN  \n"
     ]
    }
   ],
   "source": [
    "# pivot dataset\n",
    "id_vars = ['year', 'district_id', 'district', 'school_id', 'school', 'grade', 'group_state']\n",
    "value_vars = ['Algebra I % Advanced', 'Algebra I % Excellent', 'Algebra I % Good', 'Algebra I % Mastery','Biology % Excellent', 'Biology % Good','Biology (EOC) % Excellent','Biology (EOC) % Good','English I % Advanced','English I % Mastery','English II % Advanced','English II % Excellent', 'English II % Good', 'English II % Mastery', 'English III % Excellent', 'English III % Good','English III (EOC) % Excellent','English III (EOC) % Good','Geometry % Advanced', 'Geometry % Excellent', 'Geometry % Fair', 'Geometry % Good','Geometry % Mastery','U.S. History  % Excellent', 'U.S. History  % Good', 'U.S. History % Advanced', 'U.S. History % Mastery', 'U.S. History (EOC) % Excellent', 'U.S. History (EOC) % Good', 'U.S. History (LEAP 2025) % Advanced', 'U.S. History (LEAP 2025) % Mastery']\n",
    "df_b = pd.melt(df_b, id_vars = id_vars, value_vars = value_vars, var_name = 'subject' , value_name = 'pct_at_level')\n",
    "print(df_b.head(5))"
   ]
  },
  {
   "cell_type": "code",
   "execution_count": 117,
   "metadata": {},
   "outputs": [],
   "source": [
    "# trim everything from % on from column names\n",
    "df_b ['new_subject'] = [x[:x.find('%')] for x in df_b['subject']]\n",
    "df_b ['new_subject'] = df_b ['new_subject'].str.strip()\n",
    "del df_b['subject']\n",
    "df_b = df_b.rename(columns={'new_subject':'subject'})"
   ]
  },
  {
   "cell_type": "code",
   "execution_count": 118,
   "metadata": {},
   "outputs": [],
   "source": [
    "df_b['proficient_tf'] = 1"
   ]
  },
  {
   "cell_type": "code",
   "execution_count": 119,
   "metadata": {},
   "outputs": [],
   "source": [
    "# convert pct_at_level to float\n",
    "def toFloat(row, column):\n",
    "    try:\n",
    "        return float(row[column])\n",
    "    except:\n",
    "        return np.nan\n",
    "\n",
    "df_b['pct_at_level'] = df_b.apply(lambda x: toFloat(x, 'pct_at_level'), axis=1)"
   ]
  },
  {
   "cell_type": "code",
   "execution_count": 120,
   "metadata": {},
   "outputs": [
    {
     "name": "stdout",
     "output_type": "stream",
     "text": [
      "(1258197, 10)\n",
      "(127595, 10)\n",
      "(127595, 10)\n"
     ]
    }
   ],
   "source": [
    "# drop null and zero rows\n",
    "print(df_b.shape)\n",
    "df_b = df_b.dropna(subset=['pct_at_level'])\n",
    "print(df_b.shape)\n",
    "df_b = df_b[df_b['pct_at_level'] != 0]\n",
    "print(df_b.shape)"
   ]
  },
  {
   "cell_type": "code",
   "execution_count": 121,
   "metadata": {},
   "outputs": [],
   "source": [
    "# divide by 100\n",
    "df_b['pct_at_level'] = df_b['pct_at_level'] / 100"
   ]
  },
  {
   "cell_type": "code",
   "execution_count": 122,
   "metadata": {},
   "outputs": [
    {
     "name": "stdout",
     "output_type": "stream",
     "text": [
      "(127595, 10)\n",
      "(203515, 10)\n"
     ]
    }
   ],
   "source": [
    "# calculate 'All' grades rows\n",
    "grouped_by = ['district', 'district_id', 'group_state', 'school', 'school_id', 'subject', 'year', 'proficient_tf']\n",
    "df_allgrades = df_b.groupby(grouped_by, as_index=False)['pct_at_level'].mean()\n",
    "df_allgrades['grade'] = 'All'\n",
    "\n",
    "# append 'All' grades rows to main df\n",
    "print(df_b.shape)\n",
    "df_b = df_b.append(df_allgrades, ignore_index=True, sort=True)\n",
    "del df_allgrades\n",
    "print(df_b.shape)"
   ]
  },
  {
   "cell_type": "code",
   "execution_count": 123,
   "metadata": {},
   "outputs": [
    {
     "name": "stdout",
     "output_type": "stream",
     "text": [
      "district          object\n",
      "district_id       object\n",
      "grade             object\n",
      "group_state       object\n",
      "pct_at_level     float64\n",
      "proficient_tf      int64\n",
      "school            object\n",
      "school_id         object\n",
      "subject           object\n",
      "year              object\n",
      "dtype: object\n",
      "district          object\n",
      "district_id       object\n",
      "grade             object\n",
      "group_state       object\n",
      "pct_at_level     float64\n",
      "proficient_tf       bool\n",
      "school            object\n",
      "school_id         object\n",
      "subject           object\n",
      "year              object\n",
      "dtype: object\n"
     ]
    }
   ],
   "source": [
    "# unify dtypes\n",
    "print(df_b.dtypes)\n",
    "df_b['proficient_tf'] = df_b['proficient_tf'].astype(bool)\n",
    "print(df_b.dtypes)"
   ]
  },
  {
   "cell_type": "code",
   "execution_count": 124,
   "metadata": {},
   "outputs": [
    {
     "name": "stdout",
     "output_type": "stream",
     "text": [
      "['algebrai', 'biology', 'englishii', 'englishiii', 'geometry']\n",
      "  2009 to 2012 Growth December 2008 and May 2009 December 2009 and May 2010  \\\n",
      "0                  -8                         39                         20   \n",
      "1                   3                         47                         54   \n",
      "2                   6                         54                         42   \n",
      "3                  20                         26                         37   \n",
      "4                   6                         53                         44   \n",
      "\n",
      "  December 2010 and May 2011 December 2011 and May 2012 School Code  \\\n",
      "0                         29                         31        1005   \n",
      "1                         50                         50        1007   \n",
      "2                         49                         60        1017   \n",
      "3                         49                         46        1021   \n",
      "4                         66                         59        1034   \n",
      "\n",
      "                School Name School System Code School System Name   grade  \\\n",
      "0  Church Point High School                  1      Acadia Parish  HS/EOC   \n",
      "1       Crowley High School                  1      Acadia Parish  HS/EOC   \n",
      "2       Midland High School                  1      Acadia Parish  HS/EOC   \n",
      "3         Rayne High School                  1      Acadia Parish  HS/EOC   \n",
      "4          Iota High School                  1      Acadia Parish  HS/EOC   \n",
      "\n",
      "    group_state   subject  \n",
      "0  All Students  algebrai  \n",
      "1  All Students  algebrai  \n",
      "2  All Students  algebrai  \n",
      "3  All Students  algebrai  \n",
      "4  All Students  algebrai  \n"
     ]
    }
   ],
   "source": [
    "# 'c' file structure, 2009 - 2012 EOC\n",
    "c_files = [\n",
    "    'la_proficiency_c_20092012_algebrai.csv'\n",
    "    , 'la_proficiency_c_20092012_biology.csv'\n",
    "    , 'la_proficiency_c_20092012_englishii.csv'\n",
    "    , 'la_proficiency_c_20092012_englishiii.csv'\n",
    "    , 'la_proficiency_c_20092012_geometry.csv'\n",
    "]\n",
    "\n",
    "subjects = [x[26:x.find('.csv')] for x in c_files]\n",
    "print(subjects)\n",
    "\n",
    "df_c = pd.DataFrame()\n",
    "\n",
    "for i in range(0, len(c_files)):\n",
    "    temp = pd.read_csv(proficiency_path + c_files[i], dtype='str')\n",
    "    temp['subject'] = subjects[i]\n",
    "    temp['grade'] = 'HS/EOC'\n",
    "    temp['group_state'] = 'All Students'\n",
    "    df_c = df_c.append(temp, ignore_index = True, sort=True)\n",
    "print(df_c.head(5))"
   ]
  },
  {
   "cell_type": "code",
   "execution_count": 125,
   "metadata": {},
   "outputs": [],
   "source": [
    "# rename columns\n",
    "df_c = df_c.rename(columns={\n",
    "    'School System Code': 'district_id'\n",
    "    , 'School System Name': 'district'\n",
    "    ,'School Code': 'school_id'\n",
    "    ,'School Name': 'school'\n",
    "    ,'December 2008 and May 2009': '2009'\n",
    "    ,'December 2009 and May 2010': '2010'\n",
    "    ,'December 2010 and May 2011': '2011'\n",
    "    ,'December 2011 and May 2012': '2012'\n",
    "})"
   ]
  },
  {
   "cell_type": "code",
   "execution_count": 126,
   "metadata": {},
   "outputs": [
    {
     "name": "stdout",
     "output_type": "stream",
     "text": [
      "  district_id       district school_id                    school   grade  \\\n",
      "0           1  Acadia Parish      1005  Church Point High School  HS/EOC   \n",
      "1           1  Acadia Parish      1007       Crowley High School  HS/EOC   \n",
      "2           1  Acadia Parish      1017       Midland High School  HS/EOC   \n",
      "3           1  Acadia Parish      1021         Rayne High School  HS/EOC   \n",
      "4           1  Acadia Parish      1034          Iota High School  HS/EOC   \n",
      "\n",
      "    subject   group_state  year pct_at_level  \n",
      "0  algebrai  All Students  2009           39  \n",
      "1  algebrai  All Students  2009           47  \n",
      "2  algebrai  All Students  2009           54  \n",
      "3  algebrai  All Students  2009           26  \n",
      "4  algebrai  All Students  2009           53  \n"
     ]
    }
   ],
   "source": [
    "# pivot scores\n",
    "id_vars = ['district_id', 'district', 'school_id', 'school', 'grade', 'subject', 'group_state']\n",
    "value_vars = ['2009', '2010', '2011', '2012']\n",
    "df_c = pd.melt(df_c, id_vars = id_vars, value_vars = value_vars, var_name = 'year' , value_name = 'pct_at_level')\n",
    "print(df_c.head(5))"
   ]
  },
  {
   "cell_type": "code",
   "execution_count": 127,
   "metadata": {},
   "outputs": [
    {
     "name": "stdout",
     "output_type": "stream",
     "text": [
      "(7836, 9)\n",
      "(4600, 9)\n",
      "(4600, 9)\n"
     ]
    }
   ],
   "source": [
    "# convert scores to float, drop nulls and zeros\n",
    "# convert pct_at_level to float\n",
    "def toFloat(row, column):\n",
    "    try:\n",
    "        return float(row[column])\n",
    "    except:\n",
    "        return np.nan\n",
    "\n",
    "df_c['pct_at_level'] = df_c.apply(lambda x: toFloat(x, 'pct_at_level'), axis=1)\n",
    "\n",
    "# drop null and zero rows\n",
    "print(df_c.shape)\n",
    "df_c = df_c.dropna(subset=['pct_at_level'])\n",
    "print(df_c.shape)\n",
    "df_c = df_c[df_c['pct_at_level'] != 0]\n",
    "print(df_c.shape)"
   ]
  },
  {
   "cell_type": "code",
   "execution_count": 128,
   "metadata": {},
   "outputs": [],
   "source": [
    "# divide by 100\n",
    "df_c['pct_at_level'] = df_c['pct_at_level'] / 100"
   ]
  },
  {
   "cell_type": "code",
   "execution_count": 129,
   "metadata": {},
   "outputs": [
    {
     "name": "stdout",
     "output_type": "stream",
     "text": [
      "(4600, 9)\n",
      "(9200, 9)\n"
     ]
    }
   ],
   "source": [
    "# calculate 'All' grades rows\n",
    "grouped_by = ['district', 'district_id', 'group_state', 'school', 'school_id', 'subject', 'year']\n",
    "df_allgrades = df_c.groupby(grouped_by, as_index=False)['pct_at_level'].mean()\n",
    "df_allgrades['grade'] = 'All'\n",
    "\n",
    "# append 'All' grades rows to main df\n",
    "print(df_c.shape)\n",
    "df_c = df_c.append(df_allgrades, ignore_index=True, sort=True)\n",
    "del df_allgrades\n",
    "print(df_c.shape)"
   ]
  },
  {
   "cell_type": "code",
   "execution_count": 130,
   "metadata": {},
   "outputs": [],
   "source": [
    "# create proficient_tf\n",
    "df_c['proficient_tf'] = 1"
   ]
  },
  {
   "cell_type": "code",
   "execution_count": 131,
   "metadata": {},
   "outputs": [
    {
     "name": "stdout",
     "output_type": "stream",
     "text": [
      "district          object\n",
      "district_id       object\n",
      "grade             object\n",
      "group_state       object\n",
      "pct_at_level     float64\n",
      "school            object\n",
      "school_id         object\n",
      "subject           object\n",
      "year              object\n",
      "proficient_tf      int64\n",
      "dtype: object\n",
      "district          object\n",
      "district_id       object\n",
      "grade             object\n",
      "group_state       object\n",
      "pct_at_level     float64\n",
      "school            object\n",
      "school_id         object\n",
      "subject           object\n",
      "year              object\n",
      "proficient_tf       bool\n",
      "dtype: object\n"
     ]
    }
   ],
   "source": [
    "# unify dtypes\n",
    "print(df_c.dtypes)\n",
    "df_c['proficient_tf'] = df_c['proficient_tf'].astype(bool)\n",
    "print(df_c.dtypes)"
   ]
  },
  {
   "cell_type": "code",
   "execution_count": 132,
   "metadata": {},
   "outputs": [
    {
     "name": "stdout",
     "output_type": "stream",
     "text": [
      "['algebrai', 'biology', 'englishii', 'englishiii', 'geometry']\n",
      "  Excellent Fair Good Needs Improvement School Code               School Name  \\\n",
      "0         4   44   25                28        1005  Church Point High School   \n",
      "1        16   27   31                26        1007       Crowley High School   \n",
      "2        36    8   53                 3        1017       Midland High School   \n",
      "3        23   29   33                15        1021         Rayne High School   \n",
      "4        14   36   34                17        1034          Iota High School   \n",
      "\n",
      "  School System Code School System Name Total   grade   group_state  \\\n",
      "0                  1      Acadia Parish  ≥130  HS/EOC  All Students   \n",
      "1                  1      Acadia Parish  ≥170  HS/EOC  All Students   \n",
      "2                  1      Acadia Parish   ≥50  HS/EOC  All Students   \n",
      "3                  1      Acadia Parish  ≥180  HS/EOC  All Students   \n",
      "4                  1      Acadia Parish  ≥130  HS/EOC  All Students   \n",
      "\n",
      "   proficient_tf   subject  year  \n",
      "0              1  algebrai  2013  \n",
      "1              1  algebrai  2013  \n",
      "2              1  algebrai  2013  \n",
      "3              1  algebrai  2013  \n",
      "4              1  algebrai  2013  \n"
     ]
    }
   ],
   "source": [
    "# 'd' file structure, 2013 EOC\n",
    "d_files = [\n",
    "    'la_proficiency_d_2013_algebrai.csv'\n",
    "    , 'la_proficiency_d_2013_biology.csv'\n",
    "    , 'la_proficiency_d_2013_englishii.csv'\n",
    "    , 'la_proficiency_d_2013_englishiii.csv'\n",
    "    , 'la_proficiency_d_2013_geometry.csv'\n",
    "]\n",
    "\n",
    "subjects = [x[22:x.find('.csv')] for x in d_files]\n",
    "print(subjects)\n",
    "\n",
    "df_d = pd.DataFrame()\n",
    "\n",
    "for i in range(0, len(d_files)):\n",
    "    temp = pd.read_csv(proficiency_path + d_files[i], dtype='str')\n",
    "    temp['subject'] = subjects[i]\n",
    "    temp['grade'] = 'HS/EOC'\n",
    "    temp['group_state'] = 'All Students'\n",
    "    temp['year'] = '2013'\n",
    "    temp['proficient_tf'] = 1\n",
    "    df_d = df_d.append(temp, ignore_index = True, sort=True)\n",
    "print(df_d.head(5))"
   ]
  },
  {
   "cell_type": "code",
   "execution_count": 133,
   "metadata": {},
   "outputs": [],
   "source": [
    "# rename columns\n",
    "df_d = df_d.rename(columns={\n",
    "    'School System Code': 'district_id',\n",
    "    'School System Name': 'district',\n",
    "    'School Code': 'school_id',\n",
    "    'School Name': 'school'\n",
    "})"
   ]
  },
  {
   "cell_type": "code",
   "execution_count": 134,
   "metadata": {},
   "outputs": [
    {
     "name": "stdout",
     "output_type": "stream",
     "text": [
      "(2029, 15)\n",
      "(1618, 15)\n",
      "(1618, 15)\n"
     ]
    }
   ],
   "source": [
    "# convert Excellent and Good to float, all together, drop nulls and zeros\n",
    "df_d['Excellent'] = df_d.apply(lambda x: toFloat(x, 'Excellent'), axis=1)\n",
    "df_d['Good'] = df_d.apply(lambda x: toFloat(x, 'Good'), axis=1)\n",
    "df_d['pct_at_level'] = df_d['Excellent'] + df_d['Good']\n",
    "\n",
    "# drop null and zero rows\n",
    "print(df_d.shape)\n",
    "df_d = df_d.dropna(subset=['pct_at_level'])\n",
    "print(df_d.shape)\n",
    "df_d = df_d[df_d['pct_at_level'] != 0]\n",
    "print(df_d.shape)"
   ]
  },
  {
   "cell_type": "code",
   "execution_count": 135,
   "metadata": {},
   "outputs": [],
   "source": [
    "# divide pct at level by 100\n",
    "df_d['pct_at_level'] = df_d['pct_at_level'] / 100"
   ]
  },
  {
   "cell_type": "code",
   "execution_count": 136,
   "metadata": {},
   "outputs": [
    {
     "name": "stdout",
     "output_type": "stream",
     "text": [
      "(1618, 15)\n",
      "(3236, 15)\n"
     ]
    }
   ],
   "source": [
    "# calculate 'All' grades rows\n",
    "grouped_by = ['district', 'district_id', 'group_state', 'school', 'school_id', 'subject', 'year', 'proficient_tf']\n",
    "df_allgrades = df_d.groupby(grouped_by, as_index=False)['pct_at_level'].mean()\n",
    "df_allgrades['grade'] = 'All'\n",
    "\n",
    "# append 'All' grades rows to main df\n",
    "print(df_d.shape)\n",
    "df_d = df_d.append(df_allgrades, ignore_index=True, sort=True)\n",
    "del df_allgrades\n",
    "print(df_d.shape)"
   ]
  },
  {
   "cell_type": "code",
   "execution_count": 137,
   "metadata": {},
   "outputs": [],
   "source": [
    "# filter to wanted columns\n",
    "df_d = df_d[['district', 'district_id', 'group_state', 'school', 'school_id', 'subject', 'grade', 'year', 'proficient_tf', 'pct_at_level']]"
   ]
  },
  {
   "cell_type": "code",
   "execution_count": 138,
   "metadata": {},
   "outputs": [
    {
     "name": "stdout",
     "output_type": "stream",
     "text": [
      "district          object\n",
      "district_id       object\n",
      "group_state       object\n",
      "school            object\n",
      "school_id         object\n",
      "subject           object\n",
      "grade             object\n",
      "year              object\n",
      "proficient_tf      int64\n",
      "pct_at_level     float64\n",
      "dtype: object\n",
      "district          object\n",
      "district_id       object\n",
      "group_state       object\n",
      "school            object\n",
      "school_id         object\n",
      "subject           object\n",
      "grade             object\n",
      "year              object\n",
      "proficient_tf       bool\n",
      "pct_at_level     float64\n",
      "dtype: object\n"
     ]
    }
   ],
   "source": [
    "# unify dtypes\n",
    "print(df_d.dtypes)\n",
    "df_d['proficient_tf'] = df_d['proficient_tf'].astype(bool)\n",
    "print(df_d.dtypes)"
   ]
  },
  {
   "cell_type": "code",
   "execution_count": 139,
   "metadata": {},
   "outputs": [
    {
     "name": "stdout",
     "output_type": "stream",
     "text": [
      "district          object\n",
      "district_id       object\n",
      "grade             object\n",
      "group_state       object\n",
      "pct_at_level     float64\n",
      "proficient_tf       bool\n",
      "school            object\n",
      "school_id         object\n",
      "subject           object\n",
      "year              object\n",
      "dtype: object\n"
     ]
    }
   ],
   "source": [
    "# join all results together\n",
    "df = df.append(df_b, ignore_index=True, sort=True)\n",
    "df = df.append(df_c, ignore_index=True, sort=True)\n",
    "df = df.append(df_d, ignore_index=True, sort=True)\n",
    "print(df.dtypes)"
   ]
  },
  {
   "cell_type": "code",
   "execution_count": 140,
   "metadata": {},
   "outputs": [
    {
     "name": "stdout",
     "output_type": "stream",
     "text": [
      "        year   grade                 group_state     subject\n",
      "0       2015       6   Black or African American        Math\n",
      "1       2015       6  Economically Disadvantaged        Math\n",
      "2       2015       6            Total Population        Math\n",
      "3       2015       6                       White        Math\n",
      "4       2015       7   Black or African American        Math\n",
      "5       2015       7  Economically Disadvantaged        Math\n",
      "6       2015       7            Total Population        Math\n",
      "7       2015       7                       White        Math\n",
      "8       2015       8   Black or African American        Math\n",
      "9       2015       8  Economically Disadvantaged        Math\n",
      "10      2015       8    Students with Disability        Math\n",
      "11      2015       8            Total Population        Math\n",
      "12      2015       8                       White        Math\n",
      "13      2015       3  Economically Disadvantaged        Math\n",
      "14      2015       3            Total Population        Math\n",
      "15      2015       3                       White        Math\n",
      "16      2015       4  Economically Disadvantaged        Math\n",
      "17      2015       4            Total Population        Math\n",
      "18      2015       4                       White        Math\n",
      "19      2015       5  Economically Disadvantaged        Math\n",
      "20      2015       5            Total Population        Math\n",
      "21      2015       5                       White        Math\n",
      "31      2015       3   Black or African American        Math\n",
      "33      2015       3    Students with Disability        Math\n",
      "36      2015       4   Black or African American        Math\n",
      "39      2015       4           Two or more races        Math\n",
      "41      2015       5   Black or African American        Math\n",
      "62      2015       6    Students with Disability        Math\n",
      "67      2015       7    Students with Disability        Math\n",
      "310     2015       5    Students with Disability        Math\n",
      "...      ...     ...                         ...         ...\n",
      "606592  2011  HS/EOC                All Students    geometry\n",
      "606903  2012  HS/EOC                All Students    algebrai\n",
      "607294  2012  HS/EOC                All Students     biology\n",
      "607611  2012  HS/EOC                All Students   englishii\n",
      "607933  2012  HS/EOC                All Students  englishiii\n",
      "608241  2012  HS/EOC                All Students    geometry\n",
      "608558  2009     All                All Students    algebrai\n",
      "608559  2010     All                All Students    algebrai\n",
      "608560  2011     All                All Students    algebrai\n",
      "608561  2012     All                All Students    algebrai\n",
      "608562  2011     All                All Students     biology\n",
      "608563  2012     All                All Students     biology\n",
      "608564  2009     All                All Students   englishii\n",
      "608565  2010     All                All Students   englishii\n",
      "608566  2011     All                All Students   englishii\n",
      "608567  2012     All                All Students   englishii\n",
      "608568  2012     All                All Students  englishiii\n",
      "608569  2010     All                All Students    geometry\n",
      "608570  2011     All                All Students    geometry\n",
      "608571  2012     All                All Students    geometry\n",
      "613158  2013  HS/EOC                All Students    algebrai\n",
      "613591  2013  HS/EOC                All Students     biology\n",
      "613883  2013  HS/EOC                All Students   englishii\n",
      "614196  2013  HS/EOC                All Students  englishiii\n",
      "614480  2013  HS/EOC                All Students    geometry\n",
      "614776  2013     All                All Students    algebrai\n",
      "614777  2013     All                All Students     biology\n",
      "614778  2013     All                All Students   englishii\n",
      "614779  2013     All                All Students  englishiii\n",
      "614780  2013     All                All Students    geometry\n",
      "\n",
      "[1778 rows x 4 columns]\n"
     ]
    }
   ],
   "source": [
    "print(df[['year', 'grade', 'group_state', 'subject']].drop_duplicates())"
   ]
  },
  {
   "cell_type": "code",
   "execution_count": 141,
   "metadata": {},
   "outputs": [],
   "source": [
    "# export final dataset\n",
    "df.to_csv('./data/finalized/la_proficiency.csv', index=False)"
   ]
  },
  {
   "cell_type": "code",
   "execution_count": null,
   "metadata": {},
   "outputs": [],
   "source": []
  }
 ],
 "metadata": {
  "kernelspec": {
   "display_name": "Python 3",
   "language": "python",
   "name": "python3"
  },
  "language_info": {
   "codemirror_mode": {
    "name": "ipython",
    "version": 3
   },
   "file_extension": ".py",
   "mimetype": "text/x-python",
   "name": "python",
   "nbconvert_exporter": "python",
   "pygments_lexer": "ipython3",
   "version": "3.7.3"
  }
 },
 "nbformat": 4,
 "nbformat_minor": 4
}
