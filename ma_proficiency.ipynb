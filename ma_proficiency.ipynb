{
 "cells": [
  {
   "cell_type": "code",
   "execution_count": 1,
   "metadata": {},
   "outputs": [
    {
     "name": "stdout",
     "output_type": "stream",
     "text": [
      "   A # A % Ave. SGP     CPI Included In Ave. SGP Included In Median SGP  \\\n",
      "0   33  35      NaN    95.8                  NaN                    NaN   \n",
      "1   37  27      NaN    90.3                  NaN                    NaN   \n",
      "2   10  16      NaN    81.0                  NaN                    NaN   \n",
      "3  295  72      NaN    99.1                  NaN                    NaN   \n",
      "4    5  12      NaN    82.3                  NaN                    NaN   \n",
      "\n",
      "  Median SGP NI # NI %  P #  ... P+A % School Code  \\\n",
      "0        NaN   10   11   51  ...    88    04450105   \n",
      "1        NaN   37   27   63  ...    72    00010505   \n",
      "2        NaN   28   44   23  ...    52    04120530   \n",
      "3        NaN    7    2  105  ...    98    06000505   \n",
      "4        NaN   11   27   21  ...    63    06030505   \n",
      "\n",
      "                                         School Name Student Included  \\\n",
      "0  Abby Kelley Foster Charter Public (District) -...               95   \n",
      "1                           Abington - Abington High              139   \n",
      "2  Academy Of the Pacific Rim Charter Public (Dis...               63   \n",
      "3  Acton-Boxborough - Acton-Boxborough Regional High              408   \n",
      "4         Adams-Cheshire - Hoosac Valley High School               41   \n",
      "\n",
      "                Subject W/F # W/F % grade   group_state  year  \n",
      "0  SCIENCE AND TECH/ENG     1     1    10  All Students  2019  \n",
      "1  SCIENCE AND TECH/ENG     2     1    10  All Students  2019  \n",
      "2  SCIENCE AND TECH/ENG     2     3    10  All Students  2019  \n",
      "3  SCIENCE AND TECH/ENG     1     0    10  All Students  2019  \n",
      "4  SCIENCE AND TECH/ENG     4    10    10  All Students  2019  \n",
      "\n",
      "[5 rows x 22 columns]\n"
     ]
    }
   ],
   "source": [
    "import pandas as pd\n",
    "import numpy as np\n",
    "import util\n",
    "\n",
    "proficiency_path = './data/ma/proficiency/raw/'\n",
    "\n",
    "# import and append all files from file path\n",
    "# from os import listdir\n",
    "# from os.path import isfile, join\n",
    "# onlyfiles = [f for f in listdir(proficiency_path) if isfile(join(proficiency_path, f))]\n",
    "\n",
    "# initialize list of years, grades, and group\n",
    "years = ['2019', '2018', '2017', '2016', '2015', '2014', '2013']\n",
    "grades = ['ALL', '03', '04', '05', '06', '07', '08', '10', 'HS SCI']\n",
    "groups = ['All Students', 'Non-Econ. Disadvantaged', 'Econ. Disadvantaged', 'Non-Low Income', 'Low income', 'High needs', 'Migrant', 'Moderate or High Level of Need', 'Amer. Ind. or Alaska Nat.', 'Afr. Amer./Black', 'Asian', 'Hispanic/Latino', 'White', 'Nat. Haw. or Pacif. Isl.', 'Multi-race, Non-Hisp./Lat.', 'Former EL', 'EL', 'EL and Former EL', 'Ever EL', 'Students w/disabilities', 'Non-Title1', 'Title1', 'Non-Disabled', 'Foster Care', 'Homeless', 'Military']\n",
    "\n",
    "df_mcas = pd.DataFrame()\n",
    "\n",
    "# build files list\n",
    "for year in years:\n",
    "    for grade in grades:\n",
    "        for group in groups:\n",
    "            filename = 'mcas_' + grade.replace('.', '').replace('/', '') + '_' + group.replace('.', '').replace('/', '') + '_' + year.replace('.', '').replace('/', '') + '.xlsx'\n",
    "            temp = pd.read_excel(proficiency_path + filename, dtype='str', header = 1)\n",
    "            temp['year'] = year\n",
    "            temp['grade'] = grade\n",
    "            temp['group_state'] = group\n",
    "            df_mcas = df_mcas.append(temp, ignore_index = True, sort=True)\n",
    "\n",
    "print(df_mcas.head())"
   ]
  },
  {
   "cell_type": "code",
   "execution_count": 2,
   "metadata": {},
   "outputs": [
    {
     "name": "stdout",
     "output_type": "stream",
     "text": [
      "  Ach. PCTL Avg. Scaled Score           E # E % Included In SGP           M #  \\\n",
      "0        38             499.4            37   5             578           309   \n",
      "1        35             495.9            23   3             579           259   \n",
      "2        27             492.5             4   2             NaN            75   \n",
      "3        47             501.8            51   8             634           300   \n",
      "4        41             497.4            29   4             634           265   \n",
      "\n",
      "  M %         M+E # M+E %          NM #  ... No. of Students Included  \\\n",
      "0  44           346    49            50  ...                      699   \n",
      "1  37           282    40            60  ...                      699   \n",
      "2  32            79    34            21  ...                      234   \n",
      "3  46           351    54            46  ...                      654   \n",
      "4  40           294    45            53  ...                      655   \n",
      "\n",
      "           PM # PM %             SGP School Code  \\\n",
      "0           303   43            51.4    04450105   \n",
      "1           357   51            51.3    04450105   \n",
      "2           134   57             NaN    04450105   \n",
      "3           257   39            46.6    00010405   \n",
      "4           308   47            44.2    00010405   \n",
      "\n",
      "                                         School Name Subject        grade  \\\n",
      "0  Abby Kelley Foster Charter Public (District) -...     ELA  ALL (03-08)   \n",
      "1  Abby Kelley Foster Charter Public (District) -...    MATH  ALL (03-08)   \n",
      "2  Abby Kelley Foster Charter Public (District) -...     SCI  ALL (03-08)   \n",
      "3                  Abington - Abington Middle School     ELA  ALL (03-08)   \n",
      "4                  Abington - Abington Middle School    MATH  ALL (03-08)   \n",
      "\n",
      "    group_state  year  \n",
      "0  All Students  2019  \n",
      "1  All Students  2019  \n",
      "2  All Students  2019  \n",
      "3  All Students  2019  \n",
      "4  All Students  2019  \n",
      "\n",
      "[5 rows x 21 columns]\n"
     ]
    }
   ],
   "source": [
    "# import next-gen MCAS results\n",
    "years = ['2019', '2018', '2017']\n",
    "grades = ['ALL (03-08)', '03', '04', '05', '06', '07', '08', '10']\n",
    "groups = ['All Students', 'Afr. Amer./Black', 'Hispanic/Latino', 'Econ. Disadvantaged', 'White']\n",
    "\n",
    "nextgen_path = './data/ma/proficiency/nextgen_mcas/'\n",
    "\n",
    "df_ng = pd.DataFrame()\n",
    "\n",
    "# build files list\n",
    "for year in years:\n",
    "    for grade in grades:\n",
    "        for group in groups:\n",
    "            filename = 'mcas_nextgen_' + grade.replace('.', '').replace('/', '') + '_' + group.replace('.', '').replace('/', '') + '_' + year.replace('.', '').replace('/', '') + '.xlsx'\n",
    "            temp = pd.read_excel(nextgen_path + filename, dtype='str', header = 1)\n",
    "            temp['year'] = year\n",
    "            temp['grade'] = grade\n",
    "            temp['group_state'] = group\n",
    "            df_ng = df_ng.append(temp, ignore_index = True, sort=True)\n",
    "print(df_ng.head(5))"
   ]
  },
  {
   "cell_type": "code",
   "execution_count": 3,
   "metadata": {},
   "outputs": [],
   "source": [
    "# rename next gen columns, then append to df\n",
    "df_ng = df_ng.rename(columns={\n",
    "    'M+E #': 'P+A #',\n",
    "    'No. of Students Included': 'Student Included'\n",
    "})\n",
    "df = df_mcas.append(df_ng, ignore_index=True, sort=True)"
   ]
  },
  {
   "cell_type": "code",
   "execution_count": 4,
   "metadata": {},
   "outputs": [
    {
     "name": "stdout",
     "output_type": "stream",
     "text": [
      "Index(['A #', 'A %', 'Ach. PCTL', 'Ave. SGP', 'Avg. Scaled Score', 'CPI',\n",
      "       'E #', 'E %', 'Included In Ave. SGP', 'Included In Median SGP',\n",
      "       'Included In SGP', 'M #', 'M %', 'M+E %', 'Median SGP', 'NI #', 'NI %',\n",
      "       'NM #', 'NM %', 'P #', 'P %', 'num_at_level', 'P+A %', 'PM #', 'PM %',\n",
      "       'SGP', 'School Code', 'School Name', 'num_tested', 'subject', 'W/F #',\n",
      "       'W/F %', 'grade', 'group_state', 'year'],\n",
      "      dtype='object')\n"
     ]
    }
   ],
   "source": [
    "# rename columns\n",
    "df = df.rename(columns={\n",
    "    'Subject': 'subject',\n",
    "    'P+A #': 'num_at_level',\n",
    "    'Student Included': 'num_tested'\n",
    "})\n",
    "print(df.columns)"
   ]
  },
  {
   "cell_type": "code",
   "execution_count": 5,
   "metadata": {},
   "outputs": [],
   "source": [
    "# split school_id and school into district id and code\n",
    "def splitSchool(row, type):\n",
    "    if type == 'school':\n",
    "        return row['School Name'][row['School Name'].find(' - ') + 3:]\n",
    "    if type == 'district':\n",
    "        return row['School Name'][:row['School Name'].find(' - ')]\n",
    "\n",
    "df['district_id'] = df.apply(lambda x: x['School Code'][:4], axis = 1)\n",
    "df['district'] = df.apply(lambda x: splitSchool(x, 'district'), axis = 1)\n",
    "df['school_id'] = df.apply(lambda x: x['School Code'][4:], axis = 1)\n",
    "df['school'] = df.apply(lambda x: splitSchool(x, 'school'), axis = 1)"
   ]
  },
  {
   "cell_type": "code",
   "execution_count": 6,
   "metadata": {},
   "outputs": [],
   "source": [
    "# add performance level\n",
    "df['performance_level'] = 'Proficient and Advanced'\n",
    "df['proficient_tf'] = 1"
   ]
  },
  {
   "cell_type": "code",
   "execution_count": 7,
   "metadata": {},
   "outputs": [],
   "source": [
    "# drop unneeded columns\n",
    "df = df[['year', 'district_id', 'district', 'school_id', 'school', 'grade', 'group_state', 'subject', 'proficient_tf', 'num_at_level', 'num_tested']]"
   ]
  },
  {
   "cell_type": "code",
   "execution_count": 8,
   "metadata": {},
   "outputs": [
    {
     "name": "stdout",
     "output_type": "stream",
     "text": [
      "(700035, 11)\n",
      "(698004, 11)\n"
     ]
    }
   ],
   "source": [
    "# remove state total rows\n",
    "print(df.shape)\n",
    "df = df[df['district'] != 'State Totals']\n",
    "print(df.shape)"
   ]
  },
  {
   "cell_type": "code",
   "execution_count": 9,
   "metadata": {},
   "outputs": [],
   "source": [
    "# convert num_at_level and num_tested to float\n",
    "def toFloat(row, column):\n",
    "    try:\n",
    "        return float(row[column])\n",
    "    except:\n",
    "        return np.nan\n",
    "\n",
    "df['num_at_level'] = df.apply(lambda x: toFloat(x,'num_at_level'), axis=1)\n",
    "df['num_tested'] = df.apply(lambda x: toFloat(x,'num_tested'), axis=1)"
   ]
  },
  {
   "cell_type": "code",
   "execution_count": 10,
   "metadata": {},
   "outputs": [
    {
     "name": "stdout",
     "output_type": "stream",
     "text": [
      "(698004, 11)\n",
      "(697677, 11)\n",
      "(685406, 11)\n"
     ]
    }
   ],
   "source": [
    "# remove rows with null scores\n",
    "print(df.shape)\n",
    "df = df.dropna(subset=['num_at_level', 'num_tested'])\n",
    "print(df.shape)\n",
    "df = df[df['num_at_level'] != 0]\n",
    "print(df.shape)"
   ]
  },
  {
   "cell_type": "code",
   "execution_count": 11,
   "metadata": {},
   "outputs": [
    {
     "name": "stdout",
     "output_type": "stream",
     "text": [
      "(685406, 11)\n",
      "(685406, 10)\n",
      "(685406, 10)\n",
      "(685406, 11)\n"
     ]
    }
   ],
   "source": [
    "# roll up since we imported next gen scores for some groups\n",
    "print(df.shape)\n",
    "grouped_by = ['year', 'district_id', 'district', 'school_id', 'school', 'grade', 'group_state', 'subject', 'proficient_tf']\n",
    "df1 = df.groupby(grouped_by, as_index=False)['num_at_level'].sum()\n",
    "print(df1.shape)\n",
    "df2 = df.groupby(grouped_by, as_index=False)['num_tested'].sum()\n",
    "print(df2.shape)\n",
    "df = df1.merge(df2, on=grouped_by)\n",
    "print(df.shape)\n",
    "del df1\n",
    "del df2"
   ]
  },
  {
   "cell_type": "code",
   "execution_count": 12,
   "metadata": {},
   "outputs": [],
   "source": [
    "# create pct_at_level\n",
    "df['pct_at_level'] = df['num_at_level'] / df['num_tested']"
   ]
  },
  {
   "cell_type": "code",
   "execution_count": 13,
   "metadata": {},
   "outputs": [
    {
     "name": "stdout",
     "output_type": "stream",
     "text": [
      "year              object\n",
      "district_id       object\n",
      "district          object\n",
      "school_id         object\n",
      "school            object\n",
      "grade             object\n",
      "group_state       object\n",
      "subject           object\n",
      "proficient_tf      int64\n",
      "num_at_level     float64\n",
      "num_tested       float64\n",
      "pct_at_level     float64\n",
      "dtype: object\n",
      "year              object\n",
      "district_id       object\n",
      "district          object\n",
      "school_id         object\n",
      "school            object\n",
      "grade             object\n",
      "group_state       object\n",
      "subject           object\n",
      "proficient_tf       bool\n",
      "num_at_level     float64\n",
      "num_tested       float64\n",
      "pct_at_level     float64\n",
      "dtype: object\n"
     ]
    }
   ],
   "source": [
    "# unify data types\n",
    "print(df.dtypes)\n",
    "df['proficient_tf'] = df['proficient_tf'].astype(bool)\n",
    "print(df.dtypes)"
   ]
  },
  {
   "cell_type": "code",
   "execution_count": 15,
   "metadata": {},
   "outputs": [],
   "source": [
    "# export final dataset\n",
    "df.to_csv('./data/finalized/ma_proficiency.csv', index=False)"
   ]
  },
  {
   "cell_type": "code",
   "execution_count": null,
   "metadata": {},
   "outputs": [],
   "source": []
  }
 ],
 "metadata": {
  "kernelspec": {
   "display_name": "Python 3",
   "language": "python",
   "name": "python3"
  },
  "language_info": {
   "codemirror_mode": {
    "name": "ipython",
    "version": 3
   },
   "file_extension": ".py",
   "mimetype": "text/x-python",
   "name": "python",
   "nbconvert_exporter": "python",
   "pygments_lexer": "ipython3",
   "version": "3.7.3"
  }
 },
 "nbformat": 4,
 "nbformat_minor": 4
}
